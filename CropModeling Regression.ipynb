{
 "cells": [
  {
   "cell_type": "markdown",
   "metadata": {},
   "source": [
    "# Q\n",
    "\n",
    "* Categorical var: Should I try OneHotEncoder() instead of dummies, does it change performance?"
   ]
  },
  {
   "cell_type": "code",
   "execution_count": 229,
   "metadata": {},
   "outputs": [],
   "source": [
    "import pandas as pd\n",
    "import numpy as np\n",
    "from sklearn.ensemble import RandomForestClassifier\n",
    "import sklearn.metrics \n",
    "from sklearn.neighbors import KNeighborsClassifier\n",
    "from sklearn.neighbors import KNeighborsRegressor\n",
    "from sklearn.linear_model import LinearRegression\n",
    "from sklearn.preprocessing import MinMaxScaler\n",
    "from sklearn.model_selection import train_test_split\n",
    "from sklearn.model_selection import cross_val_score\n",
    "\n",
    "from scipy import stats\n",
    "\n",
    "import hazelbean as hb\n",
    "L = hb.get_logger()\n",
    "\n",
    "import seaborn as sns\n",
    "import matplotlib \n",
    "%matplotlib inline\n",
    "\n",
    "import matplotlib.pyplot as plt"
   ]
  },
  {
   "cell_type": "code",
   "execution_count": 230,
   "metadata": {},
   "outputs": [],
   "source": [
    "import xgboost as xgb"
   ]
  },
  {
   "cell_type": "markdown",
   "metadata": {},
   "source": [
    "# Load dataset"
   ]
  },
  {
   "cell_type": "code",
   "execution_count": 231,
   "metadata": {},
   "outputs": [
    {
     "name": "stderr",
     "output_type": "stream",
     "text": [
      "Loading data\n",
      "Data loaded (1/2)\n",
      "All data loaded\n",
      "Data merged\n"
     ]
    }
   ],
   "source": [
    "L.info('Loading data')\n",
    "crop_types_df = pd.read_csv('../ipbes_invest_crop_yield_project/intermediate/aggregate_crops_by_type/aggregated_crop_data.csv')\n",
    "L.info('Data loaded (1/2)')\n",
    "df_land = pd.read_csv('../ipbes_invest_crop_yield_project/intermediate/create_baseline_regression_data/baseline_regression_data.csv')\n",
    "L.info('All data loaded')\n",
    "\n",
    "df = df_land.merge(crop_types_df,how='outer',on='pixel_id')\n",
    "L.info('Data merged')\n",
    "\n",
    "df = df.drop(labels=['c3_annual_calories_per_ha', 'c3_perennial_calories_per_ha',\n",
    "       'c4_annual_calories_per_ha', 'c4_perennial_calories_per_ha',\n",
    "       'nitrogen_fixer_calories_per_ha'], axis=1)"
   ]
  },
  {
   "cell_type": "markdown",
   "metadata": {},
   "source": [
    "### Add climate zones"
   ]
  },
  {
   "cell_type": "code",
   "execution_count": 169,
   "metadata": {},
   "outputs": [
    {
     "name": "stderr",
     "output_type": "stream",
     "text": [
      "Loading data\n",
      "Data loaded\n"
     ]
    }
   ],
   "source": [
    "climate_zones_map = {1:'Af',2:'Am',3:'Aw',\n",
    "                     5:'BWk',4:'BWh',7:'BSk',6:'BSh',\n",
    "                     14:'Cfa',15:'Cfb',16:'Cfc',8:'Csa',\n",
    "                     9:'Csb',10:'Csc',11:'Cwa',12:'Cwb',13:'Cwc',\n",
    "                     25:'Dfa',26:'Dfb',27:'Dfc',28:'Dfd',17:'Dsa',18:'Dsb',19:'Dsc',\n",
    "                     20:'Dsd',21:'Dwa',22:'Dwb',23:'Dwc',24:'Dwd',\n",
    "                     30:'EF',29:'ET'}\n",
    "baseline_df['climate_zone'] = baseline_df['climate_zones'].map(climate_zones_map)\n",
    "baseline_df = baseline_df.drop(['Unnamed: 0','climate_zones','c3_annual_calories', 'c3_perennial_calories',\n",
    "       'c4_annual_calories', 'c4_perennial_calories',\n",
    "       'nitrogen_fixer_calories'], axis=1)"
   ]
  },
  {
   "cell_type": "markdown",
   "metadata": {},
   "source": [
    "# 2 Save validation set"
   ]
  },
  {
   "cell_type": "code",
   "execution_count": null,
   "metadata": {},
   "outputs": [],
   "source": [
    "x = baseline_df.drop(['calories_per_cell'], axis=1)\n",
    "y = baseline_df['calories_per_cell']\n",
    "\n",
    "X, X_validation, Y, y_validation = train_test_split(x, y)"
   ]
  },
  {
   "cell_type": "markdown",
   "metadata": {},
   "source": [
    "#### OR: Select a subset for faster computation (means the rest is a validation set!)"
   ]
  },
  {
   "cell_type": "code",
   "execution_count": 197,
   "metadata": {},
   "outputs": [],
   "source": [
    "subset = baseline_df.sample(frac=0.01, replace=False, weights=None, random_state=None, axis=0)\n",
    "df = subset\n"
   ]
  },
  {
   "cell_type": "code",
   "execution_count": 205,
   "metadata": {},
   "outputs": [
    {
     "data": {
      "text/html": [
       "<div>\n",
       "<style scoped>\n",
       "    .dataframe tbody tr th:only-of-type {\n",
       "        vertical-align: middle;\n",
       "    }\n",
       "\n",
       "    .dataframe tbody tr th {\n",
       "        vertical-align: top;\n",
       "    }\n",
       "\n",
       "    .dataframe thead th {\n",
       "        text-align: right;\n",
       "    }\n",
       "</style>\n",
       "<table border=\"1\" class=\"dataframe\">\n",
       "  <thead>\n",
       "    <tr style=\"text-align: right;\">\n",
       "      <th></th>\n",
       "      <th>calories_per_cell</th>\n",
       "      <th>precip</th>\n",
       "      <th>temperature</th>\n",
       "      <th>gdp_2000</th>\n",
       "      <th>minutes_to_market</th>\n",
       "      <th>workability</th>\n",
       "      <th>toxicity</th>\n",
       "      <th>rooting_conditions</th>\n",
       "      <th>protected_areas</th>\n",
       "      <th>oxygen_availability</th>\n",
       "      <th>nutrient_retention</th>\n",
       "      <th>nutrient_availability</th>\n",
       "      <th>excess_salts</th>\n",
       "      <th>gdp_gecon</th>\n",
       "      <th>slope</th>\n",
       "      <th>altitude</th>\n",
       "      <th>climate_zone</th>\n",
       "    </tr>\n",
       "  </thead>\n",
       "  <tbody>\n",
       "    <tr>\n",
       "      <th>711407</th>\n",
       "      <td>0.000000e+00</td>\n",
       "      <td>578.0</td>\n",
       "      <td>0.0</td>\n",
       "      <td>33372.029454</td>\n",
       "      <td>2763.0</td>\n",
       "      <td>0.0</td>\n",
       "      <td>0.0</td>\n",
       "      <td>0.00</td>\n",
       "      <td>1.0</td>\n",
       "      <td>0.00</td>\n",
       "      <td>0.00</td>\n",
       "      <td>0.00</td>\n",
       "      <td>0.0</td>\n",
       "      <td>30797.5370</td>\n",
       "      <td>88.499820</td>\n",
       "      <td>103.0</td>\n",
       "      <td>NaN</td>\n",
       "    </tr>\n",
       "    <tr>\n",
       "      <th>1390993</th>\n",
       "      <td>0.000000e+00</td>\n",
       "      <td>8.0</td>\n",
       "      <td>230.0</td>\n",
       "      <td>6901.625270</td>\n",
       "      <td>480.0</td>\n",
       "      <td>0.0</td>\n",
       "      <td>0.0</td>\n",
       "      <td>0.00</td>\n",
       "      <td>1.0</td>\n",
       "      <td>0.00</td>\n",
       "      <td>0.00</td>\n",
       "      <td>0.00</td>\n",
       "      <td>0.0</td>\n",
       "      <td>0.0000</td>\n",
       "      <td>87.556160</td>\n",
       "      <td>496.0</td>\n",
       "      <td>NaN</td>\n",
       "    </tr>\n",
       "    <tr>\n",
       "      <th>1128517</th>\n",
       "      <td>0.000000e+00</td>\n",
       "      <td>1897.0</td>\n",
       "      <td>101.0</td>\n",
       "      <td>33963.977849</td>\n",
       "      <td>130.0</td>\n",
       "      <td>0.5</td>\n",
       "      <td>1.0</td>\n",
       "      <td>0.25</td>\n",
       "      <td>1.0</td>\n",
       "      <td>1.00</td>\n",
       "      <td>1.00</td>\n",
       "      <td>1.00</td>\n",
       "      <td>1.0</td>\n",
       "      <td>25041.4410</td>\n",
       "      <td>89.946650</td>\n",
       "      <td>294.0</td>\n",
       "      <td>NaN</td>\n",
       "    </tr>\n",
       "    <tr>\n",
       "      <th>1954349</th>\n",
       "      <td>5.244573e+08</td>\n",
       "      <td>855.0</td>\n",
       "      <td>213.0</td>\n",
       "      <td>582.624548</td>\n",
       "      <td>1581.0</td>\n",
       "      <td>1.0</td>\n",
       "      <td>1.0</td>\n",
       "      <td>1.00</td>\n",
       "      <td>1.0</td>\n",
       "      <td>1.00</td>\n",
       "      <td>0.75</td>\n",
       "      <td>0.75</td>\n",
       "      <td>1.0</td>\n",
       "      <td>813.0152</td>\n",
       "      <td>89.507300</td>\n",
       "      <td>1150.0</td>\n",
       "      <td>NaN</td>\n",
       "    </tr>\n",
       "    <tr>\n",
       "      <th>1688115</th>\n",
       "      <td>5.104816e+08</td>\n",
       "      <td>3848.0</td>\n",
       "      <td>273.0</td>\n",
       "      <td>3036.774027</td>\n",
       "      <td>635.0</td>\n",
       "      <td>1.0</td>\n",
       "      <td>1.0</td>\n",
       "      <td>1.00</td>\n",
       "      <td>1.0</td>\n",
       "      <td>0.75</td>\n",
       "      <td>1.00</td>\n",
       "      <td>1.00</td>\n",
       "      <td>1.0</td>\n",
       "      <td>5725.9670</td>\n",
       "      <td>89.474045</td>\n",
       "      <td>22.0</td>\n",
       "      <td>NaN</td>\n",
       "    </tr>\n",
       "  </tbody>\n",
       "</table>\n",
       "</div>"
      ],
      "text/plain": [
       "         calories_per_cell  precip  temperature      gdp_2000  \\\n",
       "711407        0.000000e+00   578.0          0.0  33372.029454   \n",
       "1390993       0.000000e+00     8.0        230.0   6901.625270   \n",
       "1128517       0.000000e+00  1897.0        101.0  33963.977849   \n",
       "1954349       5.244573e+08   855.0        213.0    582.624548   \n",
       "1688115       5.104816e+08  3848.0        273.0   3036.774027   \n",
       "\n",
       "         minutes_to_market  workability  toxicity  rooting_conditions  \\\n",
       "711407              2763.0          0.0       0.0                0.00   \n",
       "1390993              480.0          0.0       0.0                0.00   \n",
       "1128517              130.0          0.5       1.0                0.25   \n",
       "1954349             1581.0          1.0       1.0                1.00   \n",
       "1688115              635.0          1.0       1.0                1.00   \n",
       "\n",
       "         protected_areas  oxygen_availability  nutrient_retention  \\\n",
       "711407               1.0                 0.00                0.00   \n",
       "1390993              1.0                 0.00                0.00   \n",
       "1128517              1.0                 1.00                1.00   \n",
       "1954349              1.0                 1.00                0.75   \n",
       "1688115              1.0                 0.75                1.00   \n",
       "\n",
       "         nutrient_availability  excess_salts   gdp_gecon      slope  altitude  \\\n",
       "711407                    0.00           0.0  30797.5370  88.499820     103.0   \n",
       "1390993                   0.00           0.0      0.0000  87.556160     496.0   \n",
       "1128517                   1.00           1.0  25041.4410  89.946650     294.0   \n",
       "1954349                   0.75           1.0    813.0152  89.507300    1150.0   \n",
       "1688115                   1.00           1.0   5725.9670  89.474045      22.0   \n",
       "\n",
       "        climate_zone  \n",
       "711407           NaN  \n",
       "1390993          NaN  \n",
       "1128517          NaN  \n",
       "1954349          NaN  \n",
       "1688115          NaN  "
      ]
     },
     "execution_count": 205,
     "metadata": {},
     "output_type": "execute_result"
    }
   ],
   "source": [
    "df.head()"
   ]
  },
  {
   "cell_type": "code",
   "execution_count": 204,
   "metadata": {},
   "outputs": [
    {
     "data": {
      "text/html": [
       "<div>\n",
       "<style scoped>\n",
       "    .dataframe tbody tr th:only-of-type {\n",
       "        vertical-align: middle;\n",
       "    }\n",
       "\n",
       "    .dataframe tbody tr th {\n",
       "        vertical-align: top;\n",
       "    }\n",
       "\n",
       "    .dataframe thead th {\n",
       "        text-align: right;\n",
       "    }\n",
       "</style>\n",
       "<table border=\"1\" class=\"dataframe\">\n",
       "  <thead>\n",
       "    <tr style=\"text-align: right;\">\n",
       "      <th></th>\n",
       "      <th>calories_per_cell</th>\n",
       "      <th>precip</th>\n",
       "      <th>temperature</th>\n",
       "      <th>gdp_2000</th>\n",
       "      <th>minutes_to_market</th>\n",
       "      <th>workability</th>\n",
       "      <th>toxicity</th>\n",
       "      <th>rooting_conditions</th>\n",
       "      <th>protected_areas</th>\n",
       "      <th>oxygen_availability</th>\n",
       "      <th>nutrient_retention</th>\n",
       "      <th>nutrient_availability</th>\n",
       "      <th>excess_salts</th>\n",
       "      <th>gdp_gecon</th>\n",
       "      <th>slope</th>\n",
       "      <th>altitude</th>\n",
       "      <th>climate_zone</th>\n",
       "      <th>has_ag</th>\n",
       "    </tr>\n",
       "  </thead>\n",
       "  <tbody>\n",
       "    <tr>\n",
       "      <th>711407</th>\n",
       "      <td>0.000000</td>\n",
       "      <td>578.0</td>\n",
       "      <td>0.0</td>\n",
       "      <td>33372.029454</td>\n",
       "      <td>2763.0</td>\n",
       "      <td>0.0</td>\n",
       "      <td>0.0</td>\n",
       "      <td>0.00</td>\n",
       "      <td>1.0</td>\n",
       "      <td>0.00</td>\n",
       "      <td>0.00</td>\n",
       "      <td>0.00</td>\n",
       "      <td>0.0</td>\n",
       "      <td>30797.5370</td>\n",
       "      <td>88.499820</td>\n",
       "      <td>103.0</td>\n",
       "      <td>NaN</td>\n",
       "      <td>0</td>\n",
       "    </tr>\n",
       "    <tr>\n",
       "      <th>1390993</th>\n",
       "      <td>0.000000</td>\n",
       "      <td>8.0</td>\n",
       "      <td>230.0</td>\n",
       "      <td>6901.625270</td>\n",
       "      <td>480.0</td>\n",
       "      <td>0.0</td>\n",
       "      <td>0.0</td>\n",
       "      <td>0.00</td>\n",
       "      <td>1.0</td>\n",
       "      <td>0.00</td>\n",
       "      <td>0.00</td>\n",
       "      <td>0.00</td>\n",
       "      <td>0.0</td>\n",
       "      <td>0.0000</td>\n",
       "      <td>87.556160</td>\n",
       "      <td>496.0</td>\n",
       "      <td>NaN</td>\n",
       "      <td>0</td>\n",
       "    </tr>\n",
       "    <tr>\n",
       "      <th>1128517</th>\n",
       "      <td>0.000000</td>\n",
       "      <td>1897.0</td>\n",
       "      <td>101.0</td>\n",
       "      <td>33963.977849</td>\n",
       "      <td>130.0</td>\n",
       "      <td>0.5</td>\n",
       "      <td>1.0</td>\n",
       "      <td>0.25</td>\n",
       "      <td>1.0</td>\n",
       "      <td>1.00</td>\n",
       "      <td>1.00</td>\n",
       "      <td>1.00</td>\n",
       "      <td>1.0</td>\n",
       "      <td>25041.4410</td>\n",
       "      <td>89.946650</td>\n",
       "      <td>294.0</td>\n",
       "      <td>NaN</td>\n",
       "      <td>0</td>\n",
       "    </tr>\n",
       "    <tr>\n",
       "      <th>1954349</th>\n",
       "      <td>20.077875</td>\n",
       "      <td>855.0</td>\n",
       "      <td>213.0</td>\n",
       "      <td>582.624548</td>\n",
       "      <td>1581.0</td>\n",
       "      <td>1.0</td>\n",
       "      <td>1.0</td>\n",
       "      <td>1.00</td>\n",
       "      <td>1.0</td>\n",
       "      <td>1.00</td>\n",
       "      <td>0.75</td>\n",
       "      <td>0.75</td>\n",
       "      <td>1.0</td>\n",
       "      <td>813.0152</td>\n",
       "      <td>89.507300</td>\n",
       "      <td>1150.0</td>\n",
       "      <td>NaN</td>\n",
       "      <td>1</td>\n",
       "    </tr>\n",
       "    <tr>\n",
       "      <th>1688115</th>\n",
       "      <td>20.050865</td>\n",
       "      <td>3848.0</td>\n",
       "      <td>273.0</td>\n",
       "      <td>3036.774027</td>\n",
       "      <td>635.0</td>\n",
       "      <td>1.0</td>\n",
       "      <td>1.0</td>\n",
       "      <td>1.00</td>\n",
       "      <td>1.0</td>\n",
       "      <td>0.75</td>\n",
       "      <td>1.00</td>\n",
       "      <td>1.00</td>\n",
       "      <td>1.0</td>\n",
       "      <td>5725.9670</td>\n",
       "      <td>89.474045</td>\n",
       "      <td>22.0</td>\n",
       "      <td>NaN</td>\n",
       "      <td>1</td>\n",
       "    </tr>\n",
       "  </tbody>\n",
       "</table>\n",
       "</div>"
      ],
      "text/plain": [
       "         calories_per_cell  precip  temperature      gdp_2000  \\\n",
       "711407            0.000000   578.0          0.0  33372.029454   \n",
       "1390993           0.000000     8.0        230.0   6901.625270   \n",
       "1128517           0.000000  1897.0        101.0  33963.977849   \n",
       "1954349          20.077875   855.0        213.0    582.624548   \n",
       "1688115          20.050865  3848.0        273.0   3036.774027   \n",
       "\n",
       "         minutes_to_market  workability  toxicity  rooting_conditions  \\\n",
       "711407              2763.0          0.0       0.0                0.00   \n",
       "1390993              480.0          0.0       0.0                0.00   \n",
       "1128517              130.0          0.5       1.0                0.25   \n",
       "1954349             1581.0          1.0       1.0                1.00   \n",
       "1688115              635.0          1.0       1.0                1.00   \n",
       "\n",
       "         protected_areas  oxygen_availability  nutrient_retention  \\\n",
       "711407               1.0                 0.00                0.00   \n",
       "1390993              1.0                 0.00                0.00   \n",
       "1128517              1.0                 1.00                1.00   \n",
       "1954349              1.0                 1.00                0.75   \n",
       "1688115              1.0                 0.75                1.00   \n",
       "\n",
       "         nutrient_availability  excess_salts   gdp_gecon      slope  altitude  \\\n",
       "711407                    0.00           0.0  30797.5370  88.499820     103.0   \n",
       "1390993                   0.00           0.0      0.0000  87.556160     496.0   \n",
       "1128517                   1.00           1.0  25041.4410  89.946650     294.0   \n",
       "1954349                   0.75           1.0    813.0152  89.507300    1150.0   \n",
       "1688115                   1.00           1.0   5725.9670  89.474045      22.0   \n",
       "\n",
       "        climate_zone  has_ag  \n",
       "711407           NaN       0  \n",
       "1390993          NaN       0  \n",
       "1128517          NaN       0  \n",
       "1954349          NaN       1  \n",
       "1688115          NaN       1  "
      ]
     },
     "execution_count": 204,
     "metadata": {},
     "output_type": "execute_result"
    }
   ],
   "source": [
    "dfLog.head()"
   ]
  },
  {
   "cell_type": "markdown",
   "metadata": {},
   "source": [
    "\n",
    "# 3 Data transformation \n",
    "\n",
    "### (a) Log\n",
    "\n",
    "Problem: distribution super highly skewed left, stats test makes assumptions of normality.. :/\n",
    "\n",
    "\n",
    "But first create a binary (has_ag) column for pixels where calories = 0 (because log doesn't deal with zeros)"
   ]
  },
  {
   "cell_type": "code",
   "execution_count": 203,
   "metadata": {},
   "outputs": [
    {
     "name": "stderr",
     "output_type": "stream",
     "text": [
      "/Users/charlotteweil1/anaconda/envs/Justin/lib/python3.6/site-packages/ipykernel/__main__.py:8: RuntimeWarning: divide by zero encountered in log\n"
     ]
    }
   ],
   "source": [
    "dfLog = pd.DataFrame.copy(df)\n",
    "\n",
    "\n",
    "dfLog['has_ag'] = pd.Series(len(dfLog['calories_per_cell']), index=dfLog.index)\n",
    "dfLog['has_ag'] = 0 \n",
    "dfLog.loc[dfLog['calories_per_cell']>0,'has_ag'] = 1\n",
    "\n",
    "dfLog.loc[dfLog['has_ag']==1,'calories_per_cell'] = np.log(dfLog['calories_per_cell'])\n",
    " \n",
    "## Why is the code above changing not only dfLog but also df itself ?! WTF??!\n",
    "## Till I fugure this out - re-run subset box before each data transfo!\n"
   ]
  },
  {
   "cell_type": "markdown",
   "metadata": {},
   "source": [
    "### (b) Binning"
   ]
  },
  {
   "cell_type": "code",
   "execution_count": 207,
   "metadata": {},
   "outputs": [
    {
     "ename": "TypeError",
     "evalue": "'Series' objects are mutable, thus they cannot be hashed",
     "output_type": "error",
     "traceback": [
      "\u001b[0;31m---------------------------------------------------------------------------\u001b[0m",
      "\u001b[0;31mTypeError\u001b[0m                                 Traceback (most recent call last)",
      "\u001b[0;32m<ipython-input-207-be56f73452b8>\u001b[0m in \u001b[0;36m<module>\u001b[0;34m()\u001b[0m\n\u001b[1;32m      7\u001b[0m \u001b[0;34m\u001b[0m\u001b[0m\n\u001b[1;32m      8\u001b[0m \u001b[0;31m# Make bins 1-5 for ag cells\u001b[0m\u001b[0;34m\u001b[0m\u001b[0;34m\u001b[0m\u001b[0m\n\u001b[0;32m----> 9\u001b[0;31m \u001b[0mdfBin\u001b[0m\u001b[0;34m[\u001b[0m\u001b[0mdfBin\u001b[0m\u001b[0;34m[\u001b[0m\u001b[0;34m'has_ag'\u001b[0m\u001b[0;34m]\u001b[0m\u001b[0;34m==\u001b[0m\u001b[0;36m1\u001b[0m\u001b[0;34m,\u001b[0m\u001b[0;34m'calories_per_cell'\u001b[0m\u001b[0;34m]\u001b[0m \u001b[0;34m=\u001b[0m \u001b[0mpd\u001b[0m\u001b[0;34m.\u001b[0m\u001b[0mcut\u001b[0m\u001b[0;34m(\u001b[0m\u001b[0mdfBin\u001b[0m\u001b[0;34m[\u001b[0m\u001b[0mdfBin\u001b[0m\u001b[0;34m[\u001b[0m\u001b[0;34m'has_ag'\u001b[0m\u001b[0;34m]\u001b[0m\u001b[0;34m==\u001b[0m\u001b[0;36m1\u001b[0m\u001b[0;34m,\u001b[0m\u001b[0;34m'calories_per_cell'\u001b[0m\u001b[0;34m]\u001b[0m\u001b[0;34m,\u001b[0m\u001b[0mbins\u001b[0m\u001b[0;34m=\u001b[0m\u001b[0;36m5\u001b[0m\u001b[0;34m,\u001b[0m\u001b[0mlabels\u001b[0m\u001b[0;34m=\u001b[0m\u001b[0;34m[\u001b[0m\u001b[0;36m1\u001b[0m\u001b[0;34m,\u001b[0m\u001b[0;36m2\u001b[0m\u001b[0;34m,\u001b[0m\u001b[0;36m3\u001b[0m\u001b[0;34m,\u001b[0m\u001b[0;36m4\u001b[0m\u001b[0;34m,\u001b[0m\u001b[0;36m5\u001b[0m\u001b[0;34m]\u001b[0m\u001b[0;34m)\u001b[0m\u001b[0;34m\u001b[0m\u001b[0m\n\u001b[0m\u001b[1;32m     10\u001b[0m \u001b[0;34m\u001b[0m\u001b[0m\n\u001b[1;32m     11\u001b[0m \u001b[0;31m## Why ?!\u001b[0m\u001b[0;34m\u001b[0m\u001b[0;34m\u001b[0m\u001b[0m\n",
      "\u001b[0;32m~/anaconda/envs/Justin/lib/python3.6/site-packages/pandas/core/frame.py\u001b[0m in \u001b[0;36m__getitem__\u001b[0;34m(self, key)\u001b[0m\n\u001b[1;32m   2137\u001b[0m             \u001b[0;32mreturn\u001b[0m \u001b[0mself\u001b[0m\u001b[0;34m.\u001b[0m\u001b[0m_getitem_multilevel\u001b[0m\u001b[0;34m(\u001b[0m\u001b[0mkey\u001b[0m\u001b[0;34m)\u001b[0m\u001b[0;34m\u001b[0m\u001b[0m\n\u001b[1;32m   2138\u001b[0m         \u001b[0;32melse\u001b[0m\u001b[0;34m:\u001b[0m\u001b[0;34m\u001b[0m\u001b[0m\n\u001b[0;32m-> 2139\u001b[0;31m             \u001b[0;32mreturn\u001b[0m \u001b[0mself\u001b[0m\u001b[0;34m.\u001b[0m\u001b[0m_getitem_column\u001b[0m\u001b[0;34m(\u001b[0m\u001b[0mkey\u001b[0m\u001b[0;34m)\u001b[0m\u001b[0;34m\u001b[0m\u001b[0m\n\u001b[0m\u001b[1;32m   2140\u001b[0m \u001b[0;34m\u001b[0m\u001b[0m\n\u001b[1;32m   2141\u001b[0m     \u001b[0;32mdef\u001b[0m \u001b[0m_getitem_column\u001b[0m\u001b[0;34m(\u001b[0m\u001b[0mself\u001b[0m\u001b[0;34m,\u001b[0m \u001b[0mkey\u001b[0m\u001b[0;34m)\u001b[0m\u001b[0;34m:\u001b[0m\u001b[0;34m\u001b[0m\u001b[0m\n",
      "\u001b[0;32m~/anaconda/envs/Justin/lib/python3.6/site-packages/pandas/core/frame.py\u001b[0m in \u001b[0;36m_getitem_column\u001b[0;34m(self, key)\u001b[0m\n\u001b[1;32m   2144\u001b[0m         \u001b[0;31m# get column\u001b[0m\u001b[0;34m\u001b[0m\u001b[0;34m\u001b[0m\u001b[0m\n\u001b[1;32m   2145\u001b[0m         \u001b[0;32mif\u001b[0m \u001b[0mself\u001b[0m\u001b[0;34m.\u001b[0m\u001b[0mcolumns\u001b[0m\u001b[0;34m.\u001b[0m\u001b[0mis_unique\u001b[0m\u001b[0;34m:\u001b[0m\u001b[0;34m\u001b[0m\u001b[0m\n\u001b[0;32m-> 2146\u001b[0;31m             \u001b[0;32mreturn\u001b[0m \u001b[0mself\u001b[0m\u001b[0;34m.\u001b[0m\u001b[0m_get_item_cache\u001b[0m\u001b[0;34m(\u001b[0m\u001b[0mkey\u001b[0m\u001b[0;34m)\u001b[0m\u001b[0;34m\u001b[0m\u001b[0m\n\u001b[0m\u001b[1;32m   2147\u001b[0m \u001b[0;34m\u001b[0m\u001b[0m\n\u001b[1;32m   2148\u001b[0m         \u001b[0;31m# duplicate columns & possible reduce dimensionality\u001b[0m\u001b[0;34m\u001b[0m\u001b[0;34m\u001b[0m\u001b[0m\n",
      "\u001b[0;32m~/anaconda/envs/Justin/lib/python3.6/site-packages/pandas/core/generic.py\u001b[0m in \u001b[0;36m_get_item_cache\u001b[0;34m(self, item)\u001b[0m\n\u001b[1;32m   1838\u001b[0m         \u001b[0;34m\"\"\"Return the cached item, item represents a label indexer.\"\"\"\u001b[0m\u001b[0;34m\u001b[0m\u001b[0m\n\u001b[1;32m   1839\u001b[0m         \u001b[0mcache\u001b[0m \u001b[0;34m=\u001b[0m \u001b[0mself\u001b[0m\u001b[0;34m.\u001b[0m\u001b[0m_item_cache\u001b[0m\u001b[0;34m\u001b[0m\u001b[0m\n\u001b[0;32m-> 1840\u001b[0;31m         \u001b[0mres\u001b[0m \u001b[0;34m=\u001b[0m \u001b[0mcache\u001b[0m\u001b[0;34m.\u001b[0m\u001b[0mget\u001b[0m\u001b[0;34m(\u001b[0m\u001b[0mitem\u001b[0m\u001b[0;34m)\u001b[0m\u001b[0;34m\u001b[0m\u001b[0m\n\u001b[0m\u001b[1;32m   1841\u001b[0m         \u001b[0;32mif\u001b[0m \u001b[0mres\u001b[0m \u001b[0;32mis\u001b[0m \u001b[0;32mNone\u001b[0m\u001b[0;34m:\u001b[0m\u001b[0;34m\u001b[0m\u001b[0m\n\u001b[1;32m   1842\u001b[0m             \u001b[0mvalues\u001b[0m \u001b[0;34m=\u001b[0m \u001b[0mself\u001b[0m\u001b[0;34m.\u001b[0m\u001b[0m_data\u001b[0m\u001b[0;34m.\u001b[0m\u001b[0mget\u001b[0m\u001b[0;34m(\u001b[0m\u001b[0mitem\u001b[0m\u001b[0;34m)\u001b[0m\u001b[0;34m\u001b[0m\u001b[0m\n",
      "\u001b[0;32m~/anaconda/envs/Justin/lib/python3.6/site-packages/pandas/core/generic.py\u001b[0m in \u001b[0;36m__hash__\u001b[0;34m(self)\u001b[0m\n\u001b[1;32m   1043\u001b[0m     \u001b[0;32mdef\u001b[0m \u001b[0m__hash__\u001b[0m\u001b[0;34m(\u001b[0m\u001b[0mself\u001b[0m\u001b[0;34m)\u001b[0m\u001b[0;34m:\u001b[0m\u001b[0;34m\u001b[0m\u001b[0m\n\u001b[1;32m   1044\u001b[0m         raise TypeError('{0!r} objects are mutable, thus they cannot be'\n\u001b[0;32m-> 1045\u001b[0;31m                         ' hashed'.format(self.__class__.__name__))\n\u001b[0m\u001b[1;32m   1046\u001b[0m \u001b[0;34m\u001b[0m\u001b[0m\n\u001b[1;32m   1047\u001b[0m     \u001b[0;32mdef\u001b[0m \u001b[0m__iter__\u001b[0m\u001b[0;34m(\u001b[0m\u001b[0mself\u001b[0m\u001b[0;34m)\u001b[0m\u001b[0;34m:\u001b[0m\u001b[0;34m\u001b[0m\u001b[0m\n",
      "\u001b[0;31mTypeError\u001b[0m: 'Series' objects are mutable, thus they cannot be hashed"
     ]
    }
   ],
   "source": [
    "dfBin = pd.DataFrame.copy(df)\n",
    "\n",
    "#Make bin 0 for no ag cells\n",
    "dfBin['has_ag'] = pd.Series(len(dfBin['calories_per_cell']), index=dfBin.index)\n",
    "dfBin['has_ag'] = 0 \n",
    "dfBin.loc[dfBin['calories_per_cell']>0,'has_ag'] = 1\n",
    "\n",
    "# Make bins 1-5 for ag cells\n",
    "dfBin[dfBin['has_ag']==1,'calories_per_cell'] = pd.cut(dfBin[dfBin['has_ag']==1,'calories_per_cell'],bins=5,labels=[1,2,3,4,5])\n",
    "\n",
    "## Why ?!\n"
   ]
  },
  {
   "cell_type": "markdown",
   "metadata": {},
   "source": [
    "### (c) Log + binning"
   ]
  },
  {
   "cell_type": "code",
   "execution_count": 93,
   "metadata": {},
   "outputs": [],
   "source": [
    "dfLogBin = dfLog\n",
    "\n",
    "dfLogBin['calories_per_cell'] = pd.cut(dfLogBin['calories_per_cell'], 5,labels=[1,2,3,4,5])\n",
    "\n",
    "## Same Why is the code above changing not only dfLogBin but also dfLog itself ?! WTF??!\n",
    "## Till I fugure this out - re-run subset box before each data transfo!\n"
   ]
  },
  {
   "cell_type": "markdown",
   "metadata": {},
   "source": [
    "# 4 Train/test split"
   ]
  },
  {
   "cell_type": "code",
   "execution_count": null,
   "metadata": {},
   "outputs": [],
   "source": [
    "#included in models fctions\n",
    "\n",
    "###  For reference : Train/Test Split\n",
    "x = dataframe.drop(['calories_per_cell'], axis=1)\n",
    "y = dataframe['calories_per_cell']\n",
    "X_train, X_test, y_train, y_test = train_test_split(x, y)\n"
   ]
  },
  {
   "cell_type": "markdown",
   "metadata": {},
   "source": [
    "# 5a Models: Linear Regression --> results in negative values:("
   ]
  },
  {
   "cell_type": "code",
   "execution_count": 138,
   "metadata": {},
   "outputs": [],
   "source": [
    "def linreg(dataframe):\n",
    "    ##Must make dummies for categorical variable climate_zone\n",
    "    #dataframe = pd.get_dummies(dataframe, columns=['climate_zone'])\n",
    "    #Or just drop column if don't want dummies: x = x.drop(['climate_zone'], axis=1)\n",
    "\n",
    "    x = dataframe.drop(['calories_per_cell'], axis=1)\n",
    "    y = dataframe['calories_per_cell']\n",
    "    \n",
    "    ### Linear Regression\n",
    "    lr = LinearRegression()\n",
    "\n",
    "\n",
    "    ### Cross validation R2 score\n",
    "\n",
    "    cv_scores = cross_val_score(lr, x, y, cv=10)\n",
    "\n",
    "    print('Mean R2 score: ', np.mean(cv_scores))"
   ]
  },
  {
   "cell_type": "markdown",
   "metadata": {},
   "source": [
    "### Without climate_zone dummies"
   ]
  },
  {
   "cell_type": "code",
   "execution_count": 40,
   "metadata": {},
   "outputs": [
    {
     "name": "stdout",
     "output_type": "stream",
     "text": [
      "Mean R2 score:  0.20252177899190257\n"
     ]
    }
   ],
   "source": [
    "linreg(dfBin)"
   ]
  },
  {
   "cell_type": "code",
   "execution_count": 83,
   "metadata": {},
   "outputs": [
    {
     "name": "stdout",
     "output_type": "stream",
     "text": [
      "Mean R2 score:  0.9856761717237082\n"
     ]
    }
   ],
   "source": [
    "linreg(dfLog)"
   ]
  },
  {
   "cell_type": "code",
   "execution_count": 94,
   "metadata": {},
   "outputs": [
    {
     "name": "stdout",
     "output_type": "stream",
     "text": [
      "Mean R2 score:  0.9765347103743824\n"
     ]
    }
   ],
   "source": [
    "linreg(dfLogBin)"
   ]
  },
  {
   "cell_type": "markdown",
   "metadata": {},
   "source": [
    "### With climate_zone dummies\n"
   ]
  },
  {
   "cell_type": "code",
   "execution_count": 124,
   "metadata": {},
   "outputs": [
    {
     "name": "stdout",
     "output_type": "stream",
     "text": [
      "Mean R2 score:  0.11711947063238934\n"
     ]
    }
   ],
   "source": [
    "linreg(df)"
   ]
  },
  {
   "cell_type": "code",
   "execution_count": 128,
   "metadata": {},
   "outputs": [
    {
     "name": "stdout",
     "output_type": "stream",
     "text": [
      "Mean R2 score:  0.9758219882003243\n"
     ]
    }
   ],
   "source": [
    "linreg(dfLog)"
   ]
  },
  {
   "cell_type": "code",
   "execution_count": 109,
   "metadata": {},
   "outputs": [
    {
     "name": "stdout",
     "output_type": "stream",
     "text": [
      "Mean R2 score:  0.9765885224042776\n"
     ]
    }
   ],
   "source": [
    "linreg(dfLog)"
   ]
  },
  {
   "cell_type": "code",
   "execution_count": 126,
   "metadata": {},
   "outputs": [
    {
     "name": "stdout",
     "output_type": "stream",
     "text": [
      "Mean R2 score:  0.9765885224042776\n"
     ]
    }
   ],
   "source": [
    "linreg(dfBin)"
   ]
  },
  {
   "cell_type": "code",
   "execution_count": 110,
   "metadata": {},
   "outputs": [
    {
     "name": "stdout",
     "output_type": "stream",
     "text": [
      "Mean R2 score:  0.9765885224042776\n"
     ]
    }
   ],
   "source": [
    "linreg(dfLogBin)"
   ]
  },
  {
   "cell_type": "code",
   "execution_count": 111,
   "metadata": {},
   "outputs": [],
   "source": [
    "## Why ? Clearly I have a problem of variable assignments where dfLog, dfBin and dfLogBin are all the same df hum hum hum"
   ]
  },
  {
   "cell_type": "markdown",
   "metadata": {},
   "source": [
    "## (Looking at predicted values)"
   ]
  },
  {
   "cell_type": "code",
   "execution_count": 163,
   "metadata": {},
   "outputs": [],
   "source": [
    "dataframe = dfLog\n",
    "\n",
    "x = dataframe.drop(['calories_per_cell','climate_zone'], axis=1)\n",
    "y = dataframe['calories_per_cell']\n",
    "X_train, X_test, y_train, y_test = train_test_split(x, y)\n",
    "\n",
    "lr = LinearRegression().fit(X_train, y_train)\n",
    "y_predicted = lr.predict(X_test)"
   ]
  },
  {
   "cell_type": "code",
   "execution_count": 196,
   "metadata": {},
   "outputs": [
    {
     "data": {
      "text/html": [
       "<div>\n",
       "<style scoped>\n",
       "    .dataframe tbody tr th:only-of-type {\n",
       "        vertical-align: middle;\n",
       "    }\n",
       "\n",
       "    .dataframe tbody tr th {\n",
       "        vertical-align: top;\n",
       "    }\n",
       "\n",
       "    .dataframe thead th {\n",
       "        text-align: right;\n",
       "    }\n",
       "</style>\n",
       "<table border=\"1\" class=\"dataframe\">\n",
       "  <thead>\n",
       "    <tr style=\"text-align: right;\">\n",
       "      <th></th>\n",
       "      <th>y_test</th>\n",
       "      <th>predicted</th>\n",
       "    </tr>\n",
       "  </thead>\n",
       "  <tbody>\n",
       "    <tr>\n",
       "      <th>1511109</th>\n",
       "      <td>0.000000</td>\n",
       "      <td>0.0</td>\n",
       "    </tr>\n",
       "    <tr>\n",
       "      <th>1783210</th>\n",
       "      <td>21.049353</td>\n",
       "      <td>0.0</td>\n",
       "    </tr>\n",
       "    <tr>\n",
       "      <th>1230069</th>\n",
       "      <td>22.970084</td>\n",
       "      <td>0.0</td>\n",
       "    </tr>\n",
       "    <tr>\n",
       "      <th>1670665</th>\n",
       "      <td>0.000000</td>\n",
       "      <td>0.0</td>\n",
       "    </tr>\n",
       "    <tr>\n",
       "      <th>1518817</th>\n",
       "      <td>23.732143</td>\n",
       "      <td>0.0</td>\n",
       "    </tr>\n",
       "    <tr>\n",
       "      <th>587506</th>\n",
       "      <td>0.000000</td>\n",
       "      <td>0.0</td>\n",
       "    </tr>\n",
       "    <tr>\n",
       "      <th>1700102</th>\n",
       "      <td>19.407201</td>\n",
       "      <td>0.0</td>\n",
       "    </tr>\n",
       "    <tr>\n",
       "      <th>1744949</th>\n",
       "      <td>21.790082</td>\n",
       "      <td>0.0</td>\n",
       "    </tr>\n",
       "    <tr>\n",
       "      <th>320865</th>\n",
       "      <td>0.000000</td>\n",
       "      <td>0.0</td>\n",
       "    </tr>\n",
       "    <tr>\n",
       "      <th>2109411</th>\n",
       "      <td>0.000000</td>\n",
       "      <td>0.0</td>\n",
       "    </tr>\n",
       "    <tr>\n",
       "      <th>1317847</th>\n",
       "      <td>0.000000</td>\n",
       "      <td>0.0</td>\n",
       "    </tr>\n",
       "    <tr>\n",
       "      <th>450704</th>\n",
       "      <td>0.000000</td>\n",
       "      <td>0.0</td>\n",
       "    </tr>\n",
       "    <tr>\n",
       "      <th>1714475</th>\n",
       "      <td>0.000000</td>\n",
       "      <td>0.0</td>\n",
       "    </tr>\n",
       "    <tr>\n",
       "      <th>480152</th>\n",
       "      <td>0.000000</td>\n",
       "      <td>0.0</td>\n",
       "    </tr>\n",
       "    <tr>\n",
       "      <th>234182</th>\n",
       "      <td>0.000000</td>\n",
       "      <td>0.0</td>\n",
       "    </tr>\n",
       "    <tr>\n",
       "      <th>1344499</th>\n",
       "      <td>24.042877</td>\n",
       "      <td>0.0</td>\n",
       "    </tr>\n",
       "    <tr>\n",
       "      <th>811387</th>\n",
       "      <td>23.607999</td>\n",
       "      <td>0.0</td>\n",
       "    </tr>\n",
       "    <tr>\n",
       "      <th>2105784</th>\n",
       "      <td>0.000000</td>\n",
       "      <td>0.0</td>\n",
       "    </tr>\n",
       "    <tr>\n",
       "      <th>1365877</th>\n",
       "      <td>22.627876</td>\n",
       "      <td>0.0</td>\n",
       "    </tr>\n",
       "    <tr>\n",
       "      <th>1673254</th>\n",
       "      <td>0.000000</td>\n",
       "      <td>0.0</td>\n",
       "    </tr>\n",
       "    <tr>\n",
       "      <th>728131</th>\n",
       "      <td>19.923012</td>\n",
       "      <td>0.0</td>\n",
       "    </tr>\n",
       "    <tr>\n",
       "      <th>283185</th>\n",
       "      <td>0.000000</td>\n",
       "      <td>0.0</td>\n",
       "    </tr>\n",
       "    <tr>\n",
       "      <th>1343237</th>\n",
       "      <td>0.000000</td>\n",
       "      <td>0.0</td>\n",
       "    </tr>\n",
       "    <tr>\n",
       "      <th>1012149</th>\n",
       "      <td>24.433492</td>\n",
       "      <td>0.0</td>\n",
       "    </tr>\n",
       "    <tr>\n",
       "      <th>752384</th>\n",
       "      <td>0.000000</td>\n",
       "      <td>0.0</td>\n",
       "    </tr>\n",
       "    <tr>\n",
       "      <th>834338</th>\n",
       "      <td>21.865500</td>\n",
       "      <td>0.0</td>\n",
       "    </tr>\n",
       "    <tr>\n",
       "      <th>1095954</th>\n",
       "      <td>0.000000</td>\n",
       "      <td>0.0</td>\n",
       "    </tr>\n",
       "    <tr>\n",
       "      <th>48589</th>\n",
       "      <td>0.000000</td>\n",
       "      <td>0.0</td>\n",
       "    </tr>\n",
       "    <tr>\n",
       "      <th>1943009</th>\n",
       "      <td>17.073854</td>\n",
       "      <td>0.0</td>\n",
       "    </tr>\n",
       "    <tr>\n",
       "      <th>1399469</th>\n",
       "      <td>0.000000</td>\n",
       "      <td>0.0</td>\n",
       "    </tr>\n",
       "    <tr>\n",
       "      <th>...</th>\n",
       "      <td>...</td>\n",
       "      <td>...</td>\n",
       "    </tr>\n",
       "    <tr>\n",
       "      <th>561641</th>\n",
       "      <td>0.000000</td>\n",
       "      <td>0.0</td>\n",
       "    </tr>\n",
       "    <tr>\n",
       "      <th>1062491</th>\n",
       "      <td>19.576334</td>\n",
       "      <td>0.0</td>\n",
       "    </tr>\n",
       "    <tr>\n",
       "      <th>2018231</th>\n",
       "      <td>0.000000</td>\n",
       "      <td>0.0</td>\n",
       "    </tr>\n",
       "    <tr>\n",
       "      <th>2010231</th>\n",
       "      <td>17.998467</td>\n",
       "      <td>0.0</td>\n",
       "    </tr>\n",
       "    <tr>\n",
       "      <th>1554186</th>\n",
       "      <td>0.000000</td>\n",
       "      <td>0.0</td>\n",
       "    </tr>\n",
       "    <tr>\n",
       "      <th>110414</th>\n",
       "      <td>0.000000</td>\n",
       "      <td>0.0</td>\n",
       "    </tr>\n",
       "    <tr>\n",
       "      <th>1026717</th>\n",
       "      <td>19.760171</td>\n",
       "      <td>0.0</td>\n",
       "    </tr>\n",
       "    <tr>\n",
       "      <th>2033376</th>\n",
       "      <td>0.000000</td>\n",
       "      <td>0.0</td>\n",
       "    </tr>\n",
       "    <tr>\n",
       "      <th>1519792</th>\n",
       "      <td>0.000000</td>\n",
       "      <td>0.0</td>\n",
       "    </tr>\n",
       "    <tr>\n",
       "      <th>973790</th>\n",
       "      <td>0.000000</td>\n",
       "      <td>0.0</td>\n",
       "    </tr>\n",
       "    <tr>\n",
       "      <th>1797458</th>\n",
       "      <td>0.000000</td>\n",
       "      <td>0.0</td>\n",
       "    </tr>\n",
       "    <tr>\n",
       "      <th>474667</th>\n",
       "      <td>0.000000</td>\n",
       "      <td>0.0</td>\n",
       "    </tr>\n",
       "    <tr>\n",
       "      <th>1363582</th>\n",
       "      <td>0.000000</td>\n",
       "      <td>0.0</td>\n",
       "    </tr>\n",
       "    <tr>\n",
       "      <th>1104778</th>\n",
       "      <td>23.185944</td>\n",
       "      <td>0.0</td>\n",
       "    </tr>\n",
       "    <tr>\n",
       "      <th>502240</th>\n",
       "      <td>0.000000</td>\n",
       "      <td>0.0</td>\n",
       "    </tr>\n",
       "    <tr>\n",
       "      <th>776396</th>\n",
       "      <td>0.000000</td>\n",
       "      <td>0.0</td>\n",
       "    </tr>\n",
       "    <tr>\n",
       "      <th>204375</th>\n",
       "      <td>0.000000</td>\n",
       "      <td>0.0</td>\n",
       "    </tr>\n",
       "    <tr>\n",
       "      <th>1488050</th>\n",
       "      <td>0.000000</td>\n",
       "      <td>0.0</td>\n",
       "    </tr>\n",
       "    <tr>\n",
       "      <th>230561</th>\n",
       "      <td>0.000000</td>\n",
       "      <td>0.0</td>\n",
       "    </tr>\n",
       "    <tr>\n",
       "      <th>1903723</th>\n",
       "      <td>20.584300</td>\n",
       "      <td>0.0</td>\n",
       "    </tr>\n",
       "    <tr>\n",
       "      <th>1156651</th>\n",
       "      <td>22.191231</td>\n",
       "      <td>0.0</td>\n",
       "    </tr>\n",
       "    <tr>\n",
       "      <th>612092</th>\n",
       "      <td>20.283761</td>\n",
       "      <td>0.0</td>\n",
       "    </tr>\n",
       "    <tr>\n",
       "      <th>648380</th>\n",
       "      <td>0.000000</td>\n",
       "      <td>0.0</td>\n",
       "    </tr>\n",
       "    <tr>\n",
       "      <th>1275648</th>\n",
       "      <td>21.903152</td>\n",
       "      <td>0.0</td>\n",
       "    </tr>\n",
       "    <tr>\n",
       "      <th>1214432</th>\n",
       "      <td>24.539482</td>\n",
       "      <td>0.0</td>\n",
       "    </tr>\n",
       "    <tr>\n",
       "      <th>848490</th>\n",
       "      <td>23.484803</td>\n",
       "      <td>0.0</td>\n",
       "    </tr>\n",
       "    <tr>\n",
       "      <th>644372</th>\n",
       "      <td>0.000000</td>\n",
       "      <td>0.0</td>\n",
       "    </tr>\n",
       "    <tr>\n",
       "      <th>185902</th>\n",
       "      <td>0.000000</td>\n",
       "      <td>0.0</td>\n",
       "    </tr>\n",
       "    <tr>\n",
       "      <th>499917</th>\n",
       "      <td>0.000000</td>\n",
       "      <td>0.0</td>\n",
       "    </tr>\n",
       "    <tr>\n",
       "      <th>587851</th>\n",
       "      <td>0.000000</td>\n",
       "      <td>0.0</td>\n",
       "    </tr>\n",
       "  </tbody>\n",
       "</table>\n",
       "<p>5420 rows × 2 columns</p>\n",
       "</div>"
      ],
      "text/plain": [
       "            y_test  predicted\n",
       "1511109   0.000000        0.0\n",
       "1783210  21.049353        0.0\n",
       "1230069  22.970084        0.0\n",
       "1670665   0.000000        0.0\n",
       "1518817  23.732143        0.0\n",
       "587506    0.000000        0.0\n",
       "1700102  19.407201        0.0\n",
       "1744949  21.790082        0.0\n",
       "320865    0.000000        0.0\n",
       "2109411   0.000000        0.0\n",
       "1317847   0.000000        0.0\n",
       "450704    0.000000        0.0\n",
       "1714475   0.000000        0.0\n",
       "480152    0.000000        0.0\n",
       "234182    0.000000        0.0\n",
       "1344499  24.042877        0.0\n",
       "811387   23.607999        0.0\n",
       "2105784   0.000000        0.0\n",
       "1365877  22.627876        0.0\n",
       "1673254   0.000000        0.0\n",
       "728131   19.923012        0.0\n",
       "283185    0.000000        0.0\n",
       "1343237   0.000000        0.0\n",
       "1012149  24.433492        0.0\n",
       "752384    0.000000        0.0\n",
       "834338   21.865500        0.0\n",
       "1095954   0.000000        0.0\n",
       "48589     0.000000        0.0\n",
       "1943009  17.073854        0.0\n",
       "1399469   0.000000        0.0\n",
       "...            ...        ...\n",
       "561641    0.000000        0.0\n",
       "1062491  19.576334        0.0\n",
       "2018231   0.000000        0.0\n",
       "2010231  17.998467        0.0\n",
       "1554186   0.000000        0.0\n",
       "110414    0.000000        0.0\n",
       "1026717  19.760171        0.0\n",
       "2033376   0.000000        0.0\n",
       "1519792   0.000000        0.0\n",
       "973790    0.000000        0.0\n",
       "1797458   0.000000        0.0\n",
       "474667    0.000000        0.0\n",
       "1363582   0.000000        0.0\n",
       "1104778  23.185944        0.0\n",
       "502240    0.000000        0.0\n",
       "776396    0.000000        0.0\n",
       "204375    0.000000        0.0\n",
       "1488050   0.000000        0.0\n",
       "230561    0.000000        0.0\n",
       "1903723  20.584300        0.0\n",
       "1156651  22.191231        0.0\n",
       "612092   20.283761        0.0\n",
       "648380    0.000000        0.0\n",
       "1275648  21.903152        0.0\n",
       "1214432  24.539482        0.0\n",
       "848490   23.484803        0.0\n",
       "644372    0.000000        0.0\n",
       "185902    0.000000        0.0\n",
       "499917    0.000000        0.0\n",
       "587851    0.000000        0.0\n",
       "\n",
       "[5420 rows x 2 columns]"
      ]
     },
     "execution_count": 196,
     "metadata": {},
     "output_type": "execute_result"
    }
   ],
   "source": [
    "compare = pd.DataFrame()\n",
    "compare['y_test'] = y_test\n",
    "compare['predicted'] = y_predicted \n",
    "\n",
    "#Bunch of negative values\n",
    "compare"
   ]
  },
  {
   "cell_type": "code",
   "execution_count": 166,
   "metadata": {},
   "outputs": [
    {
     "data": {
      "text/plain": [
       "[<matplotlib.lines.Line2D at 0x1a43037a90>]"
      ]
     },
     "execution_count": 166,
     "metadata": {},
     "output_type": "execute_result"
    },
    {
     "data": {
      "image/png": "[encoded data removed]",
      "text/plain": [
       "<Figure size 432x288 with 1 Axes>"
      ]
     },
     "metadata": {},
     "output_type": "display_data"
    }
   ],
   "source": [
    "ax = compare.plot.scatter(x='y_test',y='predicted',s=0.5)\n",
    "ax.plot(ax.get_xlim(), ax.get_xlim(), ls=\"--\", c=\".3\")"
   ]
  },
  {
   "cell_type": "markdown",
   "metadata": {},
   "source": [
    "# 5a' Reproduce Justin's Full reg\n",
    "*  d$precip_2 <- d$precip ^ 2\n",
    "            d$precip_3 <- d$precip ^ 3\n",
    "            d$temperature_2 <- d$temperature ^ 2\n",
    "            d$temperature_3 <- d$temperature ^ 3\n",
    "            d$minutes_to_market_2 <- d$minutes_to_market ^ 2\n",
    "            d$minutes_to_market_3 <- d$minutes_to_market ^ 3\n",
    "            d$gdp_gecon_2 <- d$gdp_gecon ^ 2\n",
    "            d$gdp_gecon_3 <- d$gdp_gecon ^ 3\n",
    "            d$altitude_2 <- d$altitude ^ 2\n",
    "            d$altitude_3 <- d$altitude ^ 3\n",
    "            d$slope_2 <- d$slope ^ 2\n",
    "            d$slope_3 <- d$slope ^ 3\n",
    "            d$crop_suitability_2 <- d$crop_suitability ^ 2\n",
    "            d$crop_suitability_3 <- d$crop_suitability ^ 3"
   ]
  },
  {
   "cell_type": "code",
   "execution_count": 134,
   "metadata": {},
   "outputs": [],
   "source": [
    "dfFull = dfLog"
   ]
  },
  {
   "cell_type": "code",
   "execution_count": 135,
   "metadata": {},
   "outputs": [],
   "source": [
    "for var in ['precip','temperature','minutes_to_market','gdp_gecon','altitude','slope']:#,'crop_suitability']:\n",
    "    for i in range(2,4):\n",
    "        dfFull[var+str(i)] = dfFull[var].pow(i)"
   ]
  },
  {
   "cell_type": "code",
   "execution_count": 136,
   "metadata": {},
   "outputs": [
    {
     "data": {
      "text/plain": [
       "Index(['calories_per_cell', 'precip', 'temperature', 'gdp_2000',\n",
       "       'minutes_to_market', 'workability', 'toxicity', 'rooting_conditions',\n",
       "       'protected_areas', 'oxygen_availability', 'nutrient_retention',\n",
       "       'nutrient_availability', 'excess_salts', 'gdp_gecon', 'slope',\n",
       "       'altitude', 'climate_zone', 'has_ag', 'precip2', 'precip3',\n",
       "       'temperature2', 'temperature3', 'minutes_to_market2',\n",
       "       'minutes_to_market3', 'gdp_gecon2', 'gdp_gecon3', 'altitude2',\n",
       "       'altitude3', 'slope2', 'slope3'],\n",
       "      dtype='object')"
      ]
     },
     "execution_count": 136,
     "metadata": {},
     "output_type": "execute_result"
    }
   ],
   "source": [
    "dfFull.columns"
   ]
  },
  {
   "cell_type": "code",
   "execution_count": 137,
   "metadata": {},
   "outputs": [
    {
     "name": "stdout",
     "output_type": "stream",
     "text": [
      "Mean R2 score:  -14.880956652006734\n"
     ]
    }
   ],
   "source": [
    "linreg(dfFull) # With climate zones"
   ]
  },
  {
   "cell_type": "code",
   "execution_count": 139,
   "metadata": {},
   "outputs": [
    {
     "name": "stdout",
     "output_type": "stream",
     "text": [
      "Mean R2 score:  -13.99725571333521\n"
     ]
    }
   ],
   "source": [
    "linreg(dfFull) # Without climate zones"
   ]
  },
  {
   "cell_type": "markdown",
   "metadata": {},
   "source": [
    "# 5b Models: XGBoost"
   ]
  },
  {
   "cell_type": "code",
   "execution_count": 24,
   "metadata": {},
   "outputs": [],
   "source": [
    "def xgboost_reg(dataframe):\n",
    "    ##Must make dummies for categorical variable climate_zone\n",
    "    #dataframe = pd.get_dummies(dataframe, columns=['climate_zone'])\n",
    "    #Or just drop column if don't want dummies: (put following line under referecning of x)\n",
    "    #x = x.drop(['climate_zone'], axis=1)\n",
    "\n",
    "    x = dataframe.drop(['calories_per_cell'], axis=1)\n",
    "    y = dataframe['calories_per_cell']\n",
    "    \n",
    "\n",
    "    ### XGBoost Regressor\n",
    "    xgbreg = xgb.XGBRegressor(n_estimators=100, learning_rate=0.08, gamma=0, subsample=0.75,\n",
    "                           colsample_bytree=1, max_depth=7)\n",
    "\n",
    "    ### Cross validation R2 score\n",
    "\n",
    "    cv_scores = cross_val_score(xgbreg, x, y, cv=10)\n",
    "\n",
    "    print('Mean R2 score: ', np.mean(cv_scores))"
   ]
  },
  {
   "cell_type": "markdown",
   "metadata": {},
   "source": [
    "##### Without climate zones"
   ]
  },
  {
   "cell_type": "code",
   "execution_count": 25,
   "metadata": {},
   "outputs": [
    {
     "name": "stdout",
     "output_type": "stream",
     "text": [
      "Mean R2 score:  -0.7161391062435604\n"
     ]
    }
   ],
   "source": [
    "xgboost_reg(dfLog)"
   ]
  },
  {
   "cell_type": "code",
   "execution_count": 140,
   "metadata": {},
   "outputs": [
    {
     "name": "stdout",
     "output_type": "stream",
     "text": [
      "Mean R2 score:  -0.6906069325465378\n"
     ]
    }
   ],
   "source": [
    "xgboost_reg(dfFull)"
   ]
  },
  {
   "cell_type": "markdown",
   "metadata": {},
   "source": [
    "##### With climate zones"
   ]
  },
  {
   "cell_type": "code",
   "execution_count": 20,
   "metadata": {},
   "outputs": [
    {
     "name": "stdout",
     "output_type": "stream",
     "text": [
      "Mean R2 score:  -0.7161391062435604\n"
     ]
    }
   ],
   "source": [
    "xgboost_reg(dfLog)"
   ]
  },
  {
   "cell_type": "code",
   "execution_count": 167,
   "metadata": {},
   "outputs": [
    {
     "data": {
      "text/plain": [
       "[<matplotlib.lines.Line2D at 0x1a43052978>]"
      ]
     },
     "execution_count": 167,
     "metadata": {},
     "output_type": "execute_result"
    },
    {
     "data": {
      "image/png": "[encoded data removed]",
      "text/plain": [
       "<Figure size 432x288 with 1 Axes>"
      ]
     },
     "metadata": {},
     "output_type": "display_data"
    }
   ],
   "source": [
    "dataframe = dfLog\n",
    "\n",
    "x = dataframe.drop(['calories_per_cell','climate_zone'], axis=1)\n",
    "y = dataframe['calories_per_cell']\n",
    "X_train, X_test, y_train, y_test = train_test_split(x, y)\n",
    "\n",
    "xgbreg = xgb.XGBRegressor(n_estimators=100, learning_rate=0.08, gamma=0, subsample=0.75,\n",
    "                           colsample_bytree=1, max_depth=7)\n",
    "\n",
    "xg =  xgbreg.fit(X_train, y_train)\n",
    "y_predicted = xg.predict(X_test)\n",
    "\n",
    "compare = pd.DataFrame()\n",
    "compare['y_test'] = y_test\n",
    "compare['predicted'] = y_predicted \n",
    "\n",
    "#Bunch of negative values\n",
    "\n",
    "ax = compare.plot.scatter(x='y_test',y='predicted',s=0.5)\n",
    "ax.plot(ax.get_xlim(), ax.get_xlim(), ls=\"--\", c=\".3\")"
   ]
  },
  {
   "cell_type": "markdown",
   "metadata": {},
   "source": [
    "# 5c Tobit (censored regression)\n",
    "\n",
    "## from https://github.com/jamesdj/tobit/blob/master/tobit.ipynb"
   ]
  },
  {
   "cell_type": "markdown",
   "metadata": {},
   "source": [
    "from tobit import * --> Learn how to put the next cell tobit.py as a package??"
   ]
  },
  {
   "cell_type": "code",
   "execution_count": 35,
   "metadata": {},
   "outputs": [],
   "source": [
    "import math\n",
    "import warnings\n",
    "\n",
    "import numpy as np\n",
    "import pandas as pd\n",
    "from scipy.optimize import minimize\n",
    "import scipy.stats\n",
    "from scipy.special import log_ndtr\n",
    "from sklearn.linear_model import LinearRegression\n",
    "from sklearn.metrics import mean_squared_error, mean_absolute_error\n",
    "\n",
    "\n",
    "def split_left_right_censored(x, y, cens):\n",
    "    counts = cens.value_counts()\n",
    "    if -1 not in counts and 1 not in counts:\n",
    "        warnings.warn(\"No censored observations; use regression methods for uncensored data\")\n",
    "    xs = []\n",
    "    ys = []\n",
    "\n",
    "    for value in [-1, 0, 1]:\n",
    "        if value in counts:\n",
    "            split = cens == value\n",
    "            y_split = np.squeeze(y[split].values)\n",
    "            x_split = x[split].values\n",
    "\n",
    "        else:\n",
    "            y_split, x_split = None, None\n",
    "        xs.append(x_split)\n",
    "        ys.append(y_split)\n",
    "    return xs, ys\n",
    "\n",
    "\n",
    "def tobit_neg_log_likelihood(xs, ys, params):\n",
    "    x_left, x_mid, x_right = xs\n",
    "    y_left, y_mid, y_right = ys\n",
    "\n",
    "    b = params[:-1]\n",
    "    # s = math.exp(params[-1])\n",
    "    s = params[-1]\n",
    "\n",
    "    to_cat = []\n",
    "\n",
    "    cens = False\n",
    "    if y_left is not None:\n",
    "        cens = True\n",
    "        left = (y_left - np.dot(x_left, b))\n",
    "        to_cat.append(left)\n",
    "    if y_right is not None:\n",
    "        cens = True\n",
    "        right = (np.dot(x_right, b) - y_right)\n",
    "        to_cat.append(right)\n",
    "    if cens:\n",
    "        concat_stats = np.concatenate(to_cat, axis=0) / s\n",
    "        log_cum_norm = scipy.stats.norm.logcdf(concat_stats)  # log_ndtr(concat_stats)\n",
    "        cens_sum = log_cum_norm.sum()\n",
    "    else:\n",
    "        cens_sum = 0\n",
    "\n",
    "    if y_mid is not None:\n",
    "        mid_stats = (y_mid - np.dot(x_mid, b)) / s\n",
    "        mid = scipy.stats.norm.logpdf(mid_stats) - math.log(max(np.finfo('float').resolution, s))\n",
    "        mid_sum = mid.sum()\n",
    "    else:\n",
    "        mid_sum = 0\n",
    "\n",
    "    loglik = cens_sum + mid_sum\n",
    "\n",
    "    return - loglik\n",
    "\n",
    "\n",
    "def tobit_neg_log_likelihood_der(xs, ys, params):\n",
    "    x_left, x_mid, x_right = xs\n",
    "    y_left, y_mid, y_right = ys\n",
    "\n",
    "    b = params[:-1]\n",
    "    # s = math.exp(params[-1]) # in censReg, not using chain rule as below; they optimize in terms of log(s)\n",
    "    s = params[-1]\n",
    "\n",
    "    beta_jac = np.zeros(len(b))\n",
    "    sigma_jac = 0\n",
    "\n",
    "    if y_left is not None:\n",
    "        left_stats = (y_left - np.dot(x_left, b)) / s\n",
    "        l_pdf = scipy.stats.norm.logpdf(left_stats)\n",
    "        l_cdf = log_ndtr(left_stats)\n",
    "        left_frac = np.exp(l_pdf - l_cdf)\n",
    "        beta_left = np.dot(left_frac, x_left / s)\n",
    "        beta_jac -= beta_left\n",
    "\n",
    "        left_sigma = np.dot(left_frac, left_stats)\n",
    "        sigma_jac -= left_sigma\n",
    "\n",
    "    if y_right is not None:\n",
    "        right_stats = (np.dot(x_right, b) - y_right) / s\n",
    "        r_pdf = scipy.stats.norm.logpdf(right_stats)\n",
    "        r_cdf = log_ndtr(right_stats)\n",
    "        right_frac = np.exp(r_pdf - r_cdf)\n",
    "        beta_right = np.dot(right_frac, x_right / s)\n",
    "        beta_jac += beta_right\n",
    "\n",
    "        right_sigma = np.dot(right_frac, right_stats)\n",
    "        sigma_jac -= right_sigma\n",
    "\n",
    "    if y_mid is not None:\n",
    "        mid_stats = (y_mid - np.dot(x_mid, b)) / s\n",
    "        beta_mid = np.dot(mid_stats, x_mid / s)\n",
    "        beta_jac += beta_mid\n",
    "\n",
    "        mid_sigma = (np.square(mid_stats) - 1).sum()\n",
    "        sigma_jac += mid_sigma\n",
    "\n",
    "    combo_jac = np.append(beta_jac, sigma_jac / s)  # by chain rule, since the expression above is dloglik/dlogsigma\n",
    "\n",
    "    return -combo_jac\n",
    "\n",
    "\n",
    "class TobitModel:\n",
    "    def __init__(self, fit_intercept=True):\n",
    "        self.fit_intercept = fit_intercept\n",
    "        self.ols_coef_ = None\n",
    "        self.ols_intercept = None\n",
    "        self.coef_ = None\n",
    "        self.intercept_ = None\n",
    "        self.sigma_ = None\n",
    "\n",
    "    def fit(self, x, y, cens, verbose=False):\n",
    "        \"\"\"\n",
    "        Fit a maximum-likelihood Tobit regression\n",
    "        :param x: Pandas DataFrame (n_samples, n_features): Data\n",
    "        :param y: Pandas Series (n_samples,): Target\n",
    "        :param cens: Pandas Series (n_samples,): -1 indicates left-censored samples, 0 for uncensored, 1 for right-censored\n",
    "        :param verbose: boolean, show info from minimization\n",
    "        :return:\n",
    "        \"\"\"\n",
    "        x_copy = x.copy()\n",
    "        if self.fit_intercept:\n",
    "            x_copy.insert(0, 'intercept', 1.0)\n",
    "        else:\n",
    "            x_copy.scale(with_mean=True, with_std=False, copy=False)\n",
    "        init_reg = LinearRegression(fit_intercept=False).fit(x_copy, y)\n",
    "        b0 = init_reg.coef_\n",
    "        y_pred = init_reg.predict(x_copy)\n",
    "        resid = y - y_pred\n",
    "        resid_var = np.var(resid)\n",
    "        s0 = np.sqrt(resid_var)\n",
    "        params0 = np.append(b0, s0)\n",
    "        xs, ys = split_left_right_censored(x_copy, y, cens)\n",
    "\n",
    "        result = minimize(lambda params: tobit_neg_log_likelihood(xs, ys, params), params0, method='BFGS',\n",
    "                          jac=lambda params: tobit_neg_log_likelihood_der(xs, ys, params), options={'disp': verbose})\n",
    "        if verbose:\n",
    "            print(result)\n",
    "        self.ols_coef_ = b0[1:]\n",
    "        self.ols_intercept = b0[0]\n",
    "        if self.fit_intercept:\n",
    "            self.intercept_ = result.x[1]\n",
    "            self.coef_ = result.x[1:-1]\n",
    "        else:\n",
    "            self.coef_ = result.x[:-1]\n",
    "            self.intercept_ = 0\n",
    "        self.sigma_ = result.x[-1]\n",
    "        return self\n",
    "\n",
    "    def predict(self, x):\n",
    "        return self.intercept_ + np.dot(x, self.coef_)\n",
    "\n",
    "    def score(self, x, y, scoring_function=mean_absolute_error):\n",
    "        y_pred = np.dot(x, self.coef_)\n",
    "        return scoring_function(y, y_pred)"
   ]
  },
  {
   "cell_type": "code",
   "execution_count": 69,
   "metadata": {},
   "outputs": [
    {
     "ename": "TypeError",
     "evalue": "fit() missing 1 required positional argument: 'cens'",
     "output_type": "error",
     "traceback": [
      "\u001b[0;31m---------------------------------------------------------------------------\u001b[0m",
      "\u001b[0;31mTypeError\u001b[0m                                 Traceback (most recent call last)",
      "\u001b[0;32m<ipython-input-69-ce19abdebc3c>\u001b[0m in \u001b[0;36m<module>\u001b[0;34m()\u001b[0m\n\u001b[1;32m     11\u001b[0m \u001b[0;31m##See below\u001b[0m\u001b[0;34m\u001b[0m\u001b[0;34m\u001b[0m\u001b[0m\n\u001b[1;32m     12\u001b[0m \u001b[0;34m\u001b[0m\u001b[0m\n\u001b[0;32m---> 13\u001b[0;31m \u001b[0mtob\u001b[0m \u001b[0;34m=\u001b[0m \u001b[0mTobitModel\u001b[0m\u001b[0;34m(\u001b[0m\u001b[0;34m)\u001b[0m\u001b[0;34m.\u001b[0m\u001b[0mfit\u001b[0m\u001b[0;34m(\u001b[0m\u001b[0mX_train\u001b[0m\u001b[0;34m,\u001b[0m \u001b[0my_train\u001b[0m\u001b[0;34m)\u001b[0m\u001b[0;31m#,cens)\u001b[0m\u001b[0;34m\u001b[0m\u001b[0m\n\u001b[0m\u001b[1;32m     14\u001b[0m \u001b[0my_predicted\u001b[0m \u001b[0;34m=\u001b[0m \u001b[0mtob\u001b[0m\u001b[0;34m.\u001b[0m\u001b[0mpredict\u001b[0m\u001b[0;34m(\u001b[0m\u001b[0mX_test\u001b[0m\u001b[0;34m)\u001b[0m\u001b[0;34m\u001b[0m\u001b[0m\n",
      "\u001b[0;31mTypeError\u001b[0m: fit() missing 1 required positional argument: 'cens'"
     ]
    }
   ],
   "source": [
    "dataframe = dfLog\n",
    "\n",
    "x = dataframe.drop(['calories_per_cell','climate_zone'], axis=1)\n",
    "y = dataframe['calories_per_cell']\n",
    "X_train, X_test, y_train, y_test = train_test_split(x, y)\n",
    "\n",
    "##Unsure about this 'cens' part\n",
    "cens = pd.Series(np.zeros((len(y_train),)))\n",
    "cens[left] = -1\n",
    "cens[right] = 1\n",
    "##See below\n",
    "\n",
    "tob = TobitModel().fit(X_train, y_train,cens)\n",
    "y_predicted = tob.predict(X_test)"
   ]
  },
  {
   "cell_type": "code",
   "execution_count": 32,
   "metadata": {},
   "outputs": [],
   "source": [
    "compare = pd.DataFrame()\n",
    "compare['y_test'] = y_test\n",
    "compare['predicted'] = y_predicted \n",
    "\n",
    "#Bunch of negative values"
   ]
  },
  {
   "cell_type": "code",
   "execution_count": 60,
   "metadata": {},
   "outputs": [],
   "source": [
    "## WTF? : below"
   ]
  },
  {
   "cell_type": "code",
   "execution_count": 72,
   "metadata": {},
   "outputs": [
    {
     "data": {
      "text/plain": [
       "21680"
      ]
     },
     "execution_count": 72,
     "metadata": {},
     "output_type": "execute_result"
    }
   ],
   "source": [
    "(len(y))"
   ]
  },
  {
   "cell_type": "code",
   "execution_count": 77,
   "metadata": {},
   "outputs": [],
   "source": [
    "cens = pd.Series(np.zeros((20,)))"
   ]
  },
  {
   "cell_type": "code",
   "execution_count": 80,
   "metadata": {},
   "outputs": [],
   "source": [
    "cens[left] = -1\n",
    "cens[right] = 1"
   ]
  },
  {
   "cell_type": "code",
   "execution_count": 81,
   "metadata": {},
   "outputs": [
    {
     "data": {
      "text/plain": [
       "0    -1.0\n",
       "1    -1.0\n",
       "2     0.0\n",
       "3     1.0\n",
       "4     0.0\n",
       "5     1.0\n",
       "6    -1.0\n",
       "7     1.0\n",
       "8    -1.0\n",
       "9     0.0\n",
       "10    0.0\n",
       "11    0.0\n",
       "12    0.0\n",
       "13   -1.0\n",
       "14    0.0\n",
       "15    0.0\n",
       "16    0.0\n",
       "17    1.0\n",
       "18    1.0\n",
       "19    1.0\n",
       "dtype: float64"
      ]
     },
     "execution_count": 81,
     "metadata": {},
     "output_type": "execute_result"
    }
   ],
   "source": [
    "cens"
   ]
  },
  {
   "cell_type": "markdown",
   "metadata": {},
   "source": [
    "## from "
   ]
  }
 ],
 "metadata": {
  "kernelspec": {
   "display_name": "Python [conda env:Justin]",
   "language": "python",
   "name": "conda-env-Justin-py"
  },
  "language_info": {
   "codemirror_mode": {
    "name": "ipython",
    "version": 3
   },
   "file_extension": ".py",
   "mimetype": "text/x-python",
   "name": "python",
   "nbconvert_exporter": "python",
   "pygments_lexer": "ipython3",
   "version": "3.6.5"
  }
 },
 "nbformat": 4,
 "nbformat_minor": 2
}
