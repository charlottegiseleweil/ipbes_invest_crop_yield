{
 "cells": [
  {
   "cell_type": "code",
   "execution_count": 1,
   "metadata": {},
   "outputs": [],
   "source": [
    "import pandas as pd\n",
    "import numpy as np\n",
    "from sklearn.ensemble import RandomForestClassifier\n",
    "import sklearn.metrics \n",
    "from sklearn.neighbors import KNeighborsClassifier\n",
    "from sklearn.neighbors import KNeighborsRegressor\n",
    "from sklearn.linear_model import LinearRegression\n",
    "from sklearn.preprocessing import MinMaxScaler\n",
    "from sklearn.model_selection import train_test_split\n",
    "from sklearn.model_selection import cross_val_score\n",
    "\n",
    "from scipy import stats\n",
    "\n",
    "import hazelbean as hb\n",
    "L = hb.get_logger()\n",
    "\n",
    "import seaborn as sns\n",
    "import matplotlib \n",
    "%matplotlib inline\n",
    "\n",
    "import matplotlib.pyplot as plt"
   ]
  },
  {
   "cell_type": "code",
   "execution_count": 117,
   "metadata": {},
   "outputs": [],
   "source": [
    "import xgboost as xgb"
   ]
  },
  {
   "cell_type": "markdown",
   "metadata": {},
   "source": [
    "# Load dataset"
   ]
  },
  {
   "cell_type": "code",
   "execution_count": 46,
   "metadata": {},
   "outputs": [
    {
     "name": "stderr",
     "output_type": "stream",
     "text": [
      "Loading data\n",
      "Data loaded\n"
     ]
    }
   ],
   "source": [
    "L.info('Loading data')\n",
    "baseline_df = pd.read_csv('../IPBES project/intermediate/with_climate_zones/baseline_regression_data.csv')\n",
    "L.info('Data loaded')\n",
    "\n",
    "climate_zones_map = {1:'Af',2:'Am',3:'Aw',\n",
    "                     5:'BWk',4:'BWh',7:'BSk',6:'BSh',\n",
    "                     14:'Cfa',15:'Cfb',16:'Cfc',8:'Csa',\n",
    "                     9:'Csb',10:'Csc',11:'Cwa',12:'Cwb',13:'Cwc',\n",
    "                     25:'Dfa',26:'Dfb',27:'Dfc',28:'Dfd',17:'Dsa',18:'Dsb',19:'Dsc',\n",
    "                     20:'Dsd',21:'Dwa',22:'Dwb',23:'Dwc',24:'Dwd',\n",
    "                     30:'EF',29:'ET'}\n",
    "baseline_df['climate_zone'] = baseline_df['climate_zones'].map(climate_zones_map)\n",
    "baseline_df = baseline_df.drop(['Unnamed: 0','climate_zones'], axis=1)\n"
   ]
  },
  {
   "cell_type": "markdown",
   "metadata": {},
   "source": [
    "# 2 Save validation set"
   ]
  },
  {
   "cell_type": "code",
   "execution_count": null,
   "metadata": {},
   "outputs": [],
   "source": [
    "x = baseline_df.drop(['calories_per_cell'], axis=1)\n",
    "y = baseline_df['calories_per_cell']\n",
    "\n",
    "X, X_validation, Y, y_validation = train_test_split(x, y)"
   ]
  },
  {
   "cell_type": "markdown",
   "metadata": {},
   "source": [
    "#### OR: Select a subset for faster computation (means the rest is a validation set!)"
   ]
  },
  {
   "cell_type": "code",
   "execution_count": 85,
   "metadata": {},
   "outputs": [],
   "source": [
    "subset = baseline_df.sample(frac=0.01, replace=False, weights=None, random_state=None, axis=0)\n",
    "df = subset\n"
   ]
  },
  {
   "cell_type": "markdown",
   "metadata": {},
   "source": [
    "\n",
    "# 3 Data transformation \n",
    "\n",
    "### (a) Log\n",
    "\n",
    "Problem: distribution super highly skewed left, stats test makes assumptions of normality.. :/\n",
    "\n",
    "\n",
    "But first create a binary (has_ag) column for pixels where calories = 0 (because log doesn't deal with zeros)"
   ]
  },
  {
   "cell_type": "code",
   "execution_count": 90,
   "metadata": {},
   "outputs": [
    {
     "data": {
      "text/html": [
       "<div>\n",
       "<style scoped>\n",
       "    .dataframe tbody tr th:only-of-type {\n",
       "        vertical-align: middle;\n",
       "    }\n",
       "\n",
       "    .dataframe tbody tr th {\n",
       "        vertical-align: top;\n",
       "    }\n",
       "\n",
       "    .dataframe thead th {\n",
       "        text-align: right;\n",
       "    }\n",
       "</style>\n",
       "<table border=\"1\" class=\"dataframe\">\n",
       "  <thead>\n",
       "    <tr style=\"text-align: right;\">\n",
       "      <th></th>\n",
       "      <th>calories_per_cell</th>\n",
       "      <th>precip</th>\n",
       "      <th>temperature</th>\n",
       "      <th>gdp_2000</th>\n",
       "      <th>minutes_to_market</th>\n",
       "      <th>workability</th>\n",
       "      <th>toxicity</th>\n",
       "      <th>rooting_conditions</th>\n",
       "      <th>protected_areas</th>\n",
       "      <th>oxygen_availability</th>\n",
       "      <th>...</th>\n",
       "      <th>gdp_gecon</th>\n",
       "      <th>slope</th>\n",
       "      <th>altitude</th>\n",
       "      <th>c3_annual_calories</th>\n",
       "      <th>c3_perennial_calories</th>\n",
       "      <th>c4_annual_calories</th>\n",
       "      <th>c4_perennial_calories</th>\n",
       "      <th>nitrogen_fixer_calories</th>\n",
       "      <th>climate_zone</th>\n",
       "      <th>has_ag</th>\n",
       "    </tr>\n",
       "  </thead>\n",
       "  <tbody>\n",
       "    <tr>\n",
       "      <th>245372</th>\n",
       "      <td>(-4.905, 3.06]</td>\n",
       "      <td>364.0</td>\n",
       "      <td>0.0</td>\n",
       "      <td>3870.412333</td>\n",
       "      <td>1558.0</td>\n",
       "      <td>0.0</td>\n",
       "      <td>0.0</td>\n",
       "      <td>0.0</td>\n",
       "      <td>1.0</td>\n",
       "      <td>0.0</td>\n",
       "      <td>...</td>\n",
       "      <td>28973.0350</td>\n",
       "      <td>89.24570</td>\n",
       "      <td>28.0</td>\n",
       "      <td>0.0</td>\n",
       "      <td>0.0</td>\n",
       "      <td>0.0</td>\n",
       "      <td>0.0</td>\n",
       "      <td>0.0</td>\n",
       "      <td>NaN</td>\n",
       "      <td>0</td>\n",
       "    </tr>\n",
       "    <tr>\n",
       "      <th>1279363</th>\n",
       "      <td>(-4.905, 3.06]</td>\n",
       "      <td>270.0</td>\n",
       "      <td>191.0</td>\n",
       "      <td>1595.766665</td>\n",
       "      <td>146.0</td>\n",
       "      <td>1.0</td>\n",
       "      <td>1.0</td>\n",
       "      <td>1.0</td>\n",
       "      <td>1.0</td>\n",
       "      <td>1.0</td>\n",
       "      <td>...</td>\n",
       "      <td>3371.3179</td>\n",
       "      <td>89.93965</td>\n",
       "      <td>375.0</td>\n",
       "      <td>0.0</td>\n",
       "      <td>0.0</td>\n",
       "      <td>0.0</td>\n",
       "      <td>0.0</td>\n",
       "      <td>0.0</td>\n",
       "      <td>NaN</td>\n",
       "      <td>0</td>\n",
       "    </tr>\n",
       "    <tr>\n",
       "      <th>2165377</th>\n",
       "      <td>(18.991, 26.956]</td>\n",
       "      <td>972.0</td>\n",
       "      <td>160.0</td>\n",
       "      <td>5398.717829</td>\n",
       "      <td>66.0</td>\n",
       "      <td>1.0</td>\n",
       "      <td>1.0</td>\n",
       "      <td>1.0</td>\n",
       "      <td>1.0</td>\n",
       "      <td>1.0</td>\n",
       "      <td>...</td>\n",
       "      <td>6124.1035</td>\n",
       "      <td>88.89099</td>\n",
       "      <td>79.0</td>\n",
       "      <td>14246975.0</td>\n",
       "      <td>0.0</td>\n",
       "      <td>20052628.0</td>\n",
       "      <td>0.0</td>\n",
       "      <td>8930732.0</td>\n",
       "      <td>EF</td>\n",
       "      <td>1</td>\n",
       "    </tr>\n",
       "    <tr>\n",
       "      <th>1512967</th>\n",
       "      <td>(-4.905, 3.06]</td>\n",
       "      <td>35.0</td>\n",
       "      <td>276.0</td>\n",
       "      <td>12088.923180</td>\n",
       "      <td>1162.0</td>\n",
       "      <td>1.0</td>\n",
       "      <td>1.0</td>\n",
       "      <td>1.0</td>\n",
       "      <td>0.5</td>\n",
       "      <td>1.0</td>\n",
       "      <td>...</td>\n",
       "      <td>15752.6600</td>\n",
       "      <td>89.38901</td>\n",
       "      <td>132.0</td>\n",
       "      <td>0.0</td>\n",
       "      <td>0.0</td>\n",
       "      <td>0.0</td>\n",
       "      <td>0.0</td>\n",
       "      <td>0.0</td>\n",
       "      <td>NaN</td>\n",
       "      <td>0</td>\n",
       "    </tr>\n",
       "    <tr>\n",
       "      <th>996418</th>\n",
       "      <td>(-4.905, 3.06]</td>\n",
       "      <td>109.0</td>\n",
       "      <td>44.0</td>\n",
       "      <td>768.882875</td>\n",
       "      <td>574.0</td>\n",
       "      <td>1.0</td>\n",
       "      <td>1.0</td>\n",
       "      <td>1.0</td>\n",
       "      <td>1.0</td>\n",
       "      <td>1.0</td>\n",
       "      <td>...</td>\n",
       "      <td>2281.1865</td>\n",
       "      <td>89.88089</td>\n",
       "      <td>1275.0</td>\n",
       "      <td>0.0</td>\n",
       "      <td>0.0</td>\n",
       "      <td>0.0</td>\n",
       "      <td>0.0</td>\n",
       "      <td>0.0</td>\n",
       "      <td>BWh</td>\n",
       "      <td>0</td>\n",
       "    </tr>\n",
       "  </tbody>\n",
       "</table>\n",
       "<p>5 rows × 23 columns</p>\n",
       "</div>"
      ],
      "text/plain": [
       "        calories_per_cell  precip  temperature      gdp_2000  \\\n",
       "245372     (-4.905, 3.06]   364.0          0.0   3870.412333   \n",
       "1279363    (-4.905, 3.06]   270.0        191.0   1595.766665   \n",
       "2165377  (18.991, 26.956]   972.0        160.0   5398.717829   \n",
       "1512967    (-4.905, 3.06]    35.0        276.0  12088.923180   \n",
       "996418     (-4.905, 3.06]   109.0         44.0    768.882875   \n",
       "\n",
       "         minutes_to_market  workability  toxicity  rooting_conditions  \\\n",
       "245372              1558.0          0.0       0.0                 0.0   \n",
       "1279363              146.0          1.0       1.0                 1.0   \n",
       "2165377               66.0          1.0       1.0                 1.0   \n",
       "1512967             1162.0          1.0       1.0                 1.0   \n",
       "996418               574.0          1.0       1.0                 1.0   \n",
       "\n",
       "         protected_areas  oxygen_availability   ...     gdp_gecon     slope  \\\n",
       "245372               1.0                  0.0   ...    28973.0350  89.24570   \n",
       "1279363              1.0                  1.0   ...     3371.3179  89.93965   \n",
       "2165377              1.0                  1.0   ...     6124.1035  88.89099   \n",
       "1512967              0.5                  1.0   ...    15752.6600  89.38901   \n",
       "996418               1.0                  1.0   ...     2281.1865  89.88089   \n",
       "\n",
       "         altitude  c3_annual_calories  c3_perennial_calories  \\\n",
       "245372       28.0                 0.0                    0.0   \n",
       "1279363     375.0                 0.0                    0.0   \n",
       "2165377      79.0          14246975.0                    0.0   \n",
       "1512967     132.0                 0.0                    0.0   \n",
       "996418     1275.0                 0.0                    0.0   \n",
       "\n",
       "         c4_annual_calories  c4_perennial_calories  nitrogen_fixer_calories  \\\n",
       "245372                  0.0                    0.0                      0.0   \n",
       "1279363                 0.0                    0.0                      0.0   \n",
       "2165377          20052628.0                    0.0                8930732.0   \n",
       "1512967                 0.0                    0.0                      0.0   \n",
       "996418                  0.0                    0.0                      0.0   \n",
       "\n",
       "         climate_zone  has_ag  \n",
       "245372            NaN       0  \n",
       "1279363           NaN       0  \n",
       "2165377            EF       1  \n",
       "1512967           NaN       0  \n",
       "996418            BWh       0  \n",
       "\n",
       "[5 rows x 23 columns]"
      ]
     },
     "execution_count": 90,
     "metadata": {},
     "output_type": "execute_result"
    }
   ],
   "source": [
    "dfLog.head()"
   ]
  },
  {
   "cell_type": "code",
   "execution_count": 86,
   "metadata": {},
   "outputs": [
    {
     "data": {
      "text/html": [
       "<div>\n",
       "<style scoped>\n",
       "    .dataframe tbody tr th:only-of-type {\n",
       "        vertical-align: middle;\n",
       "    }\n",
       "\n",
       "    .dataframe tbody tr th {\n",
       "        vertical-align: top;\n",
       "    }\n",
       "\n",
       "    .dataframe thead th {\n",
       "        text-align: right;\n",
       "    }\n",
       "</style>\n",
       "<table border=\"1\" class=\"dataframe\">\n",
       "  <thead>\n",
       "    <tr style=\"text-align: right;\">\n",
       "      <th></th>\n",
       "      <th>calories_per_cell</th>\n",
       "      <th>precip</th>\n",
       "      <th>temperature</th>\n",
       "      <th>gdp_2000</th>\n",
       "      <th>minutes_to_market</th>\n",
       "      <th>workability</th>\n",
       "      <th>toxicity</th>\n",
       "      <th>rooting_conditions</th>\n",
       "      <th>protected_areas</th>\n",
       "      <th>oxygen_availability</th>\n",
       "      <th>...</th>\n",
       "      <th>excess_salts</th>\n",
       "      <th>gdp_gecon</th>\n",
       "      <th>slope</th>\n",
       "      <th>altitude</th>\n",
       "      <th>c3_annual_calories</th>\n",
       "      <th>c3_perennial_calories</th>\n",
       "      <th>c4_annual_calories</th>\n",
       "      <th>c4_perennial_calories</th>\n",
       "      <th>nitrogen_fixer_calories</th>\n",
       "      <th>climate_zone</th>\n",
       "    </tr>\n",
       "  </thead>\n",
       "  <tbody>\n",
       "    <tr>\n",
       "      <th>1231542</th>\n",
       "      <td>1.253335e+10</td>\n",
       "      <td>428.0</td>\n",
       "      <td>122.0</td>\n",
       "      <td>2554.036439</td>\n",
       "      <td>492.0</td>\n",
       "      <td>0.5</td>\n",
       "      <td>1.00</td>\n",
       "      <td>0.5</td>\n",
       "      <td>1.0</td>\n",
       "      <td>1.00</td>\n",
       "      <td>...</td>\n",
       "      <td>1.00</td>\n",
       "      <td>5799.2520</td>\n",
       "      <td>89.966896</td>\n",
       "      <td>1777.0</td>\n",
       "      <td>8092959.0</td>\n",
       "      <td>0.0</td>\n",
       "      <td>0.0</td>\n",
       "      <td>0.0</td>\n",
       "      <td>29539.332</td>\n",
       "      <td>NaN</td>\n",
       "    </tr>\n",
       "    <tr>\n",
       "      <th>648637</th>\n",
       "      <td>0.000000e+00</td>\n",
       "      <td>488.0</td>\n",
       "      <td>0.0</td>\n",
       "      <td>33372.029454</td>\n",
       "      <td>715.0</td>\n",
       "      <td>1.0</td>\n",
       "      <td>1.00</td>\n",
       "      <td>1.0</td>\n",
       "      <td>1.0</td>\n",
       "      <td>0.75</td>\n",
       "      <td>...</td>\n",
       "      <td>1.00</td>\n",
       "      <td>28856.2290</td>\n",
       "      <td>89.818650</td>\n",
       "      <td>623.0</td>\n",
       "      <td>0.0</td>\n",
       "      <td>0.0</td>\n",
       "      <td>0.0</td>\n",
       "      <td>0.0</td>\n",
       "      <td>0.000</td>\n",
       "      <td>Dfb</td>\n",
       "    </tr>\n",
       "    <tr>\n",
       "      <th>164900</th>\n",
       "      <td>0.000000e+00</td>\n",
       "      <td>103.0</td>\n",
       "      <td>0.0</td>\n",
       "      <td>33372.029454</td>\n",
       "      <td>5182.0</td>\n",
       "      <td>0.0</td>\n",
       "      <td>0.00</td>\n",
       "      <td>0.0</td>\n",
       "      <td>1.0</td>\n",
       "      <td>0.00</td>\n",
       "      <td>...</td>\n",
       "      <td>0.00</td>\n",
       "      <td>0.0000</td>\n",
       "      <td>89.603490</td>\n",
       "      <td>107.0</td>\n",
       "      <td>0.0</td>\n",
       "      <td>0.0</td>\n",
       "      <td>0.0</td>\n",
       "      <td>0.0</td>\n",
       "      <td>0.000</td>\n",
       "      <td>Dfc</td>\n",
       "    </tr>\n",
       "    <tr>\n",
       "      <th>1380316</th>\n",
       "      <td>0.000000e+00</td>\n",
       "      <td>33.0</td>\n",
       "      <td>198.0</td>\n",
       "      <td>1595.766665</td>\n",
       "      <td>342.0</td>\n",
       "      <td>0.0</td>\n",
       "      <td>0.00</td>\n",
       "      <td>0.0</td>\n",
       "      <td>1.0</td>\n",
       "      <td>0.00</td>\n",
       "      <td>...</td>\n",
       "      <td>0.00</td>\n",
       "      <td>2009.4701</td>\n",
       "      <td>89.788994</td>\n",
       "      <td>149.0</td>\n",
       "      <td>0.0</td>\n",
       "      <td>0.0</td>\n",
       "      <td>0.0</td>\n",
       "      <td>0.0</td>\n",
       "      <td>0.000</td>\n",
       "      <td>NaN</td>\n",
       "    </tr>\n",
       "    <tr>\n",
       "      <th>1184546</th>\n",
       "      <td>0.000000e+00</td>\n",
       "      <td>164.0</td>\n",
       "      <td>132.0</td>\n",
       "      <td>2554.036439</td>\n",
       "      <td>378.0</td>\n",
       "      <td>0.5</td>\n",
       "      <td>0.75</td>\n",
       "      <td>0.5</td>\n",
       "      <td>1.0</td>\n",
       "      <td>0.75</td>\n",
       "      <td>...</td>\n",
       "      <td>0.75</td>\n",
       "      <td>7152.7320</td>\n",
       "      <td>89.978980</td>\n",
       "      <td>1606.0</td>\n",
       "      <td>0.0</td>\n",
       "      <td>0.0</td>\n",
       "      <td>0.0</td>\n",
       "      <td>0.0</td>\n",
       "      <td>0.000</td>\n",
       "      <td>Am</td>\n",
       "    </tr>\n",
       "  </tbody>\n",
       "</table>\n",
       "<p>5 rows × 22 columns</p>\n",
       "</div>"
      ],
      "text/plain": [
       "         calories_per_cell  precip  temperature      gdp_2000  \\\n",
       "1231542       1.253335e+10   428.0        122.0   2554.036439   \n",
       "648637        0.000000e+00   488.0          0.0  33372.029454   \n",
       "164900        0.000000e+00   103.0          0.0  33372.029454   \n",
       "1380316       0.000000e+00    33.0        198.0   1595.766665   \n",
       "1184546       0.000000e+00   164.0        132.0   2554.036439   \n",
       "\n",
       "         minutes_to_market  workability  toxicity  rooting_conditions  \\\n",
       "1231542              492.0          0.5      1.00                 0.5   \n",
       "648637               715.0          1.0      1.00                 1.0   \n",
       "164900              5182.0          0.0      0.00                 0.0   \n",
       "1380316              342.0          0.0      0.00                 0.0   \n",
       "1184546              378.0          0.5      0.75                 0.5   \n",
       "\n",
       "         protected_areas  oxygen_availability      ...       excess_salts  \\\n",
       "1231542              1.0                 1.00      ...               1.00   \n",
       "648637               1.0                 0.75      ...               1.00   \n",
       "164900               1.0                 0.00      ...               0.00   \n",
       "1380316              1.0                 0.00      ...               0.00   \n",
       "1184546              1.0                 0.75      ...               0.75   \n",
       "\n",
       "          gdp_gecon      slope  altitude  c3_annual_calories  \\\n",
       "1231542   5799.2520  89.966896    1777.0           8092959.0   \n",
       "648637   28856.2290  89.818650     623.0                 0.0   \n",
       "164900       0.0000  89.603490     107.0                 0.0   \n",
       "1380316   2009.4701  89.788994     149.0                 0.0   \n",
       "1184546   7152.7320  89.978980    1606.0                 0.0   \n",
       "\n",
       "         c3_perennial_calories  c4_annual_calories  c4_perennial_calories  \\\n",
       "1231542                    0.0                 0.0                    0.0   \n",
       "648637                     0.0                 0.0                    0.0   \n",
       "164900                     0.0                 0.0                    0.0   \n",
       "1380316                    0.0                 0.0                    0.0   \n",
       "1184546                    0.0                 0.0                    0.0   \n",
       "\n",
       "         nitrogen_fixer_calories  climate_zone  \n",
       "1231542                29539.332           NaN  \n",
       "648637                     0.000           Dfb  \n",
       "164900                     0.000           Dfc  \n",
       "1380316                    0.000           NaN  \n",
       "1184546                    0.000            Am  \n",
       "\n",
       "[5 rows x 22 columns]"
      ]
     },
     "execution_count": 86,
     "metadata": {},
     "output_type": "execute_result"
    }
   ],
   "source": [
    "df.head()"
   ]
  },
  {
   "cell_type": "code",
   "execution_count": 92,
   "metadata": {},
   "outputs": [
    {
     "name": "stderr",
     "output_type": "stream",
     "text": [
      "/Users/charlotteweil1/anaconda/envs/Justin/lib/python3.6/site-packages/ipykernel/__main__.py:7: RuntimeWarning: divide by zero encountered in log\n"
     ]
    }
   ],
   "source": [
    "dfLog = df\n",
    "\n",
    "dfLog['has_ag'] = pd.Series(len(dfLog['calories_per_cell']), index=dfLog.index)\n",
    "dfLog['has_ag'] = 0 \n",
    "dfLog.loc[dfLog['calories_per_cell']>0,'has_ag'] = 1\n",
    "\n",
    "dfLog.loc[dfLog['has_ag']==1,'calories_per_cell'] = np.log(dfLog['calories_per_cell'])\n",
    " \n",
    "## Why is the code above changing not only dfLog but also df itself ?! WTF??!\n",
    "## Till I fugure this out - re-run subset box before each data transfo!\n"
   ]
  },
  {
   "cell_type": "markdown",
   "metadata": {},
   "source": [
    "### (b) Binning"
   ]
  },
  {
   "cell_type": "code",
   "execution_count": 87,
   "metadata": {},
   "outputs": [
    {
     "ename": "TypeError",
     "evalue": "'Series' objects are mutable, thus they cannot be hashed",
     "output_type": "error",
     "traceback": [
      "\u001b[0;31m---------------------------------------------------------------------------\u001b[0m",
      "\u001b[0;31mTypeError\u001b[0m                                 Traceback (most recent call last)",
      "\u001b[0;32m<ipython-input-87-e9cff3954597>\u001b[0m in \u001b[0;36m<module>\u001b[0;34m()\u001b[0m\n\u001b[1;32m      7\u001b[0m \u001b[0;34m\u001b[0m\u001b[0m\n\u001b[1;32m      8\u001b[0m \u001b[0;31m# Make bins 1-5 for ag cells\u001b[0m\u001b[0;34m\u001b[0m\u001b[0;34m\u001b[0m\u001b[0m\n\u001b[0;32m----> 9\u001b[0;31m \u001b[0mdfBin\u001b[0m\u001b[0;34m[\u001b[0m\u001b[0mdfBin\u001b[0m\u001b[0;34m[\u001b[0m\u001b[0;34m'has_ag'\u001b[0m\u001b[0;34m]\u001b[0m\u001b[0;34m==\u001b[0m\u001b[0;36m1\u001b[0m\u001b[0;34m,\u001b[0m\u001b[0;34m'calories_per_cell'\u001b[0m\u001b[0;34m]\u001b[0m \u001b[0;34m=\u001b[0m \u001b[0mpd\u001b[0m\u001b[0;34m.\u001b[0m\u001b[0mcut\u001b[0m\u001b[0;34m(\u001b[0m\u001b[0mdfBin\u001b[0m\u001b[0;34m[\u001b[0m\u001b[0mdfBin\u001b[0m\u001b[0;34m[\u001b[0m\u001b[0;34m'has_ag'\u001b[0m\u001b[0;34m]\u001b[0m\u001b[0;34m==\u001b[0m\u001b[0;36m1\u001b[0m\u001b[0;34m,\u001b[0m\u001b[0;34m'calories_per_cell'\u001b[0m\u001b[0;34m]\u001b[0m\u001b[0;34m,\u001b[0m\u001b[0mbins\u001b[0m\u001b[0;34m=\u001b[0m\u001b[0;36m5\u001b[0m\u001b[0;34m,\u001b[0m\u001b[0mlabels\u001b[0m\u001b[0;34m=\u001b[0m\u001b[0;34m[\u001b[0m\u001b[0;36m1\u001b[0m\u001b[0;34m,\u001b[0m\u001b[0;36m2\u001b[0m\u001b[0;34m,\u001b[0m\u001b[0;36m3\u001b[0m\u001b[0;34m,\u001b[0m\u001b[0;36m4\u001b[0m\u001b[0;34m,\u001b[0m\u001b[0;36m5\u001b[0m\u001b[0;34m]\u001b[0m\u001b[0;34m)\u001b[0m\u001b[0;34m\u001b[0m\u001b[0m\n\u001b[0m\u001b[1;32m     10\u001b[0m \u001b[0;34m\u001b[0m\u001b[0m\n\u001b[1;32m     11\u001b[0m \u001b[0;31m## Why ?!\u001b[0m\u001b[0;34m\u001b[0m\u001b[0;34m\u001b[0m\u001b[0m\n",
      "\u001b[0;32m~/anaconda/envs/Justin/lib/python3.6/site-packages/pandas/core/frame.py\u001b[0m in \u001b[0;36m__getitem__\u001b[0;34m(self, key)\u001b[0m\n\u001b[1;32m   2137\u001b[0m             \u001b[0;32mreturn\u001b[0m \u001b[0mself\u001b[0m\u001b[0;34m.\u001b[0m\u001b[0m_getitem_multilevel\u001b[0m\u001b[0;34m(\u001b[0m\u001b[0mkey\u001b[0m\u001b[0;34m)\u001b[0m\u001b[0;34m\u001b[0m\u001b[0m\n\u001b[1;32m   2138\u001b[0m         \u001b[0;32melse\u001b[0m\u001b[0;34m:\u001b[0m\u001b[0;34m\u001b[0m\u001b[0m\n\u001b[0;32m-> 2139\u001b[0;31m             \u001b[0;32mreturn\u001b[0m \u001b[0mself\u001b[0m\u001b[0;34m.\u001b[0m\u001b[0m_getitem_column\u001b[0m\u001b[0;34m(\u001b[0m\u001b[0mkey\u001b[0m\u001b[0;34m)\u001b[0m\u001b[0;34m\u001b[0m\u001b[0m\n\u001b[0m\u001b[1;32m   2140\u001b[0m \u001b[0;34m\u001b[0m\u001b[0m\n\u001b[1;32m   2141\u001b[0m     \u001b[0;32mdef\u001b[0m \u001b[0m_getitem_column\u001b[0m\u001b[0;34m(\u001b[0m\u001b[0mself\u001b[0m\u001b[0;34m,\u001b[0m \u001b[0mkey\u001b[0m\u001b[0;34m)\u001b[0m\u001b[0;34m:\u001b[0m\u001b[0;34m\u001b[0m\u001b[0m\n",
      "\u001b[0;32m~/anaconda/envs/Justin/lib/python3.6/site-packages/pandas/core/frame.py\u001b[0m in \u001b[0;36m_getitem_column\u001b[0;34m(self, key)\u001b[0m\n\u001b[1;32m   2144\u001b[0m         \u001b[0;31m# get column\u001b[0m\u001b[0;34m\u001b[0m\u001b[0;34m\u001b[0m\u001b[0m\n\u001b[1;32m   2145\u001b[0m         \u001b[0;32mif\u001b[0m \u001b[0mself\u001b[0m\u001b[0;34m.\u001b[0m\u001b[0mcolumns\u001b[0m\u001b[0;34m.\u001b[0m\u001b[0mis_unique\u001b[0m\u001b[0;34m:\u001b[0m\u001b[0;34m\u001b[0m\u001b[0m\n\u001b[0;32m-> 2146\u001b[0;31m             \u001b[0;32mreturn\u001b[0m \u001b[0mself\u001b[0m\u001b[0;34m.\u001b[0m\u001b[0m_get_item_cache\u001b[0m\u001b[0;34m(\u001b[0m\u001b[0mkey\u001b[0m\u001b[0;34m)\u001b[0m\u001b[0;34m\u001b[0m\u001b[0m\n\u001b[0m\u001b[1;32m   2147\u001b[0m \u001b[0;34m\u001b[0m\u001b[0m\n\u001b[1;32m   2148\u001b[0m         \u001b[0;31m# duplicate columns & possible reduce dimensionality\u001b[0m\u001b[0;34m\u001b[0m\u001b[0;34m\u001b[0m\u001b[0m\n",
      "\u001b[0;32m~/anaconda/envs/Justin/lib/python3.6/site-packages/pandas/core/generic.py\u001b[0m in \u001b[0;36m_get_item_cache\u001b[0;34m(self, item)\u001b[0m\n\u001b[1;32m   1838\u001b[0m         \u001b[0;34m\"\"\"Return the cached item, item represents a label indexer.\"\"\"\u001b[0m\u001b[0;34m\u001b[0m\u001b[0m\n\u001b[1;32m   1839\u001b[0m         \u001b[0mcache\u001b[0m \u001b[0;34m=\u001b[0m \u001b[0mself\u001b[0m\u001b[0;34m.\u001b[0m\u001b[0m_item_cache\u001b[0m\u001b[0;34m\u001b[0m\u001b[0m\n\u001b[0;32m-> 1840\u001b[0;31m         \u001b[0mres\u001b[0m \u001b[0;34m=\u001b[0m \u001b[0mcache\u001b[0m\u001b[0;34m.\u001b[0m\u001b[0mget\u001b[0m\u001b[0;34m(\u001b[0m\u001b[0mitem\u001b[0m\u001b[0;34m)\u001b[0m\u001b[0;34m\u001b[0m\u001b[0m\n\u001b[0m\u001b[1;32m   1841\u001b[0m         \u001b[0;32mif\u001b[0m \u001b[0mres\u001b[0m \u001b[0;32mis\u001b[0m \u001b[0;32mNone\u001b[0m\u001b[0;34m:\u001b[0m\u001b[0;34m\u001b[0m\u001b[0m\n\u001b[1;32m   1842\u001b[0m             \u001b[0mvalues\u001b[0m \u001b[0;34m=\u001b[0m \u001b[0mself\u001b[0m\u001b[0;34m.\u001b[0m\u001b[0m_data\u001b[0m\u001b[0;34m.\u001b[0m\u001b[0mget\u001b[0m\u001b[0;34m(\u001b[0m\u001b[0mitem\u001b[0m\u001b[0;34m)\u001b[0m\u001b[0;34m\u001b[0m\u001b[0m\n",
      "\u001b[0;32m~/anaconda/envs/Justin/lib/python3.6/site-packages/pandas/core/generic.py\u001b[0m in \u001b[0;36m__hash__\u001b[0;34m(self)\u001b[0m\n\u001b[1;32m   1043\u001b[0m     \u001b[0;32mdef\u001b[0m \u001b[0m__hash__\u001b[0m\u001b[0;34m(\u001b[0m\u001b[0mself\u001b[0m\u001b[0;34m)\u001b[0m\u001b[0;34m:\u001b[0m\u001b[0;34m\u001b[0m\u001b[0m\n\u001b[1;32m   1044\u001b[0m         raise TypeError('{0!r} objects are mutable, thus they cannot be'\n\u001b[0;32m-> 1045\u001b[0;31m                         ' hashed'.format(self.__class__.__name__))\n\u001b[0m\u001b[1;32m   1046\u001b[0m \u001b[0;34m\u001b[0m\u001b[0m\n\u001b[1;32m   1047\u001b[0m     \u001b[0;32mdef\u001b[0m \u001b[0m__iter__\u001b[0m\u001b[0;34m(\u001b[0m\u001b[0mself\u001b[0m\u001b[0;34m)\u001b[0m\u001b[0;34m:\u001b[0m\u001b[0;34m\u001b[0m\u001b[0m\n",
      "\u001b[0;31mTypeError\u001b[0m: 'Series' objects are mutable, thus they cannot be hashed"
     ]
    }
   ],
   "source": [
    "dfBin = df\n",
    "\n",
    "#Make bin 0 for no ag cells\n",
    "dfBin['has_ag'] = pd.Series(len(dfBin['calories_per_cell']), index=dfBin.index)\n",
    "dfBin['has_ag'] = 0 \n",
    "dfBin.loc[dfBin['calories_per_cell']>0,'has_ag'] = 1\n",
    "\n",
    "# Make bins 1-5 for ag cells\n",
    "dfBin[dfBin['has_ag']==1,'calories_per_cell'] = pd.cut(dfBin[dfBin['has_ag']==1,'calories_per_cell'],bins=5,labels=[1,2,3,4,5])\n",
    "\n",
    "## Why ?!"
   ]
  },
  {
   "cell_type": "markdown",
   "metadata": {},
   "source": [
    "### (c) Log + binning"
   ]
  },
  {
   "cell_type": "code",
   "execution_count": 93,
   "metadata": {},
   "outputs": [],
   "source": [
    "dfLogBin = dfLog\n",
    "\n",
    "dfLogBin['calories_per_cell'] = pd.cut(dfLogBin['calories_per_cell'], 5,labels=[1,2,3,4,5])\n",
    "\n",
    "## Same Why is the code above changing not only dfLogBin but also dfLog itself ?! WTF??!\n",
    "## Till I fugure this out - re-run subset box before each data transfo!\n"
   ]
  },
  {
   "cell_type": "markdown",
   "metadata": {},
   "source": [
    "# 4 Train/test split"
   ]
  },
  {
   "cell_type": "code",
   "execution_count": null,
   "metadata": {},
   "outputs": [],
   "source": [
    "#included in models fctions\n",
    "\n",
    "###  For reference : Train/Test Split\n",
    "x = dataframe.drop(['calories_per_cell'], axis=1)\n",
    "y = dataframe['calories_per_cell']\n",
    "X_train, X_test, y_train, y_test = train_test_split(x, y)\n"
   ]
  },
  {
   "cell_type": "markdown",
   "metadata": {},
   "source": [
    "# 5a Models: Linear Regression"
   ]
  },
  {
   "cell_type": "code",
   "execution_count": 125,
   "metadata": {},
   "outputs": [],
   "source": [
    "def linreg(dataframe):\n",
    "    ##Must make dummies for categorical variable climate_zone\n",
    "    dataframe = pd.get_dummies(dataframe, columns=['climate_zone'])\n",
    "    #Or just drop column if don't want dummies: x = x.drop(['climate_zone'], axis=1)\n",
    "\n",
    "    x = dataframe.drop(['calories_per_cell'], axis=1)\n",
    "    y = dataframe['calories_per_cell']\n",
    "\n",
    "    ### Linear Regression\n",
    "    lr = LinearRegression()\n",
    "\n",
    "\n",
    "    ### Cross validation R2 score\n",
    "\n",
    "    cv_scores = cross_val_score(lr, x, y, cv=10)\n",
    "\n",
    "    print('Mean R2 score: ', np.mean(cv_scores))"
   ]
  },
  {
   "cell_type": "markdown",
   "metadata": {},
   "source": [
    "### Without climate_zone dummies"
   ]
  },
  {
   "cell_type": "code",
   "execution_count": 40,
   "metadata": {},
   "outputs": [
    {
     "name": "stdout",
     "output_type": "stream",
     "text": [
      "Mean R2 score:  0.20252177899190257\n"
     ]
    }
   ],
   "source": [
    "linreg(dfBin)"
   ]
  },
  {
   "cell_type": "code",
   "execution_count": 83,
   "metadata": {},
   "outputs": [
    {
     "name": "stdout",
     "output_type": "stream",
     "text": [
      "Mean R2 score:  0.9856761717237082\n"
     ]
    }
   ],
   "source": [
    "linreg(dfLog)"
   ]
  },
  {
   "cell_type": "code",
   "execution_count": 94,
   "metadata": {},
   "outputs": [
    {
     "name": "stdout",
     "output_type": "stream",
     "text": [
      "Mean R2 score:  0.9765347103743824\n"
     ]
    }
   ],
   "source": [
    "linreg(dfLogBin)"
   ]
  },
  {
   "cell_type": "markdown",
   "metadata": {},
   "source": [
    "### With climate_zone dummies\n"
   ]
  },
  {
   "cell_type": "code",
   "execution_count": 126,
   "metadata": {},
   "outputs": [
    {
     "name": "stdout",
     "output_type": "stream",
     "text": [
      "Mean R2 score:  0.9765885224042776\n"
     ]
    }
   ],
   "source": [
    "linreg(dfBin)"
   ]
  },
  {
   "cell_type": "code",
   "execution_count": 109,
   "metadata": {},
   "outputs": [
    {
     "name": "stdout",
     "output_type": "stream",
     "text": [
      "Mean R2 score:  0.9765885224042776\n"
     ]
    }
   ],
   "source": [
    "linreg(dfLog)"
   ]
  },
  {
   "cell_type": "code",
   "execution_count": 110,
   "metadata": {},
   "outputs": [
    {
     "name": "stdout",
     "output_type": "stream",
     "text": [
      "Mean R2 score:  0.9765885224042776\n"
     ]
    }
   ],
   "source": [
    "linreg(dfLogBin)"
   ]
  },
  {
   "cell_type": "code",
   "execution_count": 111,
   "metadata": {},
   "outputs": [],
   "source": [
    "## Why ? Clearly I have a problem of variable assignments where dfLog, dfBin and dfLogBin are all the same df hum hum hum"
   ]
  },
  {
   "cell_type": "markdown",
   "metadata": {},
   "source": [
    "# 5b Models: XGBoost"
   ]
  },
  {
   "cell_type": "code",
   "execution_count": 114,
   "metadata": {},
   "outputs": [],
   "source": [
    "def xgboost_reg(dataframe):\n",
    "    ##Must make dummies for categorical variable climate_zone\n",
    "    #dataframe = pd.get_dummies(dataframe, columns=['climate_zone'])\n",
    "    #Or just drop column if don't want dummies: x = x.drop(['climate_zone'], axis=1)\n",
    "\n",
    "    x = dataframe.drop(['calories_per_cell'], axis=1)\n",
    "    y = dataframe['calories_per_cell']\n",
    "\n",
    "    ### XGBoost Regressor\n",
    "    xgbreg = xgb.XGBRegressor(n_estimators=100, learning_rate=0.08, gamma=0, subsample=0.75,\n",
    "                           colsample_bytree=1, max_depth=7)\n",
    "\n",
    "    ### Cross validation R2 score\n",
    "\n",
    "    cv_scores = cross_val_score(xgbreg, x, y, cv=10)\n",
    "\n",
    "    print('Mean R2 score: ', np.mean(cv_scores))"
   ]
  },
  {
   "cell_type": "code",
   "execution_count": 115,
   "metadata": {},
   "outputs": [
    {
     "ename": "AttributeError",
     "evalue": "module 'xgboost' has no attribute 'XGBRegressor'",
     "output_type": "error",
     "traceback": [
      "\u001b[0;31m---------------------------------------------------------------------------\u001b[0m",
      "\u001b[0;31mAttributeError\u001b[0m                            Traceback (most recent call last)",
      "\u001b[0;32m<ipython-input-115-e4ce013f9da6>\u001b[0m in \u001b[0;36m<module>\u001b[0;34m()\u001b[0m\n\u001b[0;32m----> 1\u001b[0;31m \u001b[0mxgboost_reg\u001b[0m\u001b[0;34m(\u001b[0m\u001b[0mdfBin\u001b[0m\u001b[0;34m)\u001b[0m\u001b[0;34m\u001b[0m\u001b[0m\n\u001b[0m",
      "\u001b[0;32m<ipython-input-114-c89978e692d3>\u001b[0m in \u001b[0;36mxgboost_reg\u001b[0;34m(dataframe)\u001b[0m\n\u001b[1;32m      8\u001b[0m \u001b[0;34m\u001b[0m\u001b[0m\n\u001b[1;32m      9\u001b[0m     \u001b[0;31m### XGBoost Regressor\u001b[0m\u001b[0;34m\u001b[0m\u001b[0;34m\u001b[0m\u001b[0m\n\u001b[0;32m---> 10\u001b[0;31m     xgbreg = xgb.XGBRegressor(n_estimators=100, learning_rate=0.08, gamma=0, subsample=0.75,\n\u001b[0m\u001b[1;32m     11\u001b[0m                            colsample_bytree=1, max_depth=7)\n\u001b[1;32m     12\u001b[0m \u001b[0;34m\u001b[0m\u001b[0m\n",
      "\u001b[0;31mAttributeError\u001b[0m: module 'xgboost' has no attribute 'XGBRegressor'"
     ]
    }
   ],
   "source": [
    "xgboost_reg(dfBin)"
   ]
  },
  {
   "cell_type": "code",
   "execution_count": 119,
   "metadata": {},
   "outputs": [
    {
     "ename": "ImportError",
     "evalue": "cannot import name 'XGBRegressor'",
     "output_type": "error",
     "traceback": [
      "\u001b[0;31m---------------------------------------------------------------------------\u001b[0m",
      "\u001b[0;31mImportError\u001b[0m                               Traceback (most recent call last)",
      "\u001b[0;32m<ipython-input-119-2c02f0670723>\u001b[0m in \u001b[0;36m<module>\u001b[0;34m()\u001b[0m\n\u001b[0;32m----> 1\u001b[0;31m \u001b[0;32mfrom\u001b[0m \u001b[0mxgboost\u001b[0m \u001b[0;32mimport\u001b[0m \u001b[0mXGBRegressor\u001b[0m\u001b[0;34m\u001b[0m\u001b[0m\n\u001b[0m",
      "\u001b[0;31mImportError\u001b[0m: cannot import name 'XGBRegressor'"
     ]
    }
   ],
   "source": [
    "from xgboost import XGBRegressor"
   ]
  },
  {
   "cell_type": "code",
   "execution_count": null,
   "metadata": {},
   "outputs": [],
   "source": []
  }
 ],
 "metadata": {
  "kernelspec": {
   "display_name": "Python [conda env:Justin]",
   "language": "python",
   "name": "conda-env-Justin-py"
  },
  "language_info": {
   "codemirror_mode": {
    "name": "ipython",
    "version": 3
   },
   "file_extension": ".py",
   "mimetype": "text/x-python",
   "name": "python",
   "nbconvert_exporter": "python",
   "pygments_lexer": "ipython3",
   "version": "3.6.5"
  }
 },
 "nbformat": 4,
 "nbformat_minor": 2
}
