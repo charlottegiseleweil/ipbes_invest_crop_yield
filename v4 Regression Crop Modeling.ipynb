{
 "cells": [
  {
   "cell_type": "markdown",
   "metadata": {},
   "source": [
    "# Q\n",
    "\n",
    "#####  Potential problems:\n",
    "*  SO Many slope values os close to 90: what does it mean?\n",
    "\n",
    "TODO:\n",
    "Try binning calories_per_ha: categorical prob ? dfTransformed = pd.cut(df[col], bins=5, labels=[1, 2, 3, 4, 5])"
   ]
  },
  {
   "cell_type": "code",
   "execution_count": 1,
   "metadata": {},
   "outputs": [],
   "source": [
    "import pandas as pd\n",
    "import numpy as np\n",
    "from sklearn.ensemble import RandomForestClassifier\n",
    "import sklearn.metrics \n",
    "from sklearn.neighbors import KNeighborsClassifier\n",
    "from sklearn.neighbors import KNeighborsRegressor\n",
    "from sklearn.linear_model import LinearRegression\n",
    "from sklearn.preprocessing import MinMaxScaler\n",
    "from sklearn.model_selection import train_test_split\n",
    "from sklearn.model_selection import cross_val_score\n",
    "\n",
    "from sklearn.feature_selection import RFE\n",
    "from sklearn.preprocessing import PolynomialFeatures\n",
    "\n",
    "\n",
    "from scipy import stats\n",
    "\n",
    "#import hazelbean as hb\n",
    "#L = hb.get_logger()\n",
    "\n",
    "import seaborn as sns\n",
    "import matplotlib \n",
    "%matplotlib inline\n",
    "\n",
    "import matplotlib.pyplot as plt\n",
    "\n",
    "import xgboost as xgb"
   ]
  },
  {
   "cell_type": "code",
   "execution_count": 2,
   "metadata": {},
   "outputs": [],
   "source": [
    "pd.set_option('display.max_columns', 500)\n"
   ]
  },
  {
   "cell_type": "markdown",
   "metadata": {},
   "source": [
    "# Input data preprocessing \n",
    "to be in Annex of the code"
   ]
  },
  {
   "cell_type": "code",
   "execution_count": null,
   "metadata": {},
   "outputs": [],
   "source": [
    "## Resampling pop data\n",
    "from osgeo import gdal, ogr, gdalconst, osr\n",
    "\n",
    "def reproject_raster(input_fn, match_fn, output_fn,\n",
    "                     interpolation_scheme=gdalconst.GRA_Bilinear,\n",
    "                     output_type=gdalconst.GDT_Float32,\n",
    "                    NoData =-99999):\n",
    "\n",
    "    # Source\n",
    "    src_filename = input_fn\n",
    "    src = gdal.Open(src_filename, gdalconst.GA_ReadOnly)\n",
    "    src_proj = src.GetProjection()\n",
    "    src_geotrans = src.GetGeoTransform()\n",
    "\n",
    "    # We want a section of source that matches this:\n",
    "    match_filename = match_fn\n",
    "    match_ds = gdal.Open(match_filename, gdalconst.GA_ReadOnly)\n",
    "    match_proj = match_ds.GetProjection()\n",
    "    match_geotrans = match_ds.GetGeoTransform()\n",
    "    wide = match_ds.RasterXSize\n",
    "    high = match_ds.RasterYSize\n",
    "\n",
    "    # Output / destination\n",
    "    dst_filename = output_fn\n",
    "    dst = gdal.GetDriverByName('GTiff').Create(dst_filename,\n",
    "                                               wide,                   # number of columns\n",
    "                                               high,                   # number of columns\n",
    "                                               1,                      # number of bands\n",
    "                                               output_type)  # datatype of the raster\n",
    "    dst.SetGeoTransform( match_geotrans )\n",
    "    dst.SetProjection(match_proj)\n",
    "    dst.GetRasterBand(1).SetNoDataValue(NoData)\n",
    "\n",
    "    # Do the work\n",
    "    gdal.ReprojectImage(src, dst, src_proj, match_proj, interpolation_scheme)\n",
    "\n",
    "    del dst # Flush\n",
    "    return None"
   ]
  },
  {
   "cell_type": "code",
   "execution_count": null,
   "metadata": {},
   "outputs": [],
   "source": [
    "reproject_raster('../ipbes_invest_crop_yield_project/input/Demographic/ciesin/gpw_v4_population_count_rev10_2000_30_sec.tif',\n",
    "                 '../ipbes_invest_crop_yield_project/input/Cartographic/country_ids.tif',\n",
    "                 '../ipbes_invest_crop_yield_project/input/Demographic/ciesin/gpw_population.tif',\n",
    "                 output_type=gdalconst.GDT_Int32)"
   ]
  },
  {
   "cell_type": "code",
   "execution_count": null,
   "metadata": {},
   "outputs": [],
   "source": [
    "reproject_raster('../ipbes_invest_crop_yield_project/input/Climate/Koeppen-Geiger/climate_zones_wrong_proj.tif',\n",
    "                 '../ipbes_invest_crop_yield_project/input/Cartographic/country_ids.tif',\n",
    "                 '../ipbes_invest_crop_yield_project/input/Climate/Koeppen-Geiger/climate_zones.tif',\n",
    "                 output_type=gdalconst.GDT_Int32)"
   ]
  },
  {
   "cell_type": "code",
   "execution_count": 173,
   "metadata": {},
   "outputs": [],
   "source": [
    "##Things to be added in load_data\n",
    "df = load_data()"
   ]
  },
  {
   "cell_type": "code",
   "execution_count": null,
   "metadata": {},
   "outputs": [],
   "source": [
    "df = df.rename(columns={'bio12': 'precip', 'bio1': 'temperature',\n",
    "                       'minutes_to_market_5m':'min_to_market',\n",
    "                       'gdp_per_capita_2000_5m':'gdp_per_capita',\n",
    "                       'gdp_2000':'gdp'})\n",
    "\n",
    "df['log_precip'] = df['precip'].apply(lambda x: np.log(x) if x!=0 else 0)\n",
    "df['log_altitude'] = df['altitude'].apply(lambda x:np.log(x) if x!=0 else 0)\n",
    "df['log_gdp'] = df['gdp'].apply(lambda x:np.log(x) if x!=0 else 0)\n",
    "df['log_gdp_per_capita'] = df['gdp_per_capita'].apply(lambda x:np.log(x) if x!=0 else 0)\n",
    "df['log_min_to_market'] = df['min_to_market'].apply(lambda x:np.log(x) if x!=0 else 0)\n",
    "\n",
    "\n",
    "df['slope'] = df['slope'].replace({0:np.nan}) #143 NaN in 'slope' variable\n",
    "\n",
    "for soil_var in ['workability_index', 'toxicity_index','rooting_conditions_index', 'oxygen_availability_index',\n",
    "       'nutrient_retention_index', 'nutrient_availability_index','excess_salts_index']:\n",
    "    df[soil_var] = df[soil_var].replace({255:np.nan}) \n",
    "\n",
    "## TODO figure out how to encode soil variables\n",
    "\n",
    "df\n",
    "    \n",
    "df = df.dropna()"
   ]
  },
  {
   "cell_type": "code",
   "execution_count": null,
   "metadata": {},
   "outputs": [],
   "source": [
    "df.head()"
   ]
  },
  {
   "cell_type": "code",
   "execution_count": null,
   "metadata": {},
   "outputs": [],
   "source": [
    "for var in df.columns:\n",
    "    fig,ax = plt.subplots()\n",
    "    df[var].plot(kind='kde',ax=ax);\n",
    "    ax.set_xlabel(var);"
   ]
  },
  {
   "cell_type": "markdown",
   "metadata": {},
   "source": [
    "# Load dataset"
   ]
  },
  {
   "cell_type": "code",
   "execution_count": 3,
   "metadata": {},
   "outputs": [],
   "source": [
    "def load_data(subset=True):\n",
    "    #L.info('Loading data')\n",
    "    crop_types_df = pd.read_csv('../ipbes_invest_crop_yield_project/intermediate/aggregate_crops_by_type/aggregated_crop_data.csv')\n",
    "    df_land = pd.read_csv('../ipbes_invest_crop_yield_project/intermediate/create_baseline_regression_data/baseline_regression_data.csv')\n",
    "    #L.info('Data loaded')\n",
    "\n",
    "    df = crop_types_df.merge(df_land,how='outer',on='pixel_id')\n",
    "    #L.info('Data merged')\n",
    "\n",
    "    if subset==True:\n",
    "        df = df.sample(frac=0.02, replace=False, weights=None, random_state=None, axis=0)\n",
    "\n",
    "    elif subset==False: #Save validation data\n",
    "        x = df.drop(['calories_per_ha'], axis=1)\n",
    "        y = df['calories_per_ha']\n",
    "        X, X_validation, Y, y_validation = train_test_split(x, y)\n",
    "        df = X.merge(Y,how='outer',left_index=True,right_index=True)\n",
    "\n",
    "    #Remove cal_per_ha per crop type for now\n",
    "    df = df.drop(labels=['c3_annual_calories_per_ha', 'c3_perennial_calories_per_ha',\n",
    "           'c4_annual_calories_per_ha', 'c4_perennial_calories_per_ha',\n",
    "           'nitrogen_fixer_calories_per_ha'], axis=1)\n",
    "\n",
    "    #Remove helper columns (not features)\n",
    "    df = df.drop(labels=['Unnamed: 0', 'country_ids',\n",
    "           'ha_per_cell_5m'], axis=1)\n",
    "\n",
    "    # Rename cols\n",
    "    df = df.rename(columns={'bio12': 'precip', 'bio1': 'temperature',\n",
    "                                'minutes_to_market_5m': 'min_to_market',\n",
    "                                'gdp_per_capita_2000_5m': 'gdp_per_capita',\n",
    "                                'gdp_2000': 'gdp'})\n",
    "    # Encode properly NaNs\n",
    "    df['slope'] = df['slope'].replace({0: np.nan})  # 143 NaN in 'slope' variable\n",
    "    for soil_var in ['workability_index', 'toxicity_index', 'rooting_conditions_index', 'oxygen_availability_index',\n",
    "                     'nutrient_retention_index', 'nutrient_availability_index', 'excess_salts_index']:\n",
    "        df[soil_var] = df[soil_var].replace({255: np.nan})\n",
    "        \n",
    "    # Drop NaN\n",
    "    df = df.dropna()\n",
    "    df = df[df['calories_per_ha'] != 0]    \n",
    "    \n",
    "    #Encode climate zones (as str)\n",
    "    climate_zones_map = {1:'Af',2:'Am',3:'Aw',\n",
    "                     5:'BWk',4:'BWh',7:'BSk',6:'BSh',\n",
    "                     14:'Cfa',15:'Cfb',16:'Cfc',8:'Csa',\n",
    "                     9:'Csb',10:'Csc',11:'Cwa',12:'Cwb',13:'Cwc',\n",
    "                     25:'Dfa',26:'Dfb',27:'Dfc',28:'Dfd',17:'Dsa',18:'Dsb',19:'Dsc',\n",
    "                     20:'Dsd',21:'Dwa',22:'Dwb',23:'Dwc',24:'Dwd',\n",
    "                     30:'EF',29:'ET'}\n",
    "    df['climate_zones'] = df['climate_zones'].map(climate_zones_map)\n",
    "    \n",
    "    # Encode climate zones as dummies\n",
    "    climate_dummies_df = pd.get_dummies(df['climate_zones'])\n",
    "    for col in climate_dummies_df.columns:\n",
    "        climate_dummies_df = climate_dummies_df.rename({col:str('climatezone_'+col)},axis=1)\n",
    "    \n",
    "    df = df.merge(climate_dummies_df, right_index=True,left_index=True)\n",
    "    df = df.drop('climate_zones',axis=1)\n",
    "    \n",
    "    # Log some skewed variables\n",
    "    df['calories_per_ha'] = df['calories_per_ha'].apply(lambda x: np.log(x) if x != 0 else 0)\n",
    "\n",
    "    for col in ['gdp_per_capita','altitude', 'min_to_market', 'gpw_population']:\n",
    "        df[str('log_'+col)] = df[col].apply(lambda x: np.log(x) if x != 0 else 0)\n",
    "\n",
    "\n",
    "    # Encode properly NaNs\n",
    "    df['slope'] = df['slope'].replace({0: np.nan})  # 143 NaN in 'slope' variable\n",
    "    for soil_var in ['workability_index', 'toxicity_index', 'rooting_conditions_index', 'oxygen_availability_index',\n",
    "                     'nutrient_retention_index', 'nutrient_availability_index', 'excess_salts_index']:\n",
    "        df[soil_var] = df[soil_var].replace({255: np.nan})\n",
    "            \n",
    "    df = df.set_index('pixel_id')\n",
    "\n",
    "    return df"
   ]
  },
  {
   "cell_type": "code",
   "execution_count": 4,
   "metadata": {},
   "outputs": [],
   "source": [
    "df = load_data()"
   ]
  },
  {
   "cell_type": "code",
   "execution_count": 5,
   "metadata": {},
   "outputs": [],
   "source": [
    "columns_without_climatezones = df.columns\n",
    "for col in df.columns:\n",
    "    if \"climatezone\" in col: \n",
    "        columns_without_climatezones = columns_without_climatezones.drop([col])"
   ]
  },
  {
   "cell_type": "markdown",
   "metadata": {},
   "source": [
    "### Look at distributions"
   ]
  },
  {
   "cell_type": "code",
   "execution_count": null,
   "metadata": {},
   "outputs": [],
   "source": [
    "for var in df.columns:\n",
    "    fig,ax = plt.subplots()\n",
    "    df[var].plot(kind='kde',ax=ax);\n",
    "    ax.set_xlabel(var);"
   ]
  },
  {
   "cell_type": "code",
   "execution_count": null,
   "metadata": {},
   "outputs": [],
   "source": [
    "fig,ax = plt.subplots(figsize=(20,5));\n",
    "sns.distplot(df[df['calories_per_ha']!=0]['calories_per_ha'],ax=ax);\n",
    "\n",
    "#Lines at mean, 75%, 90%, and 99%\n",
    "plt.axvline(df['calories_per_ha'].mean(), color='k', linestyle='dashed', linewidth=1);\n",
    "plt.axvline(df['calories_per_ha'].quantile(0.75), color='b', linestyle='dashed', linewidth=1);\n",
    "plt.axvline(df['calories_per_ha'].quantile(0.9), color='r', linestyle='dashed', linewidth=1);\n",
    "plt.axvline(df['calories_per_ha'].quantile(0.99), color='g', linestyle='dashed', linewidth=1);"
   ]
  },
  {
   "cell_type": "markdown",
   "metadata": {},
   "source": [
    "### Polynomial features"
   ]
  },
  {
   "cell_type": "code",
   "execution_count": 41,
   "metadata": {},
   "outputs": [],
   "source": [
    "def make_polynomial(df, degree = 2, interaction_terms = True):\n",
    "#'''Returns a new dataFrame with added polynomial terms degree >= 2'''\n",
    "\n",
    "\n",
    "    if interaction_terms == False:\n",
    "        x = df.drop(['calories_per_ha'], axis=1)\n",
    "        y = df['calories_per_ha']\n",
    "\n",
    "        for deg in range(2,degree+1):\n",
    "            for col in x.columns:\n",
    "                x[str(col+'^'+str(deg))] = x[col].apply(lambda x:x**deg)\n",
    "        \n",
    "        Poly_df = x.merge(pd.DataFrame(y),right_index=True,left_index=True)\n",
    "\n",
    "    if interaction_terms == True:\n",
    "        x = df.drop(['calories_per_ha'], axis=1)\n",
    "        y = df['calories_per_ha'].reset_index()\n",
    "\n",
    "        poly = PolynomialFeatures(degree=degree, include_bias=False)\n",
    "        X2 = poly.fit_transform(x)\n",
    "\n",
    "        Poly_df = pd.DataFrame(data = np.concatenate((y.as_matrix(),X2),axis=1),\n",
    "                               columns = ['pixel_id','calories_per_ha'] +\n",
    "                               poly.get_feature_names((df.drop(['calories_per_ha'], axis=1)).columns))\n",
    "\n",
    "        Poly_df = Poly_df.set_index('pixel_id')\n",
    "\n",
    "    return Poly_df\n"
   ]
  },
  {
   "cell_type": "markdown",
   "metadata": {},
   "source": [
    "### Store results "
   ]
  },
  {
   "cell_type": "code",
   "execution_count": 36,
   "metadata": {},
   "outputs": [],
   "source": [
    "results= pd.DataFrame(columns=['Model','num_features','Features','MSE','R2'])"
   ]
  },
  {
   "cell_type": "code",
   "execution_count": 44,
   "metadata": {},
   "outputs": [
    {
     "name": "stderr",
     "output_type": "stream",
     "text": [
      "/Users/charlotteweil1/anaconda/envs/spatialenv/lib/python3.6/site-packages/sklearn/utils/__init__.py:93: FutureWarning: Conversion of the second argument of issubdtype from `int` to `np.signedinteger` is deprecated. In future, it will be treated as `np.int64 == np.dtype(int).type`.\n",
      "  if np.issubdtype(mask.dtype, np.int):\n",
      "/Users/charlotteweil1/anaconda/envs/spatialenv/lib/python3.6/site-packages/sklearn/utils/__init__.py:93: FutureWarning: Conversion of the second argument of issubdtype from `int` to `np.signedinteger` is deprecated. In future, it will be treated as `np.int64 == np.dtype(int).type`.\n",
      "  if np.issubdtype(mask.dtype, np.int):\n",
      "/Users/charlotteweil1/anaconda/envs/spatialenv/lib/python3.6/site-packages/sklearn/utils/__init__.py:93: FutureWarning: Conversion of the second argument of issubdtype from `int` to `np.signedinteger` is deprecated. In future, it will be treated as `np.int64 == np.dtype(int).type`.\n",
      "  if np.issubdtype(mask.dtype, np.int):\n",
      "/Users/charlotteweil1/anaconda/envs/spatialenv/lib/python3.6/site-packages/sklearn/utils/__init__.py:93: FutureWarning: Conversion of the second argument of issubdtype from `int` to `np.signedinteger` is deprecated. In future, it will be treated as `np.int64 == np.dtype(int).type`.\n",
      "  if np.issubdtype(mask.dtype, np.int):\n",
      "/Users/charlotteweil1/anaconda/envs/spatialenv/lib/python3.6/site-packages/sklearn/utils/__init__.py:93: FutureWarning: Conversion of the second argument of issubdtype from `int` to `np.signedinteger` is deprecated. In future, it will be treated as `np.int64 == np.dtype(int).type`.\n",
      "  if np.issubdtype(mask.dtype, np.int):\n",
      "/Users/charlotteweil1/anaconda/envs/spatialenv/lib/python3.6/site-packages/sklearn/utils/__init__.py:93: FutureWarning: Conversion of the second argument of issubdtype from `int` to `np.signedinteger` is deprecated. In future, it will be treated as `np.int64 == np.dtype(int).type`.\n",
      "  if np.issubdtype(mask.dtype, np.int):\n",
      "/Users/charlotteweil1/anaconda/envs/spatialenv/lib/python3.6/site-packages/sklearn/utils/__init__.py:93: FutureWarning: Conversion of the second argument of issubdtype from `int` to `np.signedinteger` is deprecated. In future, it will be treated as `np.int64 == np.dtype(int).type`.\n",
      "  if np.issubdtype(mask.dtype, np.int):\n",
      "/Users/charlotteweil1/anaconda/envs/spatialenv/lib/python3.6/site-packages/sklearn/utils/__init__.py:93: FutureWarning: Conversion of the second argument of issubdtype from `int` to `np.signedinteger` is deprecated. In future, it will be treated as `np.int64 == np.dtype(int).type`.\n",
      "  if np.issubdtype(mask.dtype, np.int):\n",
      "/Users/charlotteweil1/anaconda/envs/spatialenv/lib/python3.6/site-packages/sklearn/utils/__init__.py:93: FutureWarning: Conversion of the second argument of issubdtype from `int` to `np.signedinteger` is deprecated. In future, it will be treated as `np.int64 == np.dtype(int).type`.\n",
      "  if np.issubdtype(mask.dtype, np.int):\n",
      "/Users/charlotteweil1/anaconda/envs/spatialenv/lib/python3.6/site-packages/sklearn/utils/__init__.py:93: FutureWarning: Conversion of the second argument of issubdtype from `int` to `np.signedinteger` is deprecated. In future, it will be treated as `np.int64 == np.dtype(int).type`.\n",
      "  if np.issubdtype(mask.dtype, np.int):\n",
      "/Users/charlotteweil1/anaconda/envs/spatialenv/lib/python3.6/site-packages/sklearn/utils/__init__.py:93: FutureWarning: Conversion of the second argument of issubdtype from `int` to `np.signedinteger` is deprecated. In future, it will be treated as `np.int64 == np.dtype(int).type`.\n",
      "  if np.issubdtype(mask.dtype, np.int):\n",
      "/Users/charlotteweil1/anaconda/envs/spatialenv/lib/python3.6/site-packages/sklearn/utils/__init__.py:93: FutureWarning: Conversion of the second argument of issubdtype from `int` to `np.signedinteger` is deprecated. In future, it will be treated as `np.int64 == np.dtype(int).type`.\n",
      "  if np.issubdtype(mask.dtype, np.int):\n",
      "/Users/charlotteweil1/anaconda/envs/spatialenv/lib/python3.6/site-packages/sklearn/utils/__init__.py:93: FutureWarning: Conversion of the second argument of issubdtype from `int` to `np.signedinteger` is deprecated. In future, it will be treated as `np.int64 == np.dtype(int).type`.\n",
      "  if np.issubdtype(mask.dtype, np.int):\n",
      "/Users/charlotteweil1/anaconda/envs/spatialenv/lib/python3.6/site-packages/sklearn/utils/__init__.py:93: FutureWarning: Conversion of the second argument of issubdtype from `int` to `np.signedinteger` is deprecated. In future, it will be treated as `np.int64 == np.dtype(int).type`.\n",
      "  if np.issubdtype(mask.dtype, np.int):\n",
      "/Users/charlotteweil1/anaconda/envs/spatialenv/lib/python3.6/site-packages/sklearn/utils/__init__.py:93: FutureWarning: Conversion of the second argument of issubdtype from `int` to `np.signedinteger` is deprecated. In future, it will be treated as `np.int64 == np.dtype(int).type`.\n",
      "  if np.issubdtype(mask.dtype, np.int):\n"
     ]
    }
   ],
   "source": [
    "### - - - - - - - - - - - - - - - - - - - - - - - - - - - - - - - - - - - - - - - - - -\n",
    "### - - - - - - - - - - - - - - - -  Linear regression - - - - - - - - - - - - - - - - \n",
    "### - - - - - - - - - - - - - - - - - - - - - - - - - - - - - - - - - - - - - - - - - -\n",
    "\n",
    "\n",
    "regression = LinearRegression()\n",
    "\n",
    "model = 'Linear Reg'\n",
    "\n",
    "dataframe = df\n",
    "        \n",
    "\n",
    "# Iterate over ≠ numbers of features\n",
    "for num_features in range (5,20):\n",
    "\n",
    "    ## RFE - Features selection\n",
    "    selector = RFE(regression, num_features, step=1)\n",
    "\n",
    "    x = dataframe.drop(['calories_per_ha'], axis=1) ## TODO climate_zones encode One Hot Encoder\n",
    "    y = dataframe['calories_per_ha']\n",
    "    X, X_test, Y, Y_test = train_test_split(x, y)\n",
    "\n",
    "    X_RFE = selector.fit_transform(X,Y)\n",
    "\n",
    "    features_selected = [X.columns[feature_pos] for feature_pos in selector.get_support(indices=True)]\n",
    "    features_selected.append('calories_per_ha')\n",
    "    scores = do_regression(regression,dataframe[features_selected])\n",
    "    R2_score = scores[0]\n",
    "    MSE_score = scores[1]\n",
    "    MAE_score = scores[2]\n",
    "\n",
    "    results = results.append({'Model': model,\n",
    "                              'num_features':num_features,\n",
    "                              'Features':features_selected,\n",
    "                              'R2':R2_score,\n",
    "                              'MSE':MSE_score},\n",
    "                             ignore_index=True)\n",
    "    "
   ]
  },
  {
   "cell_type": "code",
   "execution_count": 42,
   "metadata": {},
   "outputs": [
    {
     "name": "stdout",
     "output_type": "stream",
     "text": [
      "Running Polynomial of degree 2\n",
      "  Doing regression with 5 features ...\n"
     ]
    },
    {
     "ename": "KeyboardInterrupt",
     "evalue": "",
     "output_type": "error",
     "traceback": [
      "\u001b[0;31m---------------------------------------------------------------------------\u001b[0m",
      "\u001b[0;31mKeyboardInterrupt\u001b[0m                         Traceback (most recent call last)",
      "\u001b[0;32m<ipython-input-42-058394e18d0d>\u001b[0m in \u001b[0;36m<module>\u001b[0;34m()\u001b[0m\n\u001b[1;32m     31\u001b[0m             \u001b[0mX\u001b[0m\u001b[0;34m,\u001b[0m \u001b[0mX_test\u001b[0m\u001b[0;34m,\u001b[0m \u001b[0mY\u001b[0m\u001b[0;34m,\u001b[0m \u001b[0mY_test\u001b[0m \u001b[0;34m=\u001b[0m \u001b[0mtrain_test_split\u001b[0m\u001b[0;34m(\u001b[0m\u001b[0mx\u001b[0m\u001b[0;34m,\u001b[0m \u001b[0my\u001b[0m\u001b[0;34m)\u001b[0m\u001b[0;34m\u001b[0m\u001b[0m\n\u001b[1;32m     32\u001b[0m \u001b[0;34m\u001b[0m\u001b[0m\n\u001b[0;32m---> 33\u001b[0;31m             \u001b[0mX_RFE\u001b[0m \u001b[0;34m=\u001b[0m \u001b[0mselector\u001b[0m\u001b[0;34m.\u001b[0m\u001b[0mfit_transform\u001b[0m\u001b[0;34m(\u001b[0m\u001b[0mX\u001b[0m\u001b[0;34m,\u001b[0m\u001b[0mY\u001b[0m\u001b[0;34m)\u001b[0m\u001b[0;34m\u001b[0m\u001b[0m\n\u001b[0m\u001b[1;32m     34\u001b[0m \u001b[0;34m\u001b[0m\u001b[0m\n\u001b[1;32m     35\u001b[0m             \u001b[0mfeatures_selected\u001b[0m \u001b[0;34m=\u001b[0m \u001b[0;34m[\u001b[0m\u001b[0mX\u001b[0m\u001b[0;34m.\u001b[0m\u001b[0mcolumns\u001b[0m\u001b[0;34m[\u001b[0m\u001b[0mfeature_pos\u001b[0m\u001b[0;34m]\u001b[0m \u001b[0;32mfor\u001b[0m \u001b[0mfeature_pos\u001b[0m \u001b[0;32min\u001b[0m \u001b[0mselector\u001b[0m\u001b[0;34m.\u001b[0m\u001b[0mget_support\u001b[0m\u001b[0;34m(\u001b[0m\u001b[0mindices\u001b[0m\u001b[0;34m=\u001b[0m\u001b[0;32mTrue\u001b[0m\u001b[0;34m)\u001b[0m\u001b[0;34m]\u001b[0m\u001b[0;34m\u001b[0m\u001b[0m\n",
      "\u001b[0;32m~/anaconda/envs/spatialenv/lib/python3.6/site-packages/sklearn/base.py\u001b[0m in \u001b[0;36mfit_transform\u001b[0;34m(self, X, y, **fit_params)\u001b[0m\n\u001b[1;32m    519\u001b[0m             \u001b[0;31m# fit method of arity 2 (supervised transformation)\u001b[0m\u001b[0;34m\u001b[0m\u001b[0;34m\u001b[0m\u001b[0m\n\u001b[1;32m    520\u001b[0m             \u001b[0;32mreturn\u001b[0m \u001b[0mself\u001b[0m\u001b[0;34m.\u001b[0m\u001b[0mfit\u001b[0m\u001b[0;34m(\u001b[0m\u001b[0mX\u001b[0m\u001b[0;34m,\u001b[0m \u001b[0my\u001b[0m\u001b[0;34m,\u001b[0m \u001b[0;34m**\u001b[0m\u001b[0mfit_params\u001b[0m\u001b[0;34m)\u001b[0m\u001b[0;34m.\u001b[0m\u001b[0mtransform\u001b[0m\u001b[0;34m(\u001b[0m\u001b[0mX\u001b[0m\u001b[0;34m)\u001b[0m\u001b[0;34m\u001b[0m\u001b[0m\n\u001b[0;32m--> 521\u001b[0;31m \u001b[0;34m\u001b[0m\u001b[0m\n\u001b[0m\u001b[1;32m    522\u001b[0m \u001b[0;34m\u001b[0m\u001b[0m\n\u001b[1;32m    523\u001b[0m \u001b[0;32mclass\u001b[0m \u001b[0mDensityMixin\u001b[0m\u001b[0;34m(\u001b[0m\u001b[0mobject\u001b[0m\u001b[0;34m)\u001b[0m\u001b[0;34m:\u001b[0m\u001b[0;34m\u001b[0m\u001b[0m\n",
      "\u001b[0;32m~/anaconda/envs/spatialenv/lib/python3.6/site-packages/sklearn/feature_selection/rfe.py\u001b[0m in \u001b[0;36mfit\u001b[0;34m(self, X, y)\u001b[0m\n\u001b[1;32m    132\u001b[0m             \u001b[0mThe\u001b[0m \u001b[0mtarget\u001b[0m \u001b[0mvalues\u001b[0m\u001b[0;34m.\u001b[0m\u001b[0;34m\u001b[0m\u001b[0m\n\u001b[1;32m    133\u001b[0m         \"\"\"\n\u001b[0;32m--> 134\u001b[0;31m         \u001b[0;32mreturn\u001b[0m \u001b[0mself\u001b[0m\u001b[0;34m.\u001b[0m\u001b[0m_fit\u001b[0m\u001b[0;34m(\u001b[0m\u001b[0mX\u001b[0m\u001b[0;34m,\u001b[0m \u001b[0my\u001b[0m\u001b[0;34m)\u001b[0m\u001b[0;34m\u001b[0m\u001b[0m\n\u001b[0m\u001b[1;32m    135\u001b[0m \u001b[0;34m\u001b[0m\u001b[0m\n\u001b[1;32m    136\u001b[0m     \u001b[0;32mdef\u001b[0m \u001b[0m_fit\u001b[0m\u001b[0;34m(\u001b[0m\u001b[0mself\u001b[0m\u001b[0;34m,\u001b[0m \u001b[0mX\u001b[0m\u001b[0;34m,\u001b[0m \u001b[0my\u001b[0m\u001b[0;34m,\u001b[0m \u001b[0mstep_score\u001b[0m\u001b[0;34m=\u001b[0m\u001b[0;32mNone\u001b[0m\u001b[0;34m)\u001b[0m\u001b[0;34m:\u001b[0m\u001b[0;34m\u001b[0m\u001b[0m\n",
      "\u001b[0;32m~/anaconda/envs/spatialenv/lib/python3.6/site-packages/sklearn/feature_selection/rfe.py\u001b[0m in \u001b[0;36m_fit\u001b[0;34m(self, X, y, step_score)\u001b[0m\n\u001b[1;32m    171\u001b[0m                 \u001b[0mprint\u001b[0m\u001b[0;34m(\u001b[0m\u001b[0;34m\"Fitting estimator with %d features.\"\u001b[0m \u001b[0;34m%\u001b[0m \u001b[0mnp\u001b[0m\u001b[0;34m.\u001b[0m\u001b[0msum\u001b[0m\u001b[0;34m(\u001b[0m\u001b[0msupport_\u001b[0m\u001b[0;34m)\u001b[0m\u001b[0;34m)\u001b[0m\u001b[0;34m\u001b[0m\u001b[0m\n\u001b[1;32m    172\u001b[0m \u001b[0;34m\u001b[0m\u001b[0m\n\u001b[0;32m--> 173\u001b[0;31m             \u001b[0mestimator\u001b[0m\u001b[0;34m.\u001b[0m\u001b[0mfit\u001b[0m\u001b[0;34m(\u001b[0m\u001b[0mX\u001b[0m\u001b[0;34m[\u001b[0m\u001b[0;34m:\u001b[0m\u001b[0;34m,\u001b[0m \u001b[0mfeatures\u001b[0m\u001b[0;34m]\u001b[0m\u001b[0;34m,\u001b[0m \u001b[0my\u001b[0m\u001b[0;34m)\u001b[0m\u001b[0;34m\u001b[0m\u001b[0m\n\u001b[0m\u001b[1;32m    174\u001b[0m \u001b[0;34m\u001b[0m\u001b[0m\n\u001b[1;32m    175\u001b[0m             \u001b[0;31m# Get coefs\u001b[0m\u001b[0;34m\u001b[0m\u001b[0;34m\u001b[0m\u001b[0m\n",
      "\u001b[0;32m~/anaconda/envs/spatialenv/lib/python3.6/site-packages/sklearn/linear_model/base.py\u001b[0m in \u001b[0;36mfit\u001b[0;34m(self, X, y, sample_weight)\u001b[0m\n\u001b[1;32m    507\u001b[0m         \u001b[0;32melse\u001b[0m\u001b[0;34m:\u001b[0m\u001b[0;34m\u001b[0m\u001b[0m\n\u001b[1;32m    508\u001b[0m             \u001b[0mself\u001b[0m\u001b[0;34m.\u001b[0m\u001b[0mcoef_\u001b[0m\u001b[0;34m,\u001b[0m \u001b[0mself\u001b[0m\u001b[0;34m.\u001b[0m\u001b[0m_residues\u001b[0m\u001b[0;34m,\u001b[0m \u001b[0mself\u001b[0m\u001b[0;34m.\u001b[0m\u001b[0mrank_\u001b[0m\u001b[0;34m,\u001b[0m \u001b[0mself\u001b[0m\u001b[0;34m.\u001b[0m\u001b[0msingular_\u001b[0m \u001b[0;34m=\u001b[0m\u001b[0;31m \u001b[0m\u001b[0;31m\\\u001b[0m\u001b[0;34m\u001b[0m\u001b[0m\n\u001b[0;32m--> 509\u001b[0;31m                 \u001b[0mlinalg\u001b[0m\u001b[0;34m.\u001b[0m\u001b[0mlstsq\u001b[0m\u001b[0;34m(\u001b[0m\u001b[0mX\u001b[0m\u001b[0;34m,\u001b[0m \u001b[0my\u001b[0m\u001b[0;34m)\u001b[0m\u001b[0;34m\u001b[0m\u001b[0m\n\u001b[0m\u001b[1;32m    510\u001b[0m             \u001b[0mself\u001b[0m\u001b[0;34m.\u001b[0m\u001b[0mcoef_\u001b[0m \u001b[0;34m=\u001b[0m \u001b[0mself\u001b[0m\u001b[0;34m.\u001b[0m\u001b[0mcoef_\u001b[0m\u001b[0;34m.\u001b[0m\u001b[0mT\u001b[0m\u001b[0;34m\u001b[0m\u001b[0m\n\u001b[1;32m    511\u001b[0m \u001b[0;34m\u001b[0m\u001b[0m\n",
      "\u001b[0;32m~/anaconda/envs/spatialenv/lib/python3.6/site-packages/scipy/linalg/basic.py\u001b[0m in \u001b[0;36mlstsq\u001b[0;34m(a, b, cond, overwrite_a, overwrite_b, check_finite, lapack_driver)\u001b[0m\n\u001b[1;32m   1204\u001b[0m             v, x, s, rank, work, info = lapack_func(a1, b1, cond, lwork,\n\u001b[1;32m   1205\u001b[0m                                                     \u001b[0moverwrite_a\u001b[0m\u001b[0;34m=\u001b[0m\u001b[0moverwrite_a\u001b[0m\u001b[0;34m,\u001b[0m\u001b[0;34m\u001b[0m\u001b[0m\n\u001b[0;32m-> 1206\u001b[0;31m                                                     overwrite_b=overwrite_b)\n\u001b[0m\u001b[1;32m   1207\u001b[0m \u001b[0;34m\u001b[0m\u001b[0m\n\u001b[1;32m   1208\u001b[0m         \u001b[0;32melif\u001b[0m \u001b[0mdriver\u001b[0m \u001b[0;34m==\u001b[0m \u001b[0;34m'gelsd'\u001b[0m\u001b[0;34m:\u001b[0m\u001b[0;34m\u001b[0m\u001b[0m\n",
      "\u001b[0;31mKeyboardInterrupt\u001b[0m: "
     ]
    }
   ],
   "source": [
    "### - - - - - - - - - - - - - - - - - - - - - - - - - - - - - - - - - - - - - - - - - -\n",
    "### - - - - - - - - - - - - - - - -  Polynomial regression - - - - - - - - - - - - - - - - \n",
    "### - - - - - - - - - - - - - - - - - - - - - - - - - - - - - - - - - - - - - - - - - -\n",
    "\n",
    "\n",
    "\n",
    "regression = LinearRegression()\n",
    "\n",
    "for interaction_terms in [False,True]:\n",
    "    for degree in [2,3]:\n",
    "        \n",
    "        print('Running Polynomial of degree ' + str(degree)+ interaction_terms*(' with interaction terms'))\n",
    "        \n",
    "        \n",
    "        model = str('Poly deg'+str(degree)+interaction_terms*' w/ interact')\n",
    "\n",
    "        dataframe = make_polynomial(df)\n",
    "\n",
    "        \n",
    "\n",
    "        # Iterate over ≠ numbers of features\n",
    "        for num_features in range (5,10):\n",
    "            \n",
    "            print('  Doing regression with '+str(num_features)+ ' features ...')\n",
    "\n",
    "            ## RFE - Features selection\n",
    "            selector = RFE(regression, num_features, step=1)\n",
    "\n",
    "            x = dataframe.drop(['calories_per_ha'], axis=1) \n",
    "            y = dataframe['calories_per_ha']\n",
    "            X, X_test, Y, Y_test = train_test_split(x, y)\n",
    "\n",
    "            X_RFE = selector.fit_transform(X,Y)\n",
    "\n",
    "            features_selected = [X.columns[feature_pos] for feature_pos in selector.get_support(indices=True)]\n",
    "            features_selected.append('calories_per_ha')\n",
    "            scores = do_regression(regression,dataframe[features_selected])\n",
    "            R2_score = scores[0]\n",
    "            MSE_score = scores[1]\n",
    "            MAE_score = scores[2]\n",
    "\n",
    "            results = results.append({'Model': model,\n",
    "                                      'num_features':num_features,\n",
    "                                      'Features':features_selected,\n",
    "                                      'R2':R2_score,\n",
    "                                      'MSE':MSE_score},\n",
    "                                     ignore_index=True)\n",
    "            \n",
    "            print('  ... done')\n",
    "    "
   ]
  },
  {
   "cell_type": "code",
   "execution_count": 193,
   "metadata": {},
   "outputs": [
    {
     "name": "stderr",
     "output_type": "stream",
     "text": [
      "/Users/charlotteweil1/anaconda/envs/spatialenv/lib/python3.6/site-packages/sklearn/utils/__init__.py:93: FutureWarning: Conversion of the second argument of issubdtype from `int` to `np.signedinteger` is deprecated. In future, it will be treated as `np.int64 == np.dtype(int).type`.\n",
      "  if np.issubdtype(mask.dtype, np.int):\n"
     ]
    }
   ],
   "source": [
    "### - - - - - - - - - - - - - - - - - - - - - - - - - - - - - - - - - - - - - - - - - -\n",
    "### - - - - - - - - - - - - - - - - -  XGB - - - - - - - - - - - - - - - - - - - - - - - \n",
    "### - - - - - - - - - - - - - - - - - - - - - - - - - - - - - - - - - - - - - - - - - -\n",
    "\n",
    "model = 'XGB'\n",
    "\n",
    "\n",
    "regression = xgb.XGBRegressor()\n",
    "\n",
    "print('Running XGBoost')\n",
    "\n",
    "# Iterate over ≠ numbers of features\n",
    "for num_features in range (5,6):\n",
    "    \n",
    "    print('    with '+str(num_features)+ ' features ...')\n",
    "    \n",
    "    ## RFE - Features selection\n",
    "    selector = RFE(regression, num_features, step=1)\n",
    "\n",
    "    x = df.drop(['calories_per_ha','climate_zones'], axis=1) ## TODO climate_zones encode One Hot Encoder\n",
    "    y = df['calories_per_ha']\n",
    "    X, X_test, Y, Y_test = train_test_split(x, y)\n",
    "\n",
    "    X_RFE = selector.fit_transform(X,Y)\n",
    "\n",
    "    features_selected = [X.columns[feature_pos] for feature_pos in selector.get_support(indices=True)]\n",
    "    features_selected.append('calories_per_ha')\n",
    "    scores = do_regression(regression,df[features_selected])\n",
    "    R2_score = scores[0]\n",
    "    MSE_score = scores[1]\n",
    "    MAE_score = scores[2]\n",
    "    \n",
    "    results = results.append({'Model': model,\n",
    "                              'num_features':num_features,\n",
    "                              'Features':features_selected,\n",
    "                              'R2':R2_score,\n",
    "                              'MSE':MSE_score},\n",
    "                             ignore_index=True)\n",
    "    \n",
    "    \n",
    "    print('    ... done')\n",
    "    "
   ]
  },
  {
   "cell_type": "code",
   "execution_count": 43,
   "metadata": {},
   "outputs": [
    {
     "data": {
      "text/html": [
       "<div>\n",
       "<style scoped>\n",
       "    .dataframe tbody tr th:only-of-type {\n",
       "        vertical-align: middle;\n",
       "    }\n",
       "\n",
       "    .dataframe tbody tr th {\n",
       "        vertical-align: top;\n",
       "    }\n",
       "\n",
       "    .dataframe thead th {\n",
       "        text-align: right;\n",
       "    }\n",
       "</style>\n",
       "<table border=\"1\" class=\"dataframe\">\n",
       "  <thead>\n",
       "    <tr style=\"text-align: right;\">\n",
       "      <th></th>\n",
       "      <th>Model</th>\n",
       "      <th>num_features</th>\n",
       "      <th>Features</th>\n",
       "      <th>MSE</th>\n",
       "      <th>R2</th>\n",
       "    </tr>\n",
       "  </thead>\n",
       "  <tbody>\n",
       "    <tr>\n",
       "      <th>0</th>\n",
       "      <td>Linear Reg</td>\n",
       "      <td>5</td>\n",
       "      <td>[climatezone_BSh, climatezone_BWh, climatezone...</td>\n",
       "      <td>-1.651151</td>\n",
       "      <td>0.077862</td>\n",
       "    </tr>\n",
       "    <tr>\n",
       "      <th>1</th>\n",
       "      <td>Linear Reg</td>\n",
       "      <td>6</td>\n",
       "      <td>[climatezone_BSh, climatezone_BWh, climatezone...</td>\n",
       "      <td>-1.650993</td>\n",
       "      <td>0.077948</td>\n",
       "    </tr>\n",
       "    <tr>\n",
       "      <th>2</th>\n",
       "      <td>Linear Reg</td>\n",
       "      <td>7</td>\n",
       "      <td>[climatezone_Aw, climatezone_BSh, climatezone_...</td>\n",
       "      <td>-1.607417</td>\n",
       "      <td>0.102500</td>\n",
       "    </tr>\n",
       "    <tr>\n",
       "      <th>3</th>\n",
       "      <td>Linear Reg</td>\n",
       "      <td>8</td>\n",
       "      <td>[climatezone_Af, climatezone_BSh, climatezone_...</td>\n",
       "      <td>-1.614633</td>\n",
       "      <td>0.098322</td>\n",
       "    </tr>\n",
       "    <tr>\n",
       "      <th>4</th>\n",
       "      <td>Linear Reg</td>\n",
       "      <td>9</td>\n",
       "      <td>[climatezone_Af, climatezone_Aw, climatezone_B...</td>\n",
       "      <td>-1.581709</td>\n",
       "      <td>0.116939</td>\n",
       "    </tr>\n",
       "  </tbody>\n",
       "</table>\n",
       "</div>"
      ],
      "text/plain": [
       "        Model num_features                                           Features  \\\n",
       "0  Linear Reg            5  [climatezone_BSh, climatezone_BWh, climatezone...   \n",
       "1  Linear Reg            6  [climatezone_BSh, climatezone_BWh, climatezone...   \n",
       "2  Linear Reg            7  [climatezone_Aw, climatezone_BSh, climatezone_...   \n",
       "3  Linear Reg            8  [climatezone_Af, climatezone_BSh, climatezone_...   \n",
       "4  Linear Reg            9  [climatezone_Af, climatezone_Aw, climatezone_B...   \n",
       "\n",
       "        MSE        R2  \n",
       "0 -1.651151  0.077862  \n",
       "1 -1.650993  0.077948  \n",
       "2 -1.607417  0.102500  \n",
       "3 -1.614633  0.098322  \n",
       "4 -1.581709  0.116939  "
      ]
     },
     "execution_count": 43,
     "metadata": {},
     "output_type": "execute_result"
    }
   ],
   "source": [
    "results"
   ]
  },
  {
   "cell_type": "markdown",
   "metadata": {},
   "source": [
    "### Automated functions to make regressions"
   ]
  },
  {
   "cell_type": "code",
   "execution_count": 9,
   "metadata": {},
   "outputs": [],
   "source": [
    "def do_regression(regression,dataframe):\n",
    "    ##Must make dummies for categorical variable climate_zone\n",
    "    # dataframe = pd.get_dummies(dataframe, columns=['climate_zone'])\n",
    "    # Or just drop column if don't want dummies: x = x.drop(['climate_zone'], axis=1)\n",
    "\n",
    "    x = dataframe.drop(['calories_per_ha'], axis=1)\n",
    "    y = dataframe['calories_per_ha']\n",
    "\n",
    "    ### Cross validation scores\n",
    "    r2_scores = cross_val_score(regression, x, y, cv=10,scoring='r2')\n",
    "    mse_scores = cross_val_score(regression, x, y, cv=10, scoring='neg_mean_squared_error')\n",
    "    mae_scores = cross_val_score(regression, x, y, cv=10, scoring='neg_mean_absolute_error')\n",
    "    \n",
    "    return [np.mean(r2_scores),np.mean(mse_scores),np.mean(mae_scores)]"
   ]
  },
  {
   "cell_type": "code",
   "execution_count": null,
   "metadata": {},
   "outputs": [],
   "source": [
    "def compare_predictions(regression,dataframe,show_df=True,show_plot=True):\n",
    "    x = dataframe.drop(['calories_per_ha','climate_zones'], axis=1)\n",
    "    y = dataframe['calories_per_ha']\n",
    "    X_train, X_test, y_train, y_test = train_test_split(x, y)\n",
    "\n",
    "    reg = regression.fit(X_train, y_train)\n",
    "    y_predicted = reg.predict(X_test)\n",
    "\n",
    "    compare = pd.DataFrame()\n",
    "    compare['y_test'] = y_test\n",
    "    compare['predicted'] = y_predicted\n",
    "\n",
    "    if show_plot == True:\n",
    "        ax = compare.plot.scatter(x='y_test',y='predicted',s=0.5)\n",
    "        ax.plot(ax.get_xlim(), ax.get_xlim(), ls=\"--\", c=\".3\")\n",
    "        \n",
    "    return compare"
   ]
  },
  {
   "cell_type": "code",
   "execution_count": 11,
   "metadata": {},
   "outputs": [],
   "source": [
    "import warnings\n",
    "\n",
    "def fxn():\n",
    "    warnings.warn(\"future\", FutureWarning)\n",
    "\n",
    "with warnings.catch_warnings():\n",
    "    warnings.simplefilter(\"ignore\")\n",
    "    fxn()"
   ]
  },
  {
   "cell_type": "code",
   "execution_count": 10,
   "metadata": {},
   "outputs": [
    {
     "data": {
      "text/plain": [
       "Index(['calories_per_ha', 'slope', 'altitude', 'workability_index',\n",
       "       'toxicity_index', 'rooting_conditions_index', 'protected_areas_index',\n",
       "       'oxygen_availability_index', 'nutrient_retention_index',\n",
       "       'nutrient_availability_index', 'excess_salts_index', 'gdp',\n",
       "       'gdp_per_capita', 'min_to_market', 'gpw_population', 'temp_avg',\n",
       "       'temp_diurnalrange', 'temp_isothermality', 'temp_seasonality',\n",
       "       'temp_annualmax', 'temp_annualmin', 'temp_annualrange', 'precip',\n",
       "       'precip_wet_mth', 'precip_dry_mth', 'precip_seasonality',\n",
       "       'pixel_id_float', 'land_mask', 'lat', 'lon', 'climatezone_Af',\n",
       "       'climatezone_Am', 'climatezone_Aw', 'climatezone_BSh',\n",
       "       'climatezone_BSk', 'climatezone_BWh', 'climatezone_BWk',\n",
       "       'climatezone_Cfa', 'climatezone_Cfb', 'climatezone_Cfc',\n",
       "       'climatezone_Csa', 'climatezone_Csb', 'climatezone_Csc',\n",
       "       'climatezone_Cwa', 'climatezone_Cwb', 'climatezone_Cwc',\n",
       "       'climatezone_Dfa', 'climatezone_Dfb', 'climatezone_Dfc',\n",
       "       'climatezone_Dfd', 'climatezone_Dsa', 'climatezone_Dsb',\n",
       "       'climatezone_Dsc', 'climatezone_Dsd', 'climatezone_Dwa',\n",
       "       'climatezone_Dwb', 'climatezone_Dwc', 'climatezone_Dwd',\n",
       "       'climatezone_EF', 'climatezone_ET', 'log_gdp_per_capita',\n",
       "       'log_altitude', 'log_min_to_market', 'log_gpw_population'],\n",
       "      dtype='object')"
      ]
     },
     "execution_count": 10,
     "metadata": {},
     "output_type": "execute_result"
    }
   ],
   "source": [
    "df.columns"
   ]
  },
  {
   "cell_type": "markdown",
   "metadata": {},
   "source": [
    "## Tuning XGB Parameters\n",
    "\n",
    "\n",
    "\n",
    "##### Parameters to tune (with = default value): \n",
    "* max_depth=3,\n",
    "* learning_rate=0.1, --> explore in step 1 -- typically values in 0.01-0.2\n",
    "* n_estimators=100, --> explore in step 1\n",
    "\n",
    "* min_child_weight=1 --> Used to control over-fitting should be tuned using cv\n",
    "\n",
    "\n",
    "* ??? max_depth = 6 --> tune btw 3-10 using cv\n",
    "* ??? subsample = 1 -->  0.5-1 (higher: overfit)\n",
    "\n",
    "silent=True, objective='reg:linear', \n",
    "\n",
    "booster='gbtree' ALSO TRY gblinear\n",
    "\n",
    "\n",
    "0.5-1\n",
    "\n",
    ", gamma=0,\n",
    "\n",
    "* max_delta_step=0 --> generally not used.\n",
    "###### Other function parameters \n",
    "* n_jobs=1, nthread=None --> for parallelization\n",
    "subsample=1,\n",
    "\n",
    "colsample_bytree=1, --> 0.5-1\n",
    "colsample_bylevel=1, --> no need to tune, subsample and colsample_bytree will do the job\n",
    "\n",
    "reg_alpha=0, --> L1 regularization term on weight (analogous to Lasso regression). To make faster if high dim\n",
    "reg_lambda=1, --> L2 regularization term on weights (analogous to Ridge regression). not critical to tune\n",
    "\n",
    "scale_pos_weight=1, --> (class imbalance) not sure\n",
    "\n",
    "base_score=0.5\n",
    "\n",
    "\n",
    "\n",
    "\n",
    "\n",
    "\n",
    "df['booster'] = df['booster'].apply(lambda x: x='gbtree' if x==np.nan else 0)\n"
   ]
  },
  {
   "cell_type": "code",
   "execution_count": 12,
   "metadata": {},
   "outputs": [],
   "source": [
    "xgb_tuning = pd.DataFrame(columns=['Model','num_features','Features','MSE','R2','learning_rate','n_estimators'])\n",
    "\n",
    "## is a parameter = nan --> means default value\n"
   ]
  },
  {
   "cell_type": "code",
   "execution_count": 59,
   "metadata": {},
   "outputs": [],
   "source": [
    "xgb_tuning3 = pd.DataFrame(columns=['Model','num_features','Features','MSE','R2','learning_rate','n_estimators'])\n",
    "\n",
    "## is a parameter = nan --> means default value\n"
   ]
  },
  {
   "cell_type": "code",
   "execution_count": 15,
   "metadata": {},
   "outputs": [
    {
     "name": "stdout",
     "output_type": "stream",
     "text": [
      "Running XGBoost with params:\n",
      " -- Learning Rate = 0.05 -- n_estimators = 40  -- \n",
      "    with all features...\n",
      "    R2_score : -2.089662843804917\n",
      "    MSE_score : -5.497891785362941\n",
      "    ... done\n",
      "    with 5 features ...\n"
     ]
    },
    {
     "name": "stderr",
     "output_type": "stream",
     "text": [
      "/Users/charlotteweil1/anaconda/envs/spatialenv/lib/python3.6/site-packages/sklearn/utils/__init__.py:93: FutureWarning: Conversion of the second argument of issubdtype from `int` to `np.signedinteger` is deprecated. In future, it will be treated as `np.int64 == np.dtype(int).type`.\n",
      "  if np.issubdtype(mask.dtype, np.int):\n"
     ]
    },
    {
     "name": "stdout",
     "output_type": "stream",
     "text": [
      "    R2_score : -2.1137687302130006\n",
      "    MSE_score : -5.540515274035159\n",
      "    ... done \n",
      "\n",
      "Running XGBoost with params:\n",
      " -- Learning Rate = 0.05 -- n_estimators = 55  -- \n",
      "    with all features...\n",
      "    R2_score : -0.15765197131771708\n",
      "    MSE_score : -2.066127521164086\n",
      "    ... done\n",
      "    with 5 features ...\n"
     ]
    },
    {
     "name": "stderr",
     "output_type": "stream",
     "text": [
      "/Users/charlotteweil1/anaconda/envs/spatialenv/lib/python3.6/site-packages/sklearn/utils/__init__.py:93: FutureWarning: Conversion of the second argument of issubdtype from `int` to `np.signedinteger` is deprecated. In future, it will be treated as `np.int64 == np.dtype(int).type`.\n",
      "  if np.issubdtype(mask.dtype, np.int):\n"
     ]
    },
    {
     "name": "stdout",
     "output_type": "stream",
     "text": [
      "    R2_score : -0.17693431412043975\n",
      "    MSE_score : -2.0999350521574263\n",
      "    ... done \n",
      "\n",
      "Running XGBoost with params:\n",
      " -- Learning Rate = 0.05 -- n_estimators = 70  -- \n",
      "    with all features...\n",
      "    R2_score : 0.2695568240841067\n",
      "    MSE_score : -1.3084654633817094\n",
      "    ... done\n",
      "    with 5 features ...\n"
     ]
    },
    {
     "name": "stderr",
     "output_type": "stream",
     "text": [
      "/Users/charlotteweil1/anaconda/envs/spatialenv/lib/python3.6/site-packages/sklearn/utils/__init__.py:93: FutureWarning: Conversion of the second argument of issubdtype from `int` to `np.signedinteger` is deprecated. In future, it will be treated as `np.int64 == np.dtype(int).type`.\n",
      "  if np.issubdtype(mask.dtype, np.int):\n"
     ]
    },
    {
     "name": "stdout",
     "output_type": "stream",
     "text": [
      "    R2_score : 0.24682794796441362\n",
      "    MSE_score : -1.3480304976032282\n",
      "    ... done \n",
      "\n",
      "Running XGBoost with params:\n",
      " -- Learning Rate = 0.05 -- n_estimators = 85  -- \n",
      "    with all features...\n",
      "    R2_score : 0.3692546887871212\n",
      "    MSE_score : -1.1321555945526434\n",
      "    ... done\n",
      "    with 5 features ...\n"
     ]
    },
    {
     "name": "stderr",
     "output_type": "stream",
     "text": [
      "/Users/charlotteweil1/anaconda/envs/spatialenv/lib/python3.6/site-packages/sklearn/utils/__init__.py:93: FutureWarning: Conversion of the second argument of issubdtype from `int` to `np.signedinteger` is deprecated. In future, it will be treated as `np.int64 == np.dtype(int).type`.\n",
      "  if np.issubdtype(mask.dtype, np.int):\n"
     ]
    },
    {
     "name": "stdout",
     "output_type": "stream",
     "text": [
      "    R2_score : 0.32959599838890946\n",
      "    MSE_score : -1.2019140554971757\n",
      "    ... done \n",
      "\n",
      "Running XGBoost with params:\n",
      " -- Learning Rate = 0.05 -- n_estimators = 100  -- \n",
      "    with all features...\n",
      "    R2_score : 0.39543406979017115\n",
      "    MSE_score : -1.0860957148106405\n",
      "    ... done\n",
      "    with 5 features ...\n"
     ]
    },
    {
     "name": "stderr",
     "output_type": "stream",
     "text": [
      "/Users/charlotteweil1/anaconda/envs/spatialenv/lib/python3.6/site-packages/sklearn/utils/__init__.py:93: FutureWarning: Conversion of the second argument of issubdtype from `int` to `np.signedinteger` is deprecated. In future, it will be treated as `np.int64 == np.dtype(int).type`.\n",
      "  if np.issubdtype(mask.dtype, np.int):\n"
     ]
    },
    {
     "name": "stdout",
     "output_type": "stream",
     "text": [
      "    R2_score : 0.37487769971103746\n",
      "    MSE_score : -1.1220867679144997\n",
      "    ... done \n",
      "\n",
      "Running XGBoost with params:\n",
      " -- Learning Rate = 0.1 -- n_estimators = 40  -- \n",
      "    with all features...\n",
      "    R2_score : 0.3568755734299513\n",
      "    MSE_score : -1.1540865016318491\n",
      "    ... done\n",
      "    with 5 features ...\n"
     ]
    },
    {
     "name": "stderr",
     "output_type": "stream",
     "text": [
      "/Users/charlotteweil1/anaconda/envs/spatialenv/lib/python3.6/site-packages/sklearn/utils/__init__.py:93: FutureWarning: Conversion of the second argument of issubdtype from `int` to `np.signedinteger` is deprecated. In future, it will be treated as `np.int64 == np.dtype(int).type`.\n",
      "  if np.issubdtype(mask.dtype, np.int):\n"
     ]
    },
    {
     "name": "stdout",
     "output_type": "stream",
     "text": [
      "    R2_score : 0.33138836313537007\n",
      "    MSE_score : -1.1987909292009942\n",
      "    ... done \n",
      "\n",
      "Running XGBoost with params:\n",
      " -- Learning Rate = 0.1 -- n_estimators = 55  -- \n",
      "    with all features...\n",
      "    R2_score : 0.4024393077849405\n",
      "    MSE_score : -1.0736631189783818\n",
      "    ... done\n",
      "    with 5 features ...\n"
     ]
    },
    {
     "name": "stderr",
     "output_type": "stream",
     "text": [
      "/Users/charlotteweil1/anaconda/envs/spatialenv/lib/python3.6/site-packages/sklearn/utils/__init__.py:93: FutureWarning: Conversion of the second argument of issubdtype from `int` to `np.signedinteger` is deprecated. In future, it will be treated as `np.int64 == np.dtype(int).type`.\n",
      "  if np.issubdtype(mask.dtype, np.int):\n"
     ]
    },
    {
     "name": "stdout",
     "output_type": "stream",
     "text": [
      "    R2_score : 0.3684020838923766\n",
      "    MSE_score : -1.1334497808516975\n",
      "    ... done \n",
      "\n",
      "Running XGBoost with params:\n",
      " -- Learning Rate = 0.1 -- n_estimators = 70  -- \n",
      "    with all features...\n",
      "    R2_score : 0.4152563784378427\n",
      "    MSE_score : -1.0510276712586915\n",
      "    ... done\n",
      "    with 5 features ...\n"
     ]
    },
    {
     "name": "stderr",
     "output_type": "stream",
     "text": [
      "/Users/charlotteweil1/anaconda/envs/spatialenv/lib/python3.6/site-packages/sklearn/utils/__init__.py:93: FutureWarning: Conversion of the second argument of issubdtype from `int` to `np.signedinteger` is deprecated. In future, it will be treated as `np.int64 == np.dtype(int).type`.\n",
      "  if np.issubdtype(mask.dtype, np.int):\n"
     ]
    },
    {
     "name": "stdout",
     "output_type": "stream",
     "text": [
      "    R2_score : 0.3809575192703091\n",
      "    MSE_score : -1.1116828912475083\n",
      "    ... done \n",
      "\n",
      "Running XGBoost with params:\n",
      " -- Learning Rate = 0.1 -- n_estimators = 85  -- \n",
      "    with all features...\n",
      "    R2_score : 0.42385247395888526\n",
      "    MSE_score : -1.0355248404675959\n",
      "    ... done\n",
      "    with 5 features ...\n"
     ]
    },
    {
     "name": "stderr",
     "output_type": "stream",
     "text": [
      "/Users/charlotteweil1/anaconda/envs/spatialenv/lib/python3.6/site-packages/sklearn/utils/__init__.py:93: FutureWarning: Conversion of the second argument of issubdtype from `int` to `np.signedinteger` is deprecated. In future, it will be treated as `np.int64 == np.dtype(int).type`.\n",
      "  if np.issubdtype(mask.dtype, np.int):\n"
     ]
    },
    {
     "name": "stdout",
     "output_type": "stream",
     "text": [
      "    R2_score : 0.39118833435287004\n",
      "    MSE_score : -1.0934908153792842\n",
      "    ... done \n",
      "\n",
      "Running XGBoost with params:\n",
      " -- Learning Rate = 0.1 -- n_estimators = 100  -- \n",
      "    with all features...\n",
      "    R2_score : 0.42963066019295554\n",
      "    MSE_score : -1.025111013372745\n",
      "    ... done\n",
      "    with 5 features ...\n"
     ]
    },
    {
     "name": "stderr",
     "output_type": "stream",
     "text": [
      "/Users/charlotteweil1/anaconda/envs/spatialenv/lib/python3.6/site-packages/sklearn/utils/__init__.py:93: FutureWarning: Conversion of the second argument of issubdtype from `int` to `np.signedinteger` is deprecated. In future, it will be treated as `np.int64 == np.dtype(int).type`.\n",
      "  if np.issubdtype(mask.dtype, np.int):\n"
     ]
    },
    {
     "name": "stdout",
     "output_type": "stream",
     "text": [
      "    R2_score : 0.38952293352533374\n",
      "    MSE_score : -1.0963676539068627\n",
      "    ... done \n",
      "\n",
      "Running XGBoost with params:\n",
      " -- Learning Rate = 0.15 -- n_estimators = 40  -- \n",
      "    with all features...\n",
      "    R2_score : 0.40751395216220654\n",
      "    MSE_score : -1.0647974257943162\n",
      "    ... done\n",
      "    with 5 features ...\n"
     ]
    },
    {
     "name": "stderr",
     "output_type": "stream",
     "text": [
      "/Users/charlotteweil1/anaconda/envs/spatialenv/lib/python3.6/site-packages/sklearn/utils/__init__.py:93: FutureWarning: Conversion of the second argument of issubdtype from `int` to `np.signedinteger` is deprecated. In future, it will be treated as `np.int64 == np.dtype(int).type`.\n",
      "  if np.issubdtype(mask.dtype, np.int):\n"
     ]
    },
    {
     "name": "stdout",
     "output_type": "stream",
     "text": [
      "    R2_score : 0.37768991407704416\n",
      "    MSE_score : -1.1169088395379188\n",
      "    ... done \n",
      "\n",
      "Running XGBoost with params:\n",
      " -- Learning Rate = 0.15 -- n_estimators = 55  -- \n",
      "    with all features...\n",
      "    R2_score : 0.42339808903564274\n",
      "    MSE_score : -1.03660639731994\n",
      "    ... done\n",
      "    with 5 features ...\n"
     ]
    },
    {
     "name": "stderr",
     "output_type": "stream",
     "text": [
      "/Users/charlotteweil1/anaconda/envs/spatialenv/lib/python3.6/site-packages/sklearn/utils/__init__.py:93: FutureWarning: Conversion of the second argument of issubdtype from `int` to `np.signedinteger` is deprecated. In future, it will be treated as `np.int64 == np.dtype(int).type`.\n",
      "  if np.issubdtype(mask.dtype, np.int):\n"
     ]
    },
    {
     "name": "stdout",
     "output_type": "stream",
     "text": [
      "    R2_score : 0.37872615797946263\n",
      "    MSE_score : -1.115428914797226\n",
      "    ... done \n",
      "\n",
      "Running XGBoost with params:\n",
      " -- Learning Rate = 0.15 -- n_estimators = 70  -- \n",
      "    with all features...\n",
      "    R2_score : 0.4334264115038796\n",
      "    MSE_score : -1.018474930134619\n",
      "    ... done\n",
      "    with 5 features ...\n"
     ]
    },
    {
     "name": "stderr",
     "output_type": "stream",
     "text": [
      "/Users/charlotteweil1/anaconda/envs/spatialenv/lib/python3.6/site-packages/sklearn/utils/__init__.py:93: FutureWarning: Conversion of the second argument of issubdtype from `int` to `np.signedinteger` is deprecated. In future, it will be treated as `np.int64 == np.dtype(int).type`.\n",
      "  if np.issubdtype(mask.dtype, np.int):\n"
     ]
    },
    {
     "name": "stdout",
     "output_type": "stream",
     "text": [
      "    R2_score : 0.4245190117952139\n",
      "    MSE_score : -1.0323065439422854\n",
      "    ... done \n",
      "\n",
      "Running XGBoost with params:\n",
      " -- Learning Rate = 0.15 -- n_estimators = 85  -- \n",
      "    with all features...\n",
      "    R2_score : 0.4408841688778784\n",
      "    MSE_score : -1.0049009332531038\n",
      "    ... done\n",
      "    with 5 features ...\n"
     ]
    },
    {
     "name": "stderr",
     "output_type": "stream",
     "text": [
      "/Users/charlotteweil1/anaconda/envs/spatialenv/lib/python3.6/site-packages/sklearn/utils/__init__.py:93: FutureWarning: Conversion of the second argument of issubdtype from `int` to `np.signedinteger` is deprecated. In future, it will be treated as `np.int64 == np.dtype(int).type`.\n",
      "  if np.issubdtype(mask.dtype, np.int):\n"
     ]
    },
    {
     "name": "stdout",
     "output_type": "stream",
     "text": [
      "    R2_score : 0.40569810371729104\n",
      "    MSE_score : -1.0679044582509585\n",
      "    ... done \n",
      "\n",
      "Running XGBoost with params:\n",
      " -- Learning Rate = 0.15 -- n_estimators = 100  -- \n",
      "    with all features...\n",
      "    R2_score : 0.4478456729018415\n",
      "    MSE_score : -0.992542895942463\n",
      "    ... done\n",
      "    with 5 features ...\n"
     ]
    },
    {
     "name": "stderr",
     "output_type": "stream",
     "text": [
      "/Users/charlotteweil1/anaconda/envs/spatialenv/lib/python3.6/site-packages/sklearn/utils/__init__.py:93: FutureWarning: Conversion of the second argument of issubdtype from `int` to `np.signedinteger` is deprecated. In future, it will be treated as `np.int64 == np.dtype(int).type`.\n",
      "  if np.issubdtype(mask.dtype, np.int):\n"
     ]
    },
    {
     "name": "stdout",
     "output_type": "stream",
     "text": [
      "    R2_score : 0.41457665127855803\n",
      "    MSE_score : -1.0492828135790908\n",
      "    ... done \n",
      "\n",
      "Running XGBoost with params:\n",
      " -- Learning Rate = 0.2 -- n_estimators = 40  -- \n",
      "    with all features...\n",
      "    R2_score : 0.41925708016665186\n",
      "    MSE_score : -1.0433175953261913\n",
      "    ... done\n",
      "    with 5 features ...\n"
     ]
    },
    {
     "name": "stderr",
     "output_type": "stream",
     "text": [
      "/Users/charlotteweil1/anaconda/envs/spatialenv/lib/python3.6/site-packages/sklearn/utils/__init__.py:93: FutureWarning: Conversion of the second argument of issubdtype from `int` to `np.signedinteger` is deprecated. In future, it will be treated as `np.int64 == np.dtype(int).type`.\n",
      "  if np.issubdtype(mask.dtype, np.int):\n"
     ]
    },
    {
     "name": "stdout",
     "output_type": "stream",
     "text": [
      "    R2_score : 0.38768868857084987\n",
      "    MSE_score : -1.0997533705864166\n",
      "    ... done \n",
      "\n",
      "Running XGBoost with params:\n",
      " -- Learning Rate = 0.2 -- n_estimators = 55  -- \n",
      "    with all features...\n",
      "    R2_score : 0.43077126464876503\n",
      "    MSE_score : -1.0227604605363927\n",
      "    ... done\n",
      "    with 5 features ...\n"
     ]
    },
    {
     "name": "stderr",
     "output_type": "stream",
     "text": [
      "/Users/charlotteweil1/anaconda/envs/spatialenv/lib/python3.6/site-packages/sklearn/utils/__init__.py:93: FutureWarning: Conversion of the second argument of issubdtype from `int` to `np.signedinteger` is deprecated. In future, it will be treated as `np.int64 == np.dtype(int).type`.\n",
      "  if np.issubdtype(mask.dtype, np.int):\n"
     ]
    },
    {
     "name": "stdout",
     "output_type": "stream",
     "text": [
      "    R2_score : 0.3969462517476524\n",
      "    MSE_score : -1.0830791634372126\n",
      "    ... done \n",
      "\n",
      "Running XGBoost with params:\n",
      " -- Learning Rate = 0.2 -- n_estimators = 70  -- \n",
      "    with all features...\n",
      "    R2_score : 0.4416081987218883\n",
      "    MSE_score : -1.003162141125355\n",
      "    ... done\n",
      "    with 5 features ...\n"
     ]
    },
    {
     "name": "stderr",
     "output_type": "stream",
     "text": [
      "/Users/charlotteweil1/anaconda/envs/spatialenv/lib/python3.6/site-packages/sklearn/utils/__init__.py:93: FutureWarning: Conversion of the second argument of issubdtype from `int` to `np.signedinteger` is deprecated. In future, it will be treated as `np.int64 == np.dtype(int).type`.\n",
      "  if np.issubdtype(mask.dtype, np.int):\n"
     ]
    },
    {
     "name": "stdout",
     "output_type": "stream",
     "text": [
      "    R2_score : 0.3956064139018287\n",
      "    MSE_score : -1.0851938247561208\n",
      "    ... done \n",
      "\n",
      "Running XGBoost with params:\n",
      " -- Learning Rate = 0.2 -- n_estimators = 85  -- \n",
      "    with all features...\n",
      "    R2_score : 0.4493115637278061\n",
      "    MSE_score : -0.9893101680908662\n",
      "    ... done\n",
      "    with 5 features ...\n"
     ]
    },
    {
     "name": "stderr",
     "output_type": "stream",
     "text": [
      "/Users/charlotteweil1/anaconda/envs/spatialenv/lib/python3.6/site-packages/sklearn/utils/__init__.py:93: FutureWarning: Conversion of the second argument of issubdtype from `int` to `np.signedinteger` is deprecated. In future, it will be treated as `np.int64 == np.dtype(int).type`.\n",
      "  if np.issubdtype(mask.dtype, np.int):\n"
     ]
    },
    {
     "name": "stdout",
     "output_type": "stream",
     "text": [
      "    R2_score : 0.4229844017831684\n",
      "    MSE_score : -1.0361121567436804\n",
      "    ... done \n",
      "\n",
      "Running XGBoost with params:\n",
      " -- Learning Rate = 0.2 -- n_estimators = 100  -- \n",
      "    with all features...\n",
      "    R2_score : 0.4548195624605576\n",
      "    MSE_score : -0.9791243117655654\n",
      "    ... done\n",
      "    with 5 features ...\n"
     ]
    },
    {
     "name": "stderr",
     "output_type": "stream",
     "text": [
      "/Users/charlotteweil1/anaconda/envs/spatialenv/lib/python3.6/site-packages/sklearn/utils/__init__.py:93: FutureWarning: Conversion of the second argument of issubdtype from `int` to `np.signedinteger` is deprecated. In future, it will be treated as `np.int64 == np.dtype(int).type`.\n",
      "  if np.issubdtype(mask.dtype, np.int):\n"
     ]
    },
    {
     "name": "stdout",
     "output_type": "stream",
     "text": [
      "    R2_score : 0.4292635093682267\n",
      "    MSE_score : -1.024542445992736\n",
      "    ... done \n",
      "\n"
     ]
    }
   ],
   "source": [
    "## Testing XGBoost with params (RESULTS BELOW WITH CLIMZONES)\n",
    "\n",
    "model = 'XGB'\n",
    "## First choose: learning_rate, n_estimators\n",
    "for learning_rate in [0.05, 0.1, 0.15, 0.2]:\n",
    "    for n_estimators in [40,55,70,85,100]:\n",
    "        print('Running XGBoost with params:')\n",
    "        print(' -- Learning Rate = ' + str(learning_rate) +' -- n_estimators = ' + str(n_estimators) + '  -- ')\n",
    "        \n",
    "        regression = xgb.XGBRegressor(learning_rate = learning_rate,n_estimators = n_estimators)\n",
    "\n",
    "\n",
    "\n",
    "        # Doing it will all features\n",
    "        print('    with all features...')\n",
    "        num_features = len(df.columns)-2\n",
    "        Features = 'All w/ climzones'\n",
    "        \n",
    "        scores = do_regression(regression,df)\n",
    "\n",
    "        print('    R2_score : '+str(scores[0]))\n",
    "        print('    MSE_score : '+str(scores[1]))\n",
    "        \n",
    "        R2_score = scores[0]\n",
    "        MSE_score = scores[1]\n",
    "        \n",
    "        xgb_tuning = xgb_tuning.append({'Model': model,\n",
    "                                        'num_features':len(df.columns)-1,'Features':'All w/ climzones',\n",
    "                                        'learning_rate':learning_rate,'n_estimators':n_estimators,\n",
    "                                        'R2':R2_score,'MSE':MSE_score},ignore_index=True)\n",
    "\n",
    "        print('    ... done')\n",
    "\n",
    "        # Iterate over ≠ numbers of features\n",
    "        for num_features in range (5,6):\n",
    "\n",
    "            print('    with '+str(num_features)+ ' features ...')\n",
    "\n",
    "            ## RFE - Features selection\n",
    "            selector = RFE(regression, num_features, step=1)\n",
    "\n",
    "            x = df.drop(['calories_per_ha'], axis=1) ## TODO climate_zones encode One Hot Encoder\n",
    "            y = df['calories_per_ha']\n",
    "            X, X_test, Y, Y_test = train_test_split(x, y)\n",
    "\n",
    "            X_RFE = selector.fit_transform(X,Y)\n",
    "\n",
    "            features_selected = [X.columns[feature_pos] for feature_pos in selector.get_support(indices=True)]\n",
    "            features_selected.append('calories_per_ha')\n",
    "            scores = do_regression(regression,df[features_selected])\n",
    "            print('    R2_score : '+str(scores[0]))\n",
    "            print('    MSE_score : '+str(scores[1]))\n",
    "            \n",
    "            R2_score = scores[0]\n",
    "            MSE_score = scores[1]\n",
    "            xgb_tuning = xgb_tuning.append({'Model': model,\n",
    "                                        'num_features':num_features,'Features':features_selected,\n",
    "                                        'learning_rate':learning_rate,'n_estimators':n_estimators,\n",
    "                                        'R2':R2_score,'MSE':MSE_score},ignore_index=True)\n",
    "    \n",
    "    \n",
    "            print('    ... done \\n')"
   ]
  },
  {
   "cell_type": "code",
   "execution_count": 21,
   "metadata": {},
   "outputs": [
    {
     "name": "stdout",
     "output_type": "stream",
     "text": [
      "Running XGBoost with params:\n",
      " -- Learning Rate = 0.1 -- n_estimators = 60  -- \n",
      "    with all features...\n",
      "    R2_score : 0.40708732247447327\n",
      "    MSE_score : -1.06537790771409\n",
      "    ... done\n",
      "    with 5 features ...\n"
     ]
    },
    {
     "name": "stderr",
     "output_type": "stream",
     "text": [
      "/Users/charlotteweil1/anaconda/envs/spatialenv/lib/python3.6/site-packages/sklearn/utils/__init__.py:93: FutureWarning: Conversion of the second argument of issubdtype from `int` to `np.signedinteger` is deprecated. In future, it will be treated as `np.int64 == np.dtype(int).type`.\n",
      "  if np.issubdtype(mask.dtype, np.int):\n"
     ]
    },
    {
     "name": "stdout",
     "output_type": "stream",
     "text": [
      "    R2_score : 0.38879883315835057\n",
      "    MSE_score : -1.0970218169403638\n",
      "    ... done \n",
      "\n",
      "Running XGBoost with params:\n",
      " -- Learning Rate = 0.1 -- n_estimators = 71  -- \n",
      "    with all features...\n",
      "    R2_score : 0.41561154433024344\n",
      "    MSE_score : -1.0504058484902052\n",
      "    ... done\n",
      "    with 5 features ...\n"
     ]
    },
    {
     "name": "stderr",
     "output_type": "stream",
     "text": [
      "/Users/charlotteweil1/anaconda/envs/spatialenv/lib/python3.6/site-packages/sklearn/utils/__init__.py:93: FutureWarning: Conversion of the second argument of issubdtype from `int` to `np.signedinteger` is deprecated. In future, it will be treated as `np.int64 == np.dtype(int).type`.\n",
      "  if np.issubdtype(mask.dtype, np.int):\n"
     ]
    },
    {
     "name": "stdout",
     "output_type": "stream",
     "text": [
      "    R2_score : 0.38783847459227305\n",
      "    MSE_score : -1.0984002813232188\n",
      "    ... done \n",
      "\n",
      "Running XGBoost with params:\n",
      " -- Learning Rate = 0.1 -- n_estimators = 80  -- \n",
      "    with all features...\n",
      "    R2_score : 0.42125333191441355\n",
      "    MSE_score : -1.040193863891528\n",
      "    ... done\n",
      "    with 5 features ...\n"
     ]
    },
    {
     "name": "stderr",
     "output_type": "stream",
     "text": [
      "/Users/charlotteweil1/anaconda/envs/spatialenv/lib/python3.6/site-packages/sklearn/utils/__init__.py:93: FutureWarning: Conversion of the second argument of issubdtype from `int` to `np.signedinteger` is deprecated. In future, it will be treated as `np.int64 == np.dtype(int).type`.\n",
      "  if np.issubdtype(mask.dtype, np.int):\n"
     ]
    },
    {
     "name": "stdout",
     "output_type": "stream",
     "text": [
      "    R2_score : 0.3930622487968773\n",
      "    MSE_score : -1.0889968493221769\n",
      "    ... done \n",
      "\n",
      "Running XGBoost with params:\n",
      " -- Learning Rate = 0.1 -- n_estimators = 90  -- \n",
      "    with all features...\n",
      "    R2_score : 0.4258992423166525\n",
      "    MSE_score : -1.0317989604848197\n",
      "    ... done\n",
      "    with 5 features ...\n"
     ]
    },
    {
     "name": "stderr",
     "output_type": "stream",
     "text": [
      "/Users/charlotteweil1/anaconda/envs/spatialenv/lib/python3.6/site-packages/sklearn/utils/__init__.py:93: FutureWarning: Conversion of the second argument of issubdtype from `int` to `np.signedinteger` is deprecated. In future, it will be treated as `np.int64 == np.dtype(int).type`.\n",
      "  if np.issubdtype(mask.dtype, np.int):\n"
     ]
    },
    {
     "name": "stdout",
     "output_type": "stream",
     "text": [
      "    R2_score : 0.3817638774204258\n",
      "    MSE_score : -1.110831820810618\n",
      "    ... done \n",
      "\n",
      "Running XGBoost with params:\n",
      " -- Learning Rate = 0.1 -- n_estimators = 101  -- \n",
      "    with all features...\n",
      "    R2_score : 0.4300739899863812\n",
      "    MSE_score : -1.0243021934133059\n",
      "    ... done\n",
      "    with 5 features ...\n"
     ]
    },
    {
     "name": "stderr",
     "output_type": "stream",
     "text": [
      "/Users/charlotteweil1/anaconda/envs/spatialenv/lib/python3.6/site-packages/sklearn/utils/__init__.py:93: FutureWarning: Conversion of the second argument of issubdtype from `int` to `np.signedinteger` is deprecated. In future, it will be treated as `np.int64 == np.dtype(int).type`.\n",
      "  if np.issubdtype(mask.dtype, np.int):\n"
     ]
    },
    {
     "name": "stdout",
     "output_type": "stream",
     "text": [
      "    R2_score : 0.4234771000905204\n",
      "    MSE_score : -1.0361294355703323\n",
      "    ... done \n",
      "\n",
      "Running XGBoost with params:\n",
      " -- Learning Rate = 0.1 -- n_estimators = 110  -- \n",
      "    with all features...\n",
      "    R2_score : 0.4343714608578056\n",
      "    MSE_score : -1.0164809264442618\n",
      "    ... done\n",
      "    with 5 features ...\n"
     ]
    },
    {
     "name": "stderr",
     "output_type": "stream",
     "text": [
      "/Users/charlotteweil1/anaconda/envs/spatialenv/lib/python3.6/site-packages/sklearn/utils/__init__.py:93: FutureWarning: Conversion of the second argument of issubdtype from `int` to `np.signedinteger` is deprecated. In future, it will be treated as `np.int64 == np.dtype(int).type`.\n",
      "  if np.issubdtype(mask.dtype, np.int):\n"
     ]
    },
    {
     "name": "stdout",
     "output_type": "stream",
     "text": [
      "    R2_score : 0.39495842015090116\n",
      "    MSE_score : -1.0858167306474633\n",
      "    ... done \n",
      "\n",
      "Running XGBoost with params:\n",
      " -- Learning Rate = 0.1 -- n_estimators = 120  -- \n",
      "    with all features...\n",
      "    R2_score : 0.43685169226754317\n",
      "    MSE_score : -1.0121045292405633\n",
      "    ... done\n",
      "    with 5 features ...\n"
     ]
    },
    {
     "name": "stderr",
     "output_type": "stream",
     "text": [
      "/Users/charlotteweil1/anaconda/envs/spatialenv/lib/python3.6/site-packages/sklearn/utils/__init__.py:93: FutureWarning: Conversion of the second argument of issubdtype from `int` to `np.signedinteger` is deprecated. In future, it will be treated as `np.int64 == np.dtype(int).type`.\n",
      "  if np.issubdtype(mask.dtype, np.int):\n"
     ]
    },
    {
     "name": "stdout",
     "output_type": "stream",
     "text": [
      "    R2_score : 0.3849476074290399\n",
      "    MSE_score : -1.1046214115256088\n",
      "    ... done \n",
      "\n",
      "Running XGBoost with params:\n",
      " -- Learning Rate = 0.15 -- n_estimators = 60  -- \n",
      "    with all features...\n",
      "    R2_score : 0.42721788691034784\n",
      "    MSE_score : -1.0299639660581248\n",
      "    ... done\n",
      "    with 5 features ...\n"
     ]
    },
    {
     "name": "stderr",
     "output_type": "stream",
     "text": [
      "/Users/charlotteweil1/anaconda/envs/spatialenv/lib/python3.6/site-packages/sklearn/utils/__init__.py:93: FutureWarning: Conversion of the second argument of issubdtype from `int` to `np.signedinteger` is deprecated. In future, it will be treated as `np.int64 == np.dtype(int).type`.\n",
      "  if np.issubdtype(mask.dtype, np.int):\n"
     ]
    },
    {
     "name": "stdout",
     "output_type": "stream",
     "text": [
      "    R2_score : 0.38973064333934415\n",
      "    MSE_score : -1.095277365235829\n",
      "    ... done \n",
      "\n",
      "Running XGBoost with params:\n",
      " -- Learning Rate = 0.15 -- n_estimators = 71  -- \n",
      "    with all features...\n",
      "    R2_score : 0.4336406456891164\n",
      "    MSE_score : -1.017978130514579\n",
      "    ... done\n",
      "    with 5 features ...\n"
     ]
    },
    {
     "name": "stderr",
     "output_type": "stream",
     "text": [
      "/Users/charlotteweil1/anaconda/envs/spatialenv/lib/python3.6/site-packages/sklearn/utils/__init__.py:93: FutureWarning: Conversion of the second argument of issubdtype from `int` to `np.signedinteger` is deprecated. In future, it will be treated as `np.int64 == np.dtype(int).type`.\n",
      "  if np.issubdtype(mask.dtype, np.int):\n"
     ]
    },
    {
     "name": "stdout",
     "output_type": "stream",
     "text": [
      "    R2_score : 0.3985025743148065\n",
      "    MSE_score : -1.080707586452219\n",
      "    ... done \n",
      "\n",
      "Running XGBoost with params:\n",
      " -- Learning Rate = 0.15 -- n_estimators = 80  -- \n",
      "    with all features...\n",
      "    R2_score : 0.4382003537776183\n",
      "    MSE_score : -1.0097415823109113\n",
      "    ... done\n",
      "    with 5 features ...\n"
     ]
    },
    {
     "name": "stderr",
     "output_type": "stream",
     "text": [
      "/Users/charlotteweil1/anaconda/envs/spatialenv/lib/python3.6/site-packages/sklearn/utils/__init__.py:93: FutureWarning: Conversion of the second argument of issubdtype from `int` to `np.signedinteger` is deprecated. In future, it will be treated as `np.int64 == np.dtype(int).type`.\n",
      "  if np.issubdtype(mask.dtype, np.int):\n"
     ]
    },
    {
     "name": "stdout",
     "output_type": "stream",
     "text": [
      "    R2_score : 0.3923606363815205\n",
      "    MSE_score : -1.0911578377707867\n",
      "    ... done \n",
      "\n",
      "Running XGBoost with params:\n",
      " -- Learning Rate = 0.15 -- n_estimators = 90  -- \n",
      "    with all features...\n",
      "    R2_score : 0.4428063337771092\n",
      "    MSE_score : -1.0015330364775326\n",
      "    ... done\n",
      "    with 5 features ...\n"
     ]
    },
    {
     "name": "stderr",
     "output_type": "stream",
     "text": [
      "/Users/charlotteweil1/anaconda/envs/spatialenv/lib/python3.6/site-packages/sklearn/utils/__init__.py:93: FutureWarning: Conversion of the second argument of issubdtype from `int` to `np.signedinteger` is deprecated. In future, it will be treated as `np.int64 == np.dtype(int).type`.\n",
      "  if np.issubdtype(mask.dtype, np.int):\n"
     ]
    },
    {
     "name": "stdout",
     "output_type": "stream",
     "text": [
      "    R2_score : 0.40671920273976847\n",
      "    MSE_score : -1.0653653687664635\n",
      "    ... done \n",
      "\n",
      "Running XGBoost with params:\n",
      " -- Learning Rate = 0.15 -- n_estimators = 101  -- \n",
      "    with all features...\n",
      "    R2_score : 0.44839292362411315\n",
      "    MSE_score : -0.9916105869093682\n",
      "    ... done\n",
      "    with 5 features ...\n"
     ]
    },
    {
     "name": "stderr",
     "output_type": "stream",
     "text": [
      "/Users/charlotteweil1/anaconda/envs/spatialenv/lib/python3.6/site-packages/sklearn/utils/__init__.py:93: FutureWarning: Conversion of the second argument of issubdtype from `int` to `np.signedinteger` is deprecated. In future, it will be treated as `np.int64 == np.dtype(int).type`.\n",
      "  if np.issubdtype(mask.dtype, np.int):\n"
     ]
    },
    {
     "name": "stdout",
     "output_type": "stream",
     "text": [
      "    R2_score : 0.40890695577414854\n",
      "    MSE_score : -1.0604964387434332\n",
      "    ... done \n",
      "\n",
      "Running XGBoost with params:\n",
      " -- Learning Rate = 0.15 -- n_estimators = 110  -- \n",
      "    with all features...\n",
      "    R2_score : 0.4514801883731973\n",
      "    MSE_score : -0.9859845279098826\n",
      "    ... done\n",
      "    with 5 features ...\n"
     ]
    },
    {
     "name": "stderr",
     "output_type": "stream",
     "text": [
      "/Users/charlotteweil1/anaconda/envs/spatialenv/lib/python3.6/site-packages/sklearn/utils/__init__.py:93: FutureWarning: Conversion of the second argument of issubdtype from `int` to `np.signedinteger` is deprecated. In future, it will be treated as `np.int64 == np.dtype(int).type`.\n",
      "  if np.issubdtype(mask.dtype, np.int):\n"
     ]
    },
    {
     "name": "stdout",
     "output_type": "stream",
     "text": [
      "    R2_score : 0.4119281320600262\n",
      "    MSE_score : -1.055133823121589\n",
      "    ... done \n",
      "\n",
      "Running XGBoost with params:\n",
      " -- Learning Rate = 0.15 -- n_estimators = 120  -- \n",
      "    with all features...\n",
      "    R2_score : 0.4530490224128723\n",
      "    MSE_score : -0.9831599338012941\n",
      "    ... done\n",
      "    with 5 features ...\n"
     ]
    },
    {
     "name": "stderr",
     "output_type": "stream",
     "text": [
      "/Users/charlotteweil1/anaconda/envs/spatialenv/lib/python3.6/site-packages/sklearn/utils/__init__.py:93: FutureWarning: Conversion of the second argument of issubdtype from `int` to `np.signedinteger` is deprecated. In future, it will be treated as `np.int64 == np.dtype(int).type`.\n",
      "  if np.issubdtype(mask.dtype, np.int):\n"
     ]
    },
    {
     "name": "stdout",
     "output_type": "stream",
     "text": [
      "    R2_score : 0.4274562041803027\n",
      "    MSE_score : -1.0262297594533656\n",
      "    ... done \n",
      "\n",
      "Running XGBoost with params:\n",
      " -- Learning Rate = 0.2 -- n_estimators = 60  -- \n",
      "    with all features...\n",
      "    R2_score : 0.4356356831510776\n",
      "    MSE_score : -1.0139897313689612\n",
      "    ... done\n",
      "    with 5 features ...\n"
     ]
    },
    {
     "name": "stderr",
     "output_type": "stream",
     "text": [
      "/Users/charlotteweil1/anaconda/envs/spatialenv/lib/python3.6/site-packages/sklearn/utils/__init__.py:93: FutureWarning: Conversion of the second argument of issubdtype from `int` to `np.signedinteger` is deprecated. In future, it will be treated as `np.int64 == np.dtype(int).type`.\n",
      "  if np.issubdtype(mask.dtype, np.int):\n"
     ]
    },
    {
     "name": "stdout",
     "output_type": "stream",
     "text": [
      "    R2_score : 0.3941409741109565\n",
      "    MSE_score : -1.0885506918262142\n",
      "    ... done \n",
      "\n",
      "Running XGBoost with params:\n",
      " -- Learning Rate = 0.2 -- n_estimators = 71  -- \n",
      "    with all features...\n",
      "    R2_score : 0.4418106113000217\n",
      "    MSE_score : -1.0029035314692434\n",
      "    ... done\n",
      "    with 5 features ...\n"
     ]
    },
    {
     "name": "stderr",
     "output_type": "stream",
     "text": [
      "/Users/charlotteweil1/anaconda/envs/spatialenv/lib/python3.6/site-packages/sklearn/utils/__init__.py:93: FutureWarning: Conversion of the second argument of issubdtype from `int` to `np.signedinteger` is deprecated. In future, it will be treated as `np.int64 == np.dtype(int).type`.\n",
      "  if np.issubdtype(mask.dtype, np.int):\n"
     ]
    },
    {
     "name": "stdout",
     "output_type": "stream",
     "text": [
      "    R2_score : 0.412816484932052\n",
      "    MSE_score : -1.0542560153872862\n",
      "    ... done \n",
      "\n",
      "Running XGBoost with params:\n",
      " -- Learning Rate = 0.2 -- n_estimators = 80  -- \n",
      "    with all features...\n",
      "    R2_score : 0.4458011520659218\n",
      "    MSE_score : -0.9957604119254982\n",
      "    ... done\n",
      "    with 5 features ...\n"
     ]
    },
    {
     "name": "stderr",
     "output_type": "stream",
     "text": [
      "/Users/charlotteweil1/anaconda/envs/spatialenv/lib/python3.6/site-packages/sklearn/utils/__init__.py:93: FutureWarning: Conversion of the second argument of issubdtype from `int` to `np.signedinteger` is deprecated. In future, it will be treated as `np.int64 == np.dtype(int).type`.\n",
      "  if np.issubdtype(mask.dtype, np.int):\n"
     ]
    },
    {
     "name": "stdout",
     "output_type": "stream",
     "text": [
      "    R2_score : 0.4059902167842998\n",
      "    MSE_score : -1.0675455140585328\n",
      "    ... done \n",
      "\n",
      "Running XGBoost with params:\n",
      " -- Learning Rate = 0.2 -- n_estimators = 90  -- \n",
      "    with all features...\n",
      "    R2_score : 0.45179597189256004\n",
      "    MSE_score : -0.984815594636807\n",
      "    ... done\n",
      "    with 5 features ...\n"
     ]
    },
    {
     "name": "stderr",
     "output_type": "stream",
     "text": [
      "/Users/charlotteweil1/anaconda/envs/spatialenv/lib/python3.6/site-packages/sklearn/utils/__init__.py:93: FutureWarning: Conversion of the second argument of issubdtype from `int` to `np.signedinteger` is deprecated. In future, it will be treated as `np.int64 == np.dtype(int).type`.\n",
      "  if np.issubdtype(mask.dtype, np.int):\n"
     ]
    },
    {
     "name": "stdout",
     "output_type": "stream",
     "text": [
      "    R2_score : 0.41465993058646067\n",
      "    MSE_score : -1.051725860068222\n",
      "    ... done \n",
      "\n",
      "Running XGBoost with params:\n",
      " -- Learning Rate = 0.2 -- n_estimators = 101  -- \n",
      "    with all features...\n",
      "    R2_score : 0.45471655354047186\n",
      "    MSE_score : -0.9792707610897992\n",
      "    ... done\n",
      "    with 5 features ...\n"
     ]
    },
    {
     "name": "stderr",
     "output_type": "stream",
     "text": [
      "/Users/charlotteweil1/anaconda/envs/spatialenv/lib/python3.6/site-packages/sklearn/utils/__init__.py:93: FutureWarning: Conversion of the second argument of issubdtype from `int` to `np.signedinteger` is deprecated. In future, it will be treated as `np.int64 == np.dtype(int).type`.\n",
      "  if np.issubdtype(mask.dtype, np.int):\n"
     ]
    },
    {
     "name": "stdout",
     "output_type": "stream",
     "text": [
      "    R2_score : 0.4174577578838181\n",
      "    MSE_score : -1.0467476740889627\n",
      "    ... done \n",
      "\n",
      "Running XGBoost with params:\n",
      " -- Learning Rate = 0.2 -- n_estimators = 110  -- \n",
      "    with all features...\n",
      "    R2_score : 0.458428350898288\n",
      "    MSE_score : -0.9724061389634324\n",
      "    ... done\n",
      "    with 5 features ...\n"
     ]
    },
    {
     "name": "stderr",
     "output_type": "stream",
     "text": [
      "/Users/charlotteweil1/anaconda/envs/spatialenv/lib/python3.6/site-packages/sklearn/utils/__init__.py:93: FutureWarning: Conversion of the second argument of issubdtype from `int` to `np.signedinteger` is deprecated. In future, it will be treated as `np.int64 == np.dtype(int).type`.\n",
      "  if np.issubdtype(mask.dtype, np.int):\n"
     ]
    },
    {
     "name": "stdout",
     "output_type": "stream",
     "text": [
      "    R2_score : 0.4318686905628816\n",
      "    MSE_score : -1.0195709447956283\n",
      "    ... done \n",
      "\n",
      "Running XGBoost with params:\n",
      " -- Learning Rate = 0.2 -- n_estimators = 120  -- \n",
      "    with all features...\n",
      "    R2_score : 0.4600064459482165\n",
      "    MSE_score : -0.9695387326119447\n",
      "    ... done\n",
      "    with 5 features ...\n"
     ]
    },
    {
     "name": "stderr",
     "output_type": "stream",
     "text": [
      "/Users/charlotteweil1/anaconda/envs/spatialenv/lib/python3.6/site-packages/sklearn/utils/__init__.py:93: FutureWarning: Conversion of the second argument of issubdtype from `int` to `np.signedinteger` is deprecated. In future, it will be treated as `np.int64 == np.dtype(int).type`.\n",
      "  if np.issubdtype(mask.dtype, np.int):\n"
     ]
    },
    {
     "name": "stdout",
     "output_type": "stream",
     "text": [
      "    R2_score : 0.4169121772936317\n",
      "    MSE_score : -1.0481422190750367\n",
      "    ... done \n",
      "\n",
      "Running XGBoost with params:\n",
      " -- Learning Rate = 0.25 -- n_estimators = 60  -- \n",
      "    with all features...\n",
      "    R2_score : 0.4443164101374986\n",
      "    MSE_score : -0.9982247728466784\n",
      "    ... done\n",
      "    with 5 features ...\n"
     ]
    },
    {
     "name": "stderr",
     "output_type": "stream",
     "text": [
      "/Users/charlotteweil1/anaconda/envs/spatialenv/lib/python3.6/site-packages/sklearn/utils/__init__.py:93: FutureWarning: Conversion of the second argument of issubdtype from `int` to `np.signedinteger` is deprecated. In future, it will be treated as `np.int64 == np.dtype(int).type`.\n",
      "  if np.issubdtype(mask.dtype, np.int):\n"
     ]
    },
    {
     "name": "stdout",
     "output_type": "stream",
     "text": [
      "    R2_score : 0.3993248389650063\n",
      "    MSE_score : -1.0791271764291428\n",
      "    ... done \n",
      "\n",
      "Running XGBoost with params:\n",
      " -- Learning Rate = 0.25 -- n_estimators = 71  -- \n",
      "    with all features...\n",
      "    R2_score : 0.4477651977939131\n",
      "    MSE_score : -0.9923899349948165\n",
      "    ... done\n",
      "    with 5 features ...\n"
     ]
    },
    {
     "name": "stderr",
     "output_type": "stream",
     "text": [
      "/Users/charlotteweil1/anaconda/envs/spatialenv/lib/python3.6/site-packages/sklearn/utils/__init__.py:93: FutureWarning: Conversion of the second argument of issubdtype from `int` to `np.signedinteger` is deprecated. In future, it will be treated as `np.int64 == np.dtype(int).type`.\n",
      "  if np.issubdtype(mask.dtype, np.int):\n"
     ]
    },
    {
     "name": "stdout",
     "output_type": "stream",
     "text": [
      "    R2_score : 0.40375381190871673\n",
      "    MSE_score : -1.071298761941471\n",
      "    ... done \n",
      "\n",
      "Running XGBoost with params:\n",
      " -- Learning Rate = 0.25 -- n_estimators = 80  -- \n",
      "    with all features...\n",
      "    R2_score : 0.44997684884447997\n",
      "    MSE_score : -0.9883363067376291\n",
      "    ... done\n",
      "    with 5 features ...\n"
     ]
    },
    {
     "name": "stderr",
     "output_type": "stream",
     "text": [
      "/Users/charlotteweil1/anaconda/envs/spatialenv/lib/python3.6/site-packages/sklearn/utils/__init__.py:93: FutureWarning: Conversion of the second argument of issubdtype from `int` to `np.signedinteger` is deprecated. In future, it will be treated as `np.int64 == np.dtype(int).type`.\n",
      "  if np.issubdtype(mask.dtype, np.int):\n"
     ]
    },
    {
     "name": "stdout",
     "output_type": "stream",
     "text": [
      "    R2_score : 0.41788460792500803\n",
      "    MSE_score : -1.0462762827114869\n",
      "    ... done \n",
      "\n",
      "Running XGBoost with params:\n",
      " -- Learning Rate = 0.25 -- n_estimators = 90  -- \n",
      "    with all features...\n",
      "    R2_score : 0.45465792110801306\n",
      "    MSE_score : -0.9798371113714881\n",
      "    ... done\n",
      "    with 5 features ...\n"
     ]
    },
    {
     "name": "stderr",
     "output_type": "stream",
     "text": [
      "/Users/charlotteweil1/anaconda/envs/spatialenv/lib/python3.6/site-packages/sklearn/utils/__init__.py:93: FutureWarning: Conversion of the second argument of issubdtype from `int` to `np.signedinteger` is deprecated. In future, it will be treated as `np.int64 == np.dtype(int).type`.\n",
      "  if np.issubdtype(mask.dtype, np.int):\n"
     ]
    },
    {
     "name": "stdout",
     "output_type": "stream",
     "text": [
      "    R2_score : 0.4171930881522017\n",
      "    MSE_score : -1.0478729368428046\n",
      "    ... done \n",
      "\n",
      "Running XGBoost with params:\n",
      " -- Learning Rate = 0.25 -- n_estimators = 101  -- \n",
      "    with all features...\n",
      "    R2_score : 0.4593600054348079\n",
      "    MSE_score : -0.9712112890591822\n",
      "    ... done\n",
      "    with 5 features ...\n"
     ]
    },
    {
     "name": "stderr",
     "output_type": "stream",
     "text": [
      "/Users/charlotteweil1/anaconda/envs/spatialenv/lib/python3.6/site-packages/sklearn/utils/__init__.py:93: FutureWarning: Conversion of the second argument of issubdtype from `int` to `np.signedinteger` is deprecated. In future, it will be treated as `np.int64 == np.dtype(int).type`.\n",
      "  if np.issubdtype(mask.dtype, np.int):\n"
     ]
    },
    {
     "name": "stdout",
     "output_type": "stream",
     "text": [
      "    R2_score : 0.4307827481363605\n",
      "    MSE_score : -1.0203926106538521\n",
      "    ... done \n",
      "\n",
      "Running XGBoost with params:\n",
      " -- Learning Rate = 0.25 -- n_estimators = 110  -- \n",
      "    with all features...\n",
      "    R2_score : 0.461211483988634\n",
      "    MSE_score : -0.9679798417424305\n",
      "    ... done\n",
      "    with 5 features ...\n"
     ]
    },
    {
     "name": "stderr",
     "output_type": "stream",
     "text": [
      "/Users/charlotteweil1/anaconda/envs/spatialenv/lib/python3.6/site-packages/sklearn/utils/__init__.py:93: FutureWarning: Conversion of the second argument of issubdtype from `int` to `np.signedinteger` is deprecated. In future, it will be treated as `np.int64 == np.dtype(int).type`.\n",
      "  if np.issubdtype(mask.dtype, np.int):\n"
     ]
    },
    {
     "name": "stdout",
     "output_type": "stream",
     "text": [
      "    R2_score : 0.4173150825690272\n",
      "    MSE_score : -1.0445330211570125\n",
      "    ... done \n",
      "\n",
      "Running XGBoost with params:\n",
      " -- Learning Rate = 0.25 -- n_estimators = 120  -- \n",
      "    with all features...\n",
      "    R2_score : 0.46141050714819515\n",
      "    MSE_score : -0.9676346741748298\n",
      "    ... done\n",
      "    with 5 features ...\n"
     ]
    },
    {
     "name": "stderr",
     "output_type": "stream",
     "text": [
      "/Users/charlotteweil1/anaconda/envs/spatialenv/lib/python3.6/site-packages/sklearn/utils/__init__.py:93: FutureWarning: Conversion of the second argument of issubdtype from `int` to `np.signedinteger` is deprecated. In future, it will be treated as `np.int64 == np.dtype(int).type`.\n",
      "  if np.issubdtype(mask.dtype, np.int):\n"
     ]
    },
    {
     "name": "stdout",
     "output_type": "stream",
     "text": [
      "    R2_score : 0.4218720297681037\n",
      "    MSE_score : -1.036445598282548\n",
      "    ... done \n",
      "\n"
     ]
    }
   ],
   "source": [
    "## Testing XGBoost with params (RESULTS BELOW WITH CLIMZONES) (Same as above)\n",
    "\n",
    "model = 'XGB'\n",
    "## First choose: learning_rate, n_estimators\n",
    "for learning_rate in [0.1, 0.15, 0.2,0.25]:\n",
    "    for n_estimators in [60,71,80,90,101,110,120]:\n",
    "        print('Running XGBoost with params:')\n",
    "        print(' -- Learning Rate = ' + str(learning_rate) +' -- n_estimators = ' + str(n_estimators) + '  -- ')\n",
    "        \n",
    "        regression = xgb.XGBRegressor(learning_rate = learning_rate,n_estimators = n_estimators)\n",
    "\n",
    "\n",
    "\n",
    "        # Doing it will all features\n",
    "        print('    with all features...')\n",
    "        num_features = len(df.columns)-2\n",
    "        Features = 'All w/ climzones'\n",
    "        \n",
    "        scores = do_regression(regression,df)\n",
    "\n",
    "        print('    R2_score : '+str(scores[0]))\n",
    "        print('    MSE_score : '+str(scores[1]))\n",
    "        \n",
    "        R2_score = scores[0]\n",
    "        MSE_score = scores[1]\n",
    "        \n",
    "        xgb_tuning2 = xgb_tuning2.append({'Model': model,\n",
    "                                        'num_features':len(df.columns)-1,'Features':'All w/ climzones',\n",
    "                                        'learning_rate':learning_rate,'n_estimators':n_estimators,\n",
    "                                        'R2':R2_score,'MSE':MSE_score},ignore_index=True)\n",
    "\n",
    "        print('    ... done')\n",
    "\n",
    "        # Iterate over ≠ numbers of features\n",
    "        for num_features in range (5,6):\n",
    "\n",
    "            print('    with '+str(num_features)+ ' features ...')\n",
    "\n",
    "            ## RFE - Features selection\n",
    "            selector = RFE(regression, num_features, step=1)\n",
    "\n",
    "            x = df.drop(['calories_per_ha'], axis=1) ## TODO climate_zones encode One Hot Encoder\n",
    "            y = df['calories_per_ha']\n",
    "            X, X_test, Y, Y_test = train_test_split(x, y)\n",
    "\n",
    "            X_RFE = selector.fit_transform(X,Y)\n",
    "\n",
    "            features_selected = [X.columns[feature_pos] for feature_pos in selector.get_support(indices=True)]\n",
    "            features_selected.append('calories_per_ha')\n",
    "            scores = do_regression(regression,df[features_selected])\n",
    "            print('    R2_score : '+str(scores[0]))\n",
    "            print('    MSE_score : '+str(scores[1]))\n",
    "            \n",
    "            R2_score = scores[0]\n",
    "            MSE_score = scores[1]\n",
    "            xgb_tuning2 = xgb_tuning2.append({'Model': model,\n",
    "                                        'num_features':num_features,'Features':features_selected,\n",
    "                                        'learning_rate':learning_rate,'n_estimators':n_estimators,\n",
    "                                        'R2':R2_score,'MSE':MSE_score},ignore_index=True)\n",
    "    \n",
    "    \n",
    "            print('    ... done \\n')"
   ]
  },
  {
   "cell_type": "code",
   "execution_count": 31,
   "metadata": {},
   "outputs": [
    {
     "data": {
      "image/png": "[encoded data removed]",
      "text/plain": [
       "<Figure size 1440x360 with 1 Axes>"
      ]
     },
     "metadata": {},
     "output_type": "display_data"
    }
   ],
   "source": [
    "plot_R2_2params('n_estimators', 'learning_rate', xgb_tuning2[xgb_tuning2['num_features']==63])"
   ]
  },
  {
   "cell_type": "code",
   "execution_count": null,
   "metadata": {},
   "outputs": [],
   "source": []
  },
  {
   "cell_type": "markdown",
   "metadata": {},
   "source": [
    "### GRID SEARCH"
   ]
  },
  {
   "cell_type": "code",
   "execution_count": null,
   "metadata": {},
   "outputs": [],
   "source": [
    "xgb_regressor = xgb.XGBRegressor()\n",
    "\n",
    "parameters = {'nthread':[4], #when use hyperthread, xgboost may become slower\n",
    "              'objective':['reg:linear'],\n",
    "              'learning_rate': [.03, .07, .2], #so called `eta` value\n",
    "              'max_depth': [3, 5, 7],\n",
    "              'min_child_weight': [4],\n",
    "              'silent': [1],\n",
    "              'subsample': [0.5,0.75,1],\n",
    "              'colsample_bytree': [0.5,0.75,1],\n",
    "              'n_estimators': [300,500,600]}\n",
    "\n",
    "parameters2 = {'nthread':[4], #when use hyperthread, xgboost may become slower\n",
    "              'objective':['reg:linear'],\n",
    "              'learning_rate': [.01,.03, .05,.07], #so called `eta` value\n",
    "              'max_depth': [5,6,7,8],\n",
    "              'min_child_weight': [4],\n",
    "              'silent': [1],\n",
    "              'subsample': [0.5,0.75,1],\n",
    "              'colsample_bytree': [0.65,0.75,0.85],\n",
    "              'n_estimators': [300,500,600,700]}\n",
    "\n",
    "xgb_grid = GridSearchCV(xgb_regressor,\n",
    "                        parameters,\n",
    "                        cv = 2,\n",
    "                        n_jobs = 5,\n",
    "                        verbose=True)\n",
    "\n",
    "x = df.drop(['calories_per_ha'], axis=1)\n",
    "y = df['calories_per_ha']\n",
    "\n",
    "X_train, X_test, y_train, y_test = train_test_split(x, y)\n",
    "xgb_grid.fit(X_train,\n",
    "         y_train)\n",
    "\n",
    "print(xgb_grid.best_score_)\n",
    "print(xgb_grid.best_params_)"
   ]
  },
  {
   "cell_type": "code",
   "execution_count": 50,
   "metadata": {},
   "outputs": [
    {
     "ename": "SyntaxError",
     "evalue": "invalid syntax (<ipython-input-50-b8bad56592b9>, line 4)",
     "output_type": "error",
     "traceback": [
      "\u001b[0;36m  File \u001b[0;32m\"<ipython-input-50-b8bad56592b9>\"\u001b[0;36m, line \u001b[0;32m4\u001b[0m\n\u001b[0;31m    best_parameters = ('colsample_bytree': 0.75, 'learning_rate': 0.03, 'max_depth': 7,\u001b[0m\n\u001b[0m                                         ^\u001b[0m\n\u001b[0;31mSyntaxError\u001b[0m\u001b[0;31m:\u001b[0m invalid syntax\n"
     ]
    }
   ],
   "source": [
    "# Results from cell above\n",
    "# Fitting 2 folds for each of 243 candidates, totalling 486 fits | elapsed: 16.0min finished\n",
    "best_R2 = 0.44336470168217684\n",
    "best_parameters = {'colsample_bytree': 0.75, 'learning_rate': 0.03, 'max_depth': 7,\n",
    "                   'min_child_weight': 4, 'n_estimators': 600, 'nthread': 4,\n",
    "                   'objective': 'reg:linear', 'silent': 1, 'subsample': 0.75}"
   ]
  },
  {
   "cell_type": "code",
   "execution_count": 73,
   "metadata": {},
   "outputs": [],
   "source": [
    "Results_new = pd.DataFrame(columns=['Model','num_features','Features','MSE','R2','learning_rate','n_estimators'])\n"
   ]
  },
  {
   "cell_type": "code",
   "execution_count": 77,
   "metadata": {},
   "outputs": [
    {
     "data": {
      "text/html": [
       "<div>\n",
       "<style scoped>\n",
       "    .dataframe tbody tr th:only-of-type {\n",
       "        vertical-align: middle;\n",
       "    }\n",
       "\n",
       "    .dataframe tbody tr th {\n",
       "        vertical-align: top;\n",
       "    }\n",
       "\n",
       "    .dataframe thead th {\n",
       "        text-align: right;\n",
       "    }\n",
       "</style>\n",
       "<table border=\"1\" class=\"dataframe\">\n",
       "  <thead>\n",
       "    <tr style=\"text-align: right;\">\n",
       "      <th></th>\n",
       "      <th>Model</th>\n",
       "      <th>num_features</th>\n",
       "      <th>Features</th>\n",
       "      <th>MSE</th>\n",
       "      <th>R2</th>\n",
       "      <th>learning_rate</th>\n",
       "      <th>n_estimators</th>\n",
       "    </tr>\n",
       "  </thead>\n",
       "  <tbody>\n",
       "  </tbody>\n",
       "</table>\n",
       "</div>"
      ],
      "text/plain": [
       "Empty DataFrame\n",
       "Columns: [Model, num_features, Features, MSE, R2, learning_rate, n_estimators]\n",
       "Index: []"
      ]
     },
     "execution_count": 77,
     "metadata": {},
     "output_type": "execute_result"
    }
   ],
   "source": [
    "Results_new"
   ]
  },
  {
   "cell_type": "code",
   "execution_count": 74,
   "metadata": {},
   "outputs": [
    {
     "name": "stdout",
     "output_type": "stream",
     "text": [
      "    with all features...\n",
      "    R2_score : 0.5406093006999909\n",
      "    MSE_score : -0.8246271862214343\n",
      "    with all features but climate zones...\n",
      "    R2_score : 0.5426347506096731\n",
      "    MSE_score : -0.8213419442826032\n",
      " RFE with 5 features ...\n"
     ]
    },
    {
     "name": "stderr",
     "output_type": "stream",
     "text": [
      "/Users/charlotteweil1/anaconda/envs/spatialenv/lib/python3.6/site-packages/sklearn/utils/__init__.py:93: FutureWarning: Conversion of the second argument of issubdtype from `int` to `np.signedinteger` is deprecated. In future, it will be treated as `np.int64 == np.dtype(int).type`.\n",
      "  if np.issubdtype(mask.dtype, np.int):\n"
     ]
    },
    {
     "name": "stdout",
     "output_type": "stream",
     "text": [
      "    R2_score : 0.48981662600214343\n",
      "    MSE_score : -0.9163359946311189\n",
      " RFE with 6 features ...\n"
     ]
    },
    {
     "name": "stderr",
     "output_type": "stream",
     "text": [
      "/Users/charlotteweil1/anaconda/envs/spatialenv/lib/python3.6/site-packages/sklearn/utils/__init__.py:93: FutureWarning: Conversion of the second argument of issubdtype from `int` to `np.signedinteger` is deprecated. In future, it will be treated as `np.int64 == np.dtype(int).type`.\n",
      "  if np.issubdtype(mask.dtype, np.int):\n"
     ]
    },
    {
     "name": "stdout",
     "output_type": "stream",
     "text": [
      "    R2_score : 0.491343619855363\n",
      "    MSE_score : -0.9134327101243915\n",
      " RFE with 7 features ...\n"
     ]
    },
    {
     "name": "stderr",
     "output_type": "stream",
     "text": [
      "/Users/charlotteweil1/anaconda/envs/spatialenv/lib/python3.6/site-packages/sklearn/utils/__init__.py:93: FutureWarning: Conversion of the second argument of issubdtype from `int` to `np.signedinteger` is deprecated. In future, it will be treated as `np.int64 == np.dtype(int).type`.\n",
      "  if np.issubdtype(mask.dtype, np.int):\n"
     ]
    },
    {
     "name": "stdout",
     "output_type": "stream",
     "text": [
      "    R2_score : 0.4990281959567772\n",
      "    MSE_score : -0.9007494152355721\n",
      " RFE with 8 features ...\n"
     ]
    },
    {
     "name": "stderr",
     "output_type": "stream",
     "text": [
      "/Users/charlotteweil1/anaconda/envs/spatialenv/lib/python3.6/site-packages/sklearn/utils/__init__.py:93: FutureWarning: Conversion of the second argument of issubdtype from `int` to `np.signedinteger` is deprecated. In future, it will be treated as `np.int64 == np.dtype(int).type`.\n",
      "  if np.issubdtype(mask.dtype, np.int):\n"
     ]
    },
    {
     "name": "stdout",
     "output_type": "stream",
     "text": [
      "    R2_score : 0.5049807011304838\n",
      "    MSE_score : -0.8896520950564435\n",
      " RFE with 9 features ...\n"
     ]
    },
    {
     "name": "stderr",
     "output_type": "stream",
     "text": [
      "/Users/charlotteweil1/anaconda/envs/spatialenv/lib/python3.6/site-packages/sklearn/utils/__init__.py:93: FutureWarning: Conversion of the second argument of issubdtype from `int` to `np.signedinteger` is deprecated. In future, it will be treated as `np.int64 == np.dtype(int).type`.\n",
      "  if np.issubdtype(mask.dtype, np.int):\n"
     ]
    },
    {
     "name": "stdout",
     "output_type": "stream",
     "text": [
      "    R2_score : 0.5172744261126547\n",
      "    MSE_score : -0.8677254936406079\n",
      " RFE with 10 features ...\n"
     ]
    },
    {
     "name": "stderr",
     "output_type": "stream",
     "text": [
      "/Users/charlotteweil1/anaconda/envs/spatialenv/lib/python3.6/site-packages/sklearn/utils/__init__.py:93: FutureWarning: Conversion of the second argument of issubdtype from `int` to `np.signedinteger` is deprecated. In future, it will be treated as `np.int64 == np.dtype(int).type`.\n",
      "  if np.issubdtype(mask.dtype, np.int):\n"
     ]
    },
    {
     "name": "stdout",
     "output_type": "stream",
     "text": [
      "    R2_score : 0.5145086635828642\n",
      "    MSE_score : -0.8720368474464752\n",
      " RFE with 11 features ...\n"
     ]
    },
    {
     "name": "stderr",
     "output_type": "stream",
     "text": [
      "/Users/charlotteweil1/anaconda/envs/spatialenv/lib/python3.6/site-packages/sklearn/utils/__init__.py:93: FutureWarning: Conversion of the second argument of issubdtype from `int` to `np.signedinteger` is deprecated. In future, it will be treated as `np.int64 == np.dtype(int).type`.\n",
      "  if np.issubdtype(mask.dtype, np.int):\n"
     ]
    },
    {
     "name": "stdout",
     "output_type": "stream",
     "text": [
      "    R2_score : 0.5225965336818488\n",
      "    MSE_score : -0.8576294121490278\n",
      " RFE with 12 features ...\n"
     ]
    },
    {
     "name": "stderr",
     "output_type": "stream",
     "text": [
      "/Users/charlotteweil1/anaconda/envs/spatialenv/lib/python3.6/site-packages/sklearn/utils/__init__.py:93: FutureWarning: Conversion of the second argument of issubdtype from `int` to `np.signedinteger` is deprecated. In future, it will be treated as `np.int64 == np.dtype(int).type`.\n",
      "  if np.issubdtype(mask.dtype, np.int):\n"
     ]
    },
    {
     "name": "stdout",
     "output_type": "stream",
     "text": [
      "    R2_score : 0.5198069527552301\n",
      "    MSE_score : -0.8623120513714276\n",
      " RFE with 13 features ...\n"
     ]
    },
    {
     "name": "stderr",
     "output_type": "stream",
     "text": [
      "/Users/charlotteweil1/anaconda/envs/spatialenv/lib/python3.6/site-packages/sklearn/utils/__init__.py:93: FutureWarning: Conversion of the second argument of issubdtype from `int` to `np.signedinteger` is deprecated. In future, it will be treated as `np.int64 == np.dtype(int).type`.\n",
      "  if np.issubdtype(mask.dtype, np.int):\n"
     ]
    },
    {
     "name": "stdout",
     "output_type": "stream",
     "text": [
      "    R2_score : 0.5195331557301516\n",
      "    MSE_score : -0.8629653474172049\n",
      " RFE with 14 features ...\n"
     ]
    },
    {
     "name": "stderr",
     "output_type": "stream",
     "text": [
      "/Users/charlotteweil1/anaconda/envs/spatialenv/lib/python3.6/site-packages/sklearn/utils/__init__.py:93: FutureWarning: Conversion of the second argument of issubdtype from `int` to `np.signedinteger` is deprecated. In future, it will be treated as `np.int64 == np.dtype(int).type`.\n",
      "  if np.issubdtype(mask.dtype, np.int):\n"
     ]
    },
    {
     "name": "stdout",
     "output_type": "stream",
     "text": [
      "    R2_score : 0.5225481191873591\n",
      "    MSE_score : -0.8576866964761365\n",
      " RFE with 15 features ...\n"
     ]
    },
    {
     "name": "stderr",
     "output_type": "stream",
     "text": [
      "/Users/charlotteweil1/anaconda/envs/spatialenv/lib/python3.6/site-packages/sklearn/utils/__init__.py:93: FutureWarning: Conversion of the second argument of issubdtype from `int` to `np.signedinteger` is deprecated. In future, it will be treated as `np.int64 == np.dtype(int).type`.\n",
      "  if np.issubdtype(mask.dtype, np.int):\n"
     ]
    },
    {
     "name": "stdout",
     "output_type": "stream",
     "text": [
      "    R2_score : 0.5283220519787923\n",
      "    MSE_score : -0.8474529889552528\n",
      " RFE with 16 features ...\n"
     ]
    },
    {
     "name": "stderr",
     "output_type": "stream",
     "text": [
      "/Users/charlotteweil1/anaconda/envs/spatialenv/lib/python3.6/site-packages/sklearn/utils/__init__.py:93: FutureWarning: Conversion of the second argument of issubdtype from `int` to `np.signedinteger` is deprecated. In future, it will be treated as `np.int64 == np.dtype(int).type`.\n",
      "  if np.issubdtype(mask.dtype, np.int):\n"
     ]
    },
    {
     "name": "stdout",
     "output_type": "stream",
     "text": [
      "    R2_score : 0.5307536282854359\n",
      "    MSE_score : -0.8434838383494799\n",
      " RFE with 17 features ...\n"
     ]
    },
    {
     "name": "stderr",
     "output_type": "stream",
     "text": [
      "/Users/charlotteweil1/anaconda/envs/spatialenv/lib/python3.6/site-packages/sklearn/utils/__init__.py:93: FutureWarning: Conversion of the second argument of issubdtype from `int` to `np.signedinteger` is deprecated. In future, it will be treated as `np.int64 == np.dtype(int).type`.\n",
      "  if np.issubdtype(mask.dtype, np.int):\n"
     ]
    },
    {
     "name": "stdout",
     "output_type": "stream",
     "text": [
      "    R2_score : 0.5354639502422005\n",
      "    MSE_score : -0.8348687590378099\n",
      " RFE with 18 features ...\n"
     ]
    },
    {
     "name": "stderr",
     "output_type": "stream",
     "text": [
      "/Users/charlotteweil1/anaconda/envs/spatialenv/lib/python3.6/site-packages/sklearn/utils/__init__.py:93: FutureWarning: Conversion of the second argument of issubdtype from `int` to `np.signedinteger` is deprecated. In future, it will be treated as `np.int64 == np.dtype(int).type`.\n",
      "  if np.issubdtype(mask.dtype, np.int):\n"
     ]
    },
    {
     "name": "stdout",
     "output_type": "stream",
     "text": [
      "    R2_score : 0.5404614216538981\n",
      "    MSE_score : -0.8254169963086092\n",
      " RFE with 19 features ...\n"
     ]
    },
    {
     "name": "stderr",
     "output_type": "stream",
     "text": [
      "/Users/charlotteweil1/anaconda/envs/spatialenv/lib/python3.6/site-packages/sklearn/utils/__init__.py:93: FutureWarning: Conversion of the second argument of issubdtype from `int` to `np.signedinteger` is deprecated. In future, it will be treated as `np.int64 == np.dtype(int).type`.\n",
      "  if np.issubdtype(mask.dtype, np.int):\n"
     ]
    },
    {
     "name": "stdout",
     "output_type": "stream",
     "text": [
      "    R2_score : 0.5377971956788379\n",
      "    MSE_score : -0.8304564670090702\n",
      "RFE (no climzones) with 5 features ...\n"
     ]
    },
    {
     "name": "stderr",
     "output_type": "stream",
     "text": [
      "/Users/charlotteweil1/anaconda/envs/spatialenv/lib/python3.6/site-packages/sklearn/utils/__init__.py:93: FutureWarning: Conversion of the second argument of issubdtype from `int` to `np.signedinteger` is deprecated. In future, it will be treated as `np.int64 == np.dtype(int).type`.\n",
      "  if np.issubdtype(mask.dtype, np.int):\n"
     ]
    },
    {
     "name": "stdout",
     "output_type": "stream",
     "text": [
      "    R2_score : 0.48981662600214343\n",
      "    MSE_score : -0.9163359946311189\n",
      "RFE (no climzones) with 6 features ...\n"
     ]
    },
    {
     "name": "stderr",
     "output_type": "stream",
     "text": [
      "/Users/charlotteweil1/anaconda/envs/spatialenv/lib/python3.6/site-packages/sklearn/utils/__init__.py:93: FutureWarning: Conversion of the second argument of issubdtype from `int` to `np.signedinteger` is deprecated. In future, it will be treated as `np.int64 == np.dtype(int).type`.\n",
      "  if np.issubdtype(mask.dtype, np.int):\n"
     ]
    },
    {
     "name": "stdout",
     "output_type": "stream",
     "text": [
      "    R2_score : 0.5074875158330682\n",
      "    MSE_score : -0.8861045319282711\n",
      "RFE (no climzones) with 7 features ...\n"
     ]
    },
    {
     "name": "stderr",
     "output_type": "stream",
     "text": [
      "/Users/charlotteweil1/anaconda/envs/spatialenv/lib/python3.6/site-packages/sklearn/utils/__init__.py:93: FutureWarning: Conversion of the second argument of issubdtype from `int` to `np.signedinteger` is deprecated. In future, it will be treated as `np.int64 == np.dtype(int).type`.\n",
      "  if np.issubdtype(mask.dtype, np.int):\n"
     ]
    },
    {
     "name": "stdout",
     "output_type": "stream",
     "text": [
      "    R2_score : 0.5026750277547444\n",
      "    MSE_score : -0.893907574012888\n",
      "RFE (no climzones) with 8 features ...\n"
     ]
    },
    {
     "name": "stderr",
     "output_type": "stream",
     "text": [
      "/Users/charlotteweil1/anaconda/envs/spatialenv/lib/python3.6/site-packages/sklearn/utils/__init__.py:93: FutureWarning: Conversion of the second argument of issubdtype from `int` to `np.signedinteger` is deprecated. In future, it will be treated as `np.int64 == np.dtype(int).type`.\n",
      "  if np.issubdtype(mask.dtype, np.int):\n"
     ]
    },
    {
     "name": "stdout",
     "output_type": "stream",
     "text": [
      "    R2_score : 0.5098685847001441\n",
      "    MSE_score : -0.8809953472673442\n",
      "RFE (no climzones) with 9 features ...\n"
     ]
    },
    {
     "name": "stderr",
     "output_type": "stream",
     "text": [
      "/Users/charlotteweil1/anaconda/envs/spatialenv/lib/python3.6/site-packages/sklearn/utils/__init__.py:93: FutureWarning: Conversion of the second argument of issubdtype from `int` to `np.signedinteger` is deprecated. In future, it will be treated as `np.int64 == np.dtype(int).type`.\n",
      "  if np.issubdtype(mask.dtype, np.int):\n"
     ]
    },
    {
     "name": "stdout",
     "output_type": "stream",
     "text": [
      "    R2_score : 0.5209647749016258\n",
      "    MSE_score : -0.8608394571711437\n",
      "RFE (no climzones) with 10 features ...\n"
     ]
    },
    {
     "name": "stderr",
     "output_type": "stream",
     "text": [
      "/Users/charlotteweil1/anaconda/envs/spatialenv/lib/python3.6/site-packages/sklearn/utils/__init__.py:93: FutureWarning: Conversion of the second argument of issubdtype from `int` to `np.signedinteger` is deprecated. In future, it will be treated as `np.int64 == np.dtype(int).type`.\n",
      "  if np.issubdtype(mask.dtype, np.int):\n"
     ]
    },
    {
     "name": "stdout",
     "output_type": "stream",
     "text": [
      "    R2_score : 0.5145086635828642\n",
      "    MSE_score : -0.8720368474464752\n",
      "RFE (no climzones) with 11 features ...\n"
     ]
    },
    {
     "name": "stderr",
     "output_type": "stream",
     "text": [
      "/Users/charlotteweil1/anaconda/envs/spatialenv/lib/python3.6/site-packages/sklearn/utils/__init__.py:93: FutureWarning: Conversion of the second argument of issubdtype from `int` to `np.signedinteger` is deprecated. In future, it will be treated as `np.int64 == np.dtype(int).type`.\n",
      "  if np.issubdtype(mask.dtype, np.int):\n"
     ]
    },
    {
     "name": "stdout",
     "output_type": "stream",
     "text": [
      "    R2_score : 0.5117651424964539\n",
      "    MSE_score : -0.8774404644984168\n",
      "RFE (no climzones) with 12 features ...\n"
     ]
    },
    {
     "name": "stderr",
     "output_type": "stream",
     "text": [
      "/Users/charlotteweil1/anaconda/envs/spatialenv/lib/python3.6/site-packages/sklearn/utils/__init__.py:93: FutureWarning: Conversion of the second argument of issubdtype from `int` to `np.signedinteger` is deprecated. In future, it will be treated as `np.int64 == np.dtype(int).type`.\n",
      "  if np.issubdtype(mask.dtype, np.int):\n"
     ]
    },
    {
     "name": "stdout",
     "output_type": "stream",
     "text": [
      "    R2_score : 0.5198069527552301\n",
      "    MSE_score : -0.8623120513714276\n",
      "RFE (no climzones) with 13 features ...\n"
     ]
    },
    {
     "name": "stderr",
     "output_type": "stream",
     "text": [
      "/Users/charlotteweil1/anaconda/envs/spatialenv/lib/python3.6/site-packages/sklearn/utils/__init__.py:93: FutureWarning: Conversion of the second argument of issubdtype from `int` to `np.signedinteger` is deprecated. In future, it will be treated as `np.int64 == np.dtype(int).type`.\n",
      "  if np.issubdtype(mask.dtype, np.int):\n"
     ]
    },
    {
     "name": "stdout",
     "output_type": "stream",
     "text": [
      "    R2_score : 0.5195331557301516\n",
      "    MSE_score : -0.8629653474172049\n",
      "RFE (no climzones) with 14 features ...\n"
     ]
    },
    {
     "name": "stderr",
     "output_type": "stream",
     "text": [
      "/Users/charlotteweil1/anaconda/envs/spatialenv/lib/python3.6/site-packages/sklearn/utils/__init__.py:93: FutureWarning: Conversion of the second argument of issubdtype from `int` to `np.signedinteger` is deprecated. In future, it will be treated as `np.int64 == np.dtype(int).type`.\n",
      "  if np.issubdtype(mask.dtype, np.int):\n"
     ]
    },
    {
     "name": "stdout",
     "output_type": "stream",
     "text": [
      "    R2_score : 0.5225481191873591\n",
      "    MSE_score : -0.8576866964761365\n",
      "RFE (no climzones) with 15 features ...\n"
     ]
    },
    {
     "name": "stderr",
     "output_type": "stream",
     "text": [
      "/Users/charlotteweil1/anaconda/envs/spatialenv/lib/python3.6/site-packages/sklearn/utils/__init__.py:93: FutureWarning: Conversion of the second argument of issubdtype from `int` to `np.signedinteger` is deprecated. In future, it will be treated as `np.int64 == np.dtype(int).type`.\n",
      "  if np.issubdtype(mask.dtype, np.int):\n"
     ]
    },
    {
     "name": "stdout",
     "output_type": "stream",
     "text": [
      "    R2_score : 0.5319732677654488\n",
      "    MSE_score : -0.840839383612748\n",
      "RFE (no climzones) with 16 features ...\n"
     ]
    },
    {
     "name": "stderr",
     "output_type": "stream",
     "text": [
      "/Users/charlotteweil1/anaconda/envs/spatialenv/lib/python3.6/site-packages/sklearn/utils/__init__.py:93: FutureWarning: Conversion of the second argument of issubdtype from `int` to `np.signedinteger` is deprecated. In future, it will be treated as `np.int64 == np.dtype(int).type`.\n",
      "  if np.issubdtype(mask.dtype, np.int):\n"
     ]
    },
    {
     "name": "stdout",
     "output_type": "stream",
     "text": [
      "    R2_score : 0.5307536282854359\n",
      "    MSE_score : -0.8434838383494799\n",
      "RFE (no climzones) with 17 features ...\n"
     ]
    },
    {
     "name": "stderr",
     "output_type": "stream",
     "text": [
      "/Users/charlotteweil1/anaconda/envs/spatialenv/lib/python3.6/site-packages/sklearn/utils/__init__.py:93: FutureWarning: Conversion of the second argument of issubdtype from `int` to `np.signedinteger` is deprecated. In future, it will be treated as `np.int64 == np.dtype(int).type`.\n",
      "  if np.issubdtype(mask.dtype, np.int):\n"
     ]
    },
    {
     "name": "stdout",
     "output_type": "stream",
     "text": [
      "    R2_score : 0.5354639502422005\n",
      "    MSE_score : -0.8348687590378099\n",
      "RFE (no climzones) with 18 features ...\n"
     ]
    },
    {
     "name": "stderr",
     "output_type": "stream",
     "text": [
      "/Users/charlotteweil1/anaconda/envs/spatialenv/lib/python3.6/site-packages/sklearn/utils/__init__.py:93: FutureWarning: Conversion of the second argument of issubdtype from `int` to `np.signedinteger` is deprecated. In future, it will be treated as `np.int64 == np.dtype(int).type`.\n",
      "  if np.issubdtype(mask.dtype, np.int):\n"
     ]
    },
    {
     "name": "stdout",
     "output_type": "stream",
     "text": [
      "    R2_score : 0.5352641646348377\n",
      "    MSE_score : -0.8349858048728999\n",
      "RFE (no climzones) with 19 features ...\n"
     ]
    },
    {
     "name": "stderr",
     "output_type": "stream",
     "text": [
      "/Users/charlotteweil1/anaconda/envs/spatialenv/lib/python3.6/site-packages/sklearn/utils/__init__.py:93: FutureWarning: Conversion of the second argument of issubdtype from `int` to `np.signedinteger` is deprecated. In future, it will be treated as `np.int64 == np.dtype(int).type`.\n",
      "  if np.issubdtype(mask.dtype, np.int):\n"
     ]
    },
    {
     "name": "stdout",
     "output_type": "stream",
     "text": [
      "    R2_score : 0.5377971956788379\n",
      "    MSE_score : -0.8304564670090702\n"
     ]
    }
   ],
   "source": [
    "model = 'XGB'\n",
    "xgbreg = xgb.XGBRegressor(**best_parameters)\n",
    "\n",
    "for features_selection in ['all', 'all_but_climzones', 'RFE', 'RFE_but_climzones']:    \n",
    "    run_regressions_and_save_results(model, xgbreg, df, features_selection, Results_new)\n",
    "    \n",
    "    "
   ]
  },
  {
   "cell_type": "code",
   "execution_count": 78,
   "metadata": {},
   "outputs": [
    {
     "name": "stdout",
     "output_type": "stream",
     "text": [
      "    with all features...\n",
      "    R2_score : 0.5406093006999909\n",
      "    MSE_score : -0.8246271862214343\n",
      "    with all features but climate zones...\n",
      "    R2_score : 0.5426347506096731\n",
      "    MSE_score : -0.8213419442826032\n",
      " RFE with 5 features ...\n"
     ]
    },
    {
     "name": "stderr",
     "output_type": "stream",
     "text": [
      "/Users/charlotteweil1/anaconda/envs/spatialenv/lib/python3.6/site-packages/sklearn/utils/__init__.py:93: FutureWarning: Conversion of the second argument of issubdtype from `int` to `np.signedinteger` is deprecated. In future, it will be treated as `np.int64 == np.dtype(int).type`.\n",
      "  if np.issubdtype(mask.dtype, np.int):\n"
     ]
    },
    {
     "name": "stdout",
     "output_type": "stream",
     "text": [
      "    R2_score : 0.4919951107973576\n",
      "    MSE_score : -0.912592181656876\n",
      " RFE with 6 features ...\n"
     ]
    },
    {
     "name": "stderr",
     "output_type": "stream",
     "text": [
      "/Users/charlotteweil1/anaconda/envs/spatialenv/lib/python3.6/site-packages/sklearn/utils/__init__.py:93: FutureWarning: Conversion of the second argument of issubdtype from `int` to `np.signedinteger` is deprecated. In future, it will be treated as `np.int64 == np.dtype(int).type`.\n",
      "  if np.issubdtype(mask.dtype, np.int):\n"
     ]
    },
    {
     "name": "stdout",
     "output_type": "stream",
     "text": [
      "    R2_score : 0.5044769722553704\n",
      "    MSE_score : -0.890035616976584\n",
      " RFE with 7 features ...\n"
     ]
    },
    {
     "name": "stderr",
     "output_type": "stream",
     "text": [
      "/Users/charlotteweil1/anaconda/envs/spatialenv/lib/python3.6/site-packages/sklearn/utils/__init__.py:93: FutureWarning: Conversion of the second argument of issubdtype from `int` to `np.signedinteger` is deprecated. In future, it will be treated as `np.int64 == np.dtype(int).type`.\n",
      "  if np.issubdtype(mask.dtype, np.int):\n"
     ]
    },
    {
     "name": "stdout",
     "output_type": "stream",
     "text": [
      "    R2_score : 0.4990281959567772\n",
      "    MSE_score : -0.9007494152355721\n",
      " RFE with 8 features ...\n"
     ]
    },
    {
     "name": "stderr",
     "output_type": "stream",
     "text": [
      "/Users/charlotteweil1/anaconda/envs/spatialenv/lib/python3.6/site-packages/sklearn/utils/__init__.py:93: FutureWarning: Conversion of the second argument of issubdtype from `int` to `np.signedinteger` is deprecated. In future, it will be treated as `np.int64 == np.dtype(int).type`.\n",
      "  if np.issubdtype(mask.dtype, np.int):\n"
     ]
    },
    {
     "name": "stdout",
     "output_type": "stream",
     "text": [
      "    R2_score : 0.5049807011304838\n",
      "    MSE_score : -0.8896520950564435\n",
      " RFE with 9 features ...\n"
     ]
    },
    {
     "name": "stderr",
     "output_type": "stream",
     "text": [
      "/Users/charlotteweil1/anaconda/envs/spatialenv/lib/python3.6/site-packages/sklearn/utils/__init__.py:93: FutureWarning: Conversion of the second argument of issubdtype from `int` to `np.signedinteger` is deprecated. In future, it will be treated as `np.int64 == np.dtype(int).type`.\n",
      "  if np.issubdtype(mask.dtype, np.int):\n"
     ]
    },
    {
     "name": "stdout",
     "output_type": "stream",
     "text": [
      "    R2_score : 0.5209647749016258\n",
      "    MSE_score : -0.8608394571711437\n",
      " RFE with 10 features ...\n"
     ]
    },
    {
     "name": "stderr",
     "output_type": "stream",
     "text": [
      "/Users/charlotteweil1/anaconda/envs/spatialenv/lib/python3.6/site-packages/sklearn/utils/__init__.py:93: FutureWarning: Conversion of the second argument of issubdtype from `int` to `np.signedinteger` is deprecated. In future, it will be treated as `np.int64 == np.dtype(int).type`.\n",
      "  if np.issubdtype(mask.dtype, np.int):\n"
     ]
    },
    {
     "name": "stdout",
     "output_type": "stream",
     "text": [
      "    R2_score : 0.5055289818523075\n",
      "    MSE_score : -0.8886219436267879\n",
      " RFE with 11 features ...\n"
     ]
    },
    {
     "name": "stderr",
     "output_type": "stream",
     "text": [
      "/Users/charlotteweil1/anaconda/envs/spatialenv/lib/python3.6/site-packages/sklearn/utils/__init__.py:93: FutureWarning: Conversion of the second argument of issubdtype from `int` to `np.signedinteger` is deprecated. In future, it will be treated as `np.int64 == np.dtype(int).type`.\n",
      "  if np.issubdtype(mask.dtype, np.int):\n"
     ]
    },
    {
     "name": "stdout",
     "output_type": "stream",
     "text": [
      "    R2_score : 0.5117651424964539\n",
      "    MSE_score : -0.8774404644984168\n",
      " RFE with 12 features ...\n"
     ]
    },
    {
     "name": "stderr",
     "output_type": "stream",
     "text": [
      "/Users/charlotteweil1/anaconda/envs/spatialenv/lib/python3.6/site-packages/sklearn/utils/__init__.py:93: FutureWarning: Conversion of the second argument of issubdtype from `int` to `np.signedinteger` is deprecated. In future, it will be treated as `np.int64 == np.dtype(int).type`.\n",
      "  if np.issubdtype(mask.dtype, np.int):\n"
     ]
    },
    {
     "name": "stdout",
     "output_type": "stream",
     "text": [
      "    R2_score : 0.5198069527552301\n",
      "    MSE_score : -0.8623120513714276\n",
      " RFE with 13 features ...\n"
     ]
    },
    {
     "name": "stderr",
     "output_type": "stream",
     "text": [
      "/Users/charlotteweil1/anaconda/envs/spatialenv/lib/python3.6/site-packages/sklearn/utils/__init__.py:93: FutureWarning: Conversion of the second argument of issubdtype from `int` to `np.signedinteger` is deprecated. In future, it will be treated as `np.int64 == np.dtype(int).type`.\n",
      "  if np.issubdtype(mask.dtype, np.int):\n"
     ]
    },
    {
     "name": "stdout",
     "output_type": "stream",
     "text": [
      "    R2_score : 0.5280350981371749\n",
      "    MSE_score : -0.8480219127742865\n",
      " RFE with 14 features ...\n"
     ]
    },
    {
     "name": "stderr",
     "output_type": "stream",
     "text": [
      "/Users/charlotteweil1/anaconda/envs/spatialenv/lib/python3.6/site-packages/sklearn/utils/__init__.py:93: FutureWarning: Conversion of the second argument of issubdtype from `int` to `np.signedinteger` is deprecated. In future, it will be treated as `np.int64 == np.dtype(int).type`.\n",
      "  if np.issubdtype(mask.dtype, np.int):\n"
     ]
    },
    {
     "name": "stdout",
     "output_type": "stream",
     "text": [
      "    R2_score : 0.527608609244785\n",
      "    MSE_score : -0.848399106427407\n",
      " RFE with 15 features ...\n"
     ]
    },
    {
     "name": "stderr",
     "output_type": "stream",
     "text": [
      "/Users/charlotteweil1/anaconda/envs/spatialenv/lib/python3.6/site-packages/sklearn/utils/__init__.py:93: FutureWarning: Conversion of the second argument of issubdtype from `int` to `np.signedinteger` is deprecated. In future, it will be treated as `np.int64 == np.dtype(int).type`.\n",
      "  if np.issubdtype(mask.dtype, np.int):\n"
     ]
    },
    {
     "name": "stdout",
     "output_type": "stream",
     "text": [
      "    R2_score : 0.5283220519787923\n",
      "    MSE_score : -0.8474529889552528\n",
      " RFE with 16 features ...\n"
     ]
    },
    {
     "name": "stderr",
     "output_type": "stream",
     "text": [
      "/Users/charlotteweil1/anaconda/envs/spatialenv/lib/python3.6/site-packages/sklearn/utils/__init__.py:93: FutureWarning: Conversion of the second argument of issubdtype from `int` to `np.signedinteger` is deprecated. In future, it will be treated as `np.int64 == np.dtype(int).type`.\n",
      "  if np.issubdtype(mask.dtype, np.int):\n"
     ]
    },
    {
     "name": "stdout",
     "output_type": "stream",
     "text": [
      "    R2_score : 0.5307536282854359\n",
      "    MSE_score : -0.8434838383494799\n",
      " RFE with 17 features ...\n"
     ]
    },
    {
     "name": "stderr",
     "output_type": "stream",
     "text": [
      "/Users/charlotteweil1/anaconda/envs/spatialenv/lib/python3.6/site-packages/sklearn/utils/__init__.py:93: FutureWarning: Conversion of the second argument of issubdtype from `int` to `np.signedinteger` is deprecated. In future, it will be treated as `np.int64 == np.dtype(int).type`.\n",
      "  if np.issubdtype(mask.dtype, np.int):\n"
     ]
    },
    {
     "name": "stdout",
     "output_type": "stream",
     "text": [
      "    R2_score : 0.5354639502422005\n",
      "    MSE_score : -0.8348687590378099\n",
      " RFE with 18 features ...\n"
     ]
    },
    {
     "name": "stderr",
     "output_type": "stream",
     "text": [
      "/Users/charlotteweil1/anaconda/envs/spatialenv/lib/python3.6/site-packages/sklearn/utils/__init__.py:93: FutureWarning: Conversion of the second argument of issubdtype from `int` to `np.signedinteger` is deprecated. In future, it will be treated as `np.int64 == np.dtype(int).type`.\n",
      "  if np.issubdtype(mask.dtype, np.int):\n"
     ]
    },
    {
     "name": "stdout",
     "output_type": "stream",
     "text": [
      "    R2_score : 0.5352641646348377\n",
      "    MSE_score : -0.8349858048728999\n",
      " RFE with 19 features ...\n"
     ]
    },
    {
     "name": "stderr",
     "output_type": "stream",
     "text": [
      "/Users/charlotteweil1/anaconda/envs/spatialenv/lib/python3.6/site-packages/sklearn/utils/__init__.py:93: FutureWarning: Conversion of the second argument of issubdtype from `int` to `np.signedinteger` is deprecated. In future, it will be treated as `np.int64 == np.dtype(int).type`.\n",
      "  if np.issubdtype(mask.dtype, np.int):\n"
     ]
    },
    {
     "name": "stdout",
     "output_type": "stream",
     "text": [
      "    R2_score : 0.5377971956788379\n",
      "    MSE_score : -0.8304564670090702\n",
      "RFE (no climzones) with 5 features ...\n"
     ]
    },
    {
     "name": "stderr",
     "output_type": "stream",
     "text": [
      "/Users/charlotteweil1/anaconda/envs/spatialenv/lib/python3.6/site-packages/sklearn/utils/__init__.py:93: FutureWarning: Conversion of the second argument of issubdtype from `int` to `np.signedinteger` is deprecated. In future, it will be treated as `np.int64 == np.dtype(int).type`.\n",
      "  if np.issubdtype(mask.dtype, np.int):\n"
     ]
    },
    {
     "name": "stdout",
     "output_type": "stream",
     "text": [
      "    R2_score : 0.5027302442845459\n",
      "    MSE_score : -0.8936750622578818\n",
      "RFE (no climzones) with 6 features ...\n"
     ]
    },
    {
     "name": "stderr",
     "output_type": "stream",
     "text": [
      "/Users/charlotteweil1/anaconda/envs/spatialenv/lib/python3.6/site-packages/sklearn/utils/__init__.py:93: FutureWarning: Conversion of the second argument of issubdtype from `int` to `np.signedinteger` is deprecated. In future, it will be treated as `np.int64 == np.dtype(int).type`.\n",
      "  if np.issubdtype(mask.dtype, np.int):\n"
     ]
    },
    {
     "name": "stdout",
     "output_type": "stream",
     "text": [
      "    R2_score : 0.5074875158330682\n",
      "    MSE_score : -0.8861045319282711\n",
      "RFE (no climzones) with 7 features ...\n"
     ]
    },
    {
     "name": "stderr",
     "output_type": "stream",
     "text": [
      "/Users/charlotteweil1/anaconda/envs/spatialenv/lib/python3.6/site-packages/sklearn/utils/__init__.py:93: FutureWarning: Conversion of the second argument of issubdtype from `int` to `np.signedinteger` is deprecated. In future, it will be treated as `np.int64 == np.dtype(int).type`.\n",
      "  if np.issubdtype(mask.dtype, np.int):\n"
     ]
    },
    {
     "name": "stdout",
     "output_type": "stream",
     "text": [
      "    R2_score : 0.5011930084214222\n",
      "    MSE_score : -0.895754343412938\n",
      "RFE (no climzones) with 8 features ...\n"
     ]
    },
    {
     "name": "stderr",
     "output_type": "stream",
     "text": [
      "/Users/charlotteweil1/anaconda/envs/spatialenv/lib/python3.6/site-packages/sklearn/utils/__init__.py:93: FutureWarning: Conversion of the second argument of issubdtype from `int` to `np.signedinteger` is deprecated. In future, it will be treated as `np.int64 == np.dtype(int).type`.\n",
      "  if np.issubdtype(mask.dtype, np.int):\n"
     ]
    },
    {
     "name": "stdout",
     "output_type": "stream",
     "text": [
      "    R2_score : 0.5025566548847991\n",
      "    MSE_score : -0.8937861741599988\n",
      "RFE (no climzones) with 9 features ...\n"
     ]
    },
    {
     "name": "stderr",
     "output_type": "stream",
     "text": [
      "/Users/charlotteweil1/anaconda/envs/spatialenv/lib/python3.6/site-packages/sklearn/utils/__init__.py:93: FutureWarning: Conversion of the second argument of issubdtype from `int` to `np.signedinteger` is deprecated. In future, it will be treated as `np.int64 == np.dtype(int).type`.\n",
      "  if np.issubdtype(mask.dtype, np.int):\n"
     ]
    },
    {
     "name": "stdout",
     "output_type": "stream",
     "text": [
      "    R2_score : 0.5209647749016258\n",
      "    MSE_score : -0.8608394571711437\n",
      "RFE (no climzones) with 10 features ...\n"
     ]
    },
    {
     "name": "stderr",
     "output_type": "stream",
     "text": [
      "/Users/charlotteweil1/anaconda/envs/spatialenv/lib/python3.6/site-packages/sklearn/utils/__init__.py:93: FutureWarning: Conversion of the second argument of issubdtype from `int` to `np.signedinteger` is deprecated. In future, it will be treated as `np.int64 == np.dtype(int).type`.\n",
      "  if np.issubdtype(mask.dtype, np.int):\n"
     ]
    },
    {
     "name": "stdout",
     "output_type": "stream",
     "text": [
      "    R2_score : 0.5171782505566348\n",
      "    MSE_score : -0.8673227970495132\n",
      "RFE (no climzones) with 11 features ...\n"
     ]
    },
    {
     "name": "stderr",
     "output_type": "stream",
     "text": [
      "/Users/charlotteweil1/anaconda/envs/spatialenv/lib/python3.6/site-packages/sklearn/utils/__init__.py:93: FutureWarning: Conversion of the second argument of issubdtype from `int` to `np.signedinteger` is deprecated. In future, it will be treated as `np.int64 == np.dtype(int).type`.\n",
      "  if np.issubdtype(mask.dtype, np.int):\n"
     ]
    },
    {
     "name": "stdout",
     "output_type": "stream",
     "text": [
      "    R2_score : 0.5225965336818488\n",
      "    MSE_score : -0.8576294121490278\n",
      "RFE (no climzones) with 12 features ...\n"
     ]
    },
    {
     "name": "stderr",
     "output_type": "stream",
     "text": [
      "/Users/charlotteweil1/anaconda/envs/spatialenv/lib/python3.6/site-packages/sklearn/utils/__init__.py:93: FutureWarning: Conversion of the second argument of issubdtype from `int` to `np.signedinteger` is deprecated. In future, it will be treated as `np.int64 == np.dtype(int).type`.\n",
      "  if np.issubdtype(mask.dtype, np.int):\n"
     ]
    },
    {
     "name": "stdout",
     "output_type": "stream",
     "text": [
      "    R2_score : 0.5198069527552301\n",
      "    MSE_score : -0.8623120513714276\n",
      "RFE (no climzones) with 13 features ...\n"
     ]
    },
    {
     "name": "stderr",
     "output_type": "stream",
     "text": [
      "/Users/charlotteweil1/anaconda/envs/spatialenv/lib/python3.6/site-packages/sklearn/utils/__init__.py:93: FutureWarning: Conversion of the second argument of issubdtype from `int` to `np.signedinteger` is deprecated. In future, it will be treated as `np.int64 == np.dtype(int).type`.\n",
      "  if np.issubdtype(mask.dtype, np.int):\n"
     ]
    },
    {
     "name": "stdout",
     "output_type": "stream",
     "text": [
      "    R2_score : 0.5195331557301516\n",
      "    MSE_score : -0.8629653474172049\n",
      "RFE (no climzones) with 14 features ...\n"
     ]
    },
    {
     "name": "stderr",
     "output_type": "stream",
     "text": [
      "/Users/charlotteweil1/anaconda/envs/spatialenv/lib/python3.6/site-packages/sklearn/utils/__init__.py:93: FutureWarning: Conversion of the second argument of issubdtype from `int` to `np.signedinteger` is deprecated. In future, it will be treated as `np.int64 == np.dtype(int).type`.\n",
      "  if np.issubdtype(mask.dtype, np.int):\n"
     ]
    },
    {
     "name": "stdout",
     "output_type": "stream",
     "text": [
      "    R2_score : 0.527608609244785\n",
      "    MSE_score : -0.848399106427407\n",
      "RFE (no climzones) with 15 features ...\n"
     ]
    },
    {
     "name": "stderr",
     "output_type": "stream",
     "text": [
      "/Users/charlotteweil1/anaconda/envs/spatialenv/lib/python3.6/site-packages/sklearn/utils/__init__.py:93: FutureWarning: Conversion of the second argument of issubdtype from `int` to `np.signedinteger` is deprecated. In future, it will be treated as `np.int64 == np.dtype(int).type`.\n",
      "  if np.issubdtype(mask.dtype, np.int):\n"
     ]
    },
    {
     "name": "stdout",
     "output_type": "stream",
     "text": [
      "    R2_score : 0.5181021424462724\n",
      "    MSE_score : -0.8655500782861028\n",
      "RFE (no climzones) with 16 features ...\n"
     ]
    },
    {
     "name": "stderr",
     "output_type": "stream",
     "text": [
      "/Users/charlotteweil1/anaconda/envs/spatialenv/lib/python3.6/site-packages/sklearn/utils/__init__.py:93: FutureWarning: Conversion of the second argument of issubdtype from `int` to `np.signedinteger` is deprecated. In future, it will be treated as `np.int64 == np.dtype(int).type`.\n",
      "  if np.issubdtype(mask.dtype, np.int):\n"
     ]
    },
    {
     "name": "stdout",
     "output_type": "stream",
     "text": [
      "    R2_score : 0.5307536282854359\n",
      "    MSE_score : -0.8434838383494799\n",
      "RFE (no climzones) with 17 features ...\n"
     ]
    },
    {
     "name": "stderr",
     "output_type": "stream",
     "text": [
      "/Users/charlotteweil1/anaconda/envs/spatialenv/lib/python3.6/site-packages/sklearn/utils/__init__.py:93: FutureWarning: Conversion of the second argument of issubdtype from `int` to `np.signedinteger` is deprecated. In future, it will be treated as `np.int64 == np.dtype(int).type`.\n",
      "  if np.issubdtype(mask.dtype, np.int):\n"
     ]
    },
    {
     "name": "stdout",
     "output_type": "stream",
     "text": [
      "    R2_score : 0.5354639502422005\n",
      "    MSE_score : -0.8348687590378099\n",
      "RFE (no climzones) with 18 features ...\n"
     ]
    },
    {
     "name": "stderr",
     "output_type": "stream",
     "text": [
      "/Users/charlotteweil1/anaconda/envs/spatialenv/lib/python3.6/site-packages/sklearn/utils/__init__.py:93: FutureWarning: Conversion of the second argument of issubdtype from `int` to `np.signedinteger` is deprecated. In future, it will be treated as `np.int64 == np.dtype(int).type`.\n",
      "  if np.issubdtype(mask.dtype, np.int):\n"
     ]
    },
    {
     "name": "stdout",
     "output_type": "stream",
     "text": [
      "    R2_score : 0.5352641646348377\n",
      "    MSE_score : -0.8349858048728999\n",
      "RFE (no climzones) with 19 features ...\n"
     ]
    },
    {
     "name": "stderr",
     "output_type": "stream",
     "text": [
      "/Users/charlotteweil1/anaconda/envs/spatialenv/lib/python3.6/site-packages/sklearn/utils/__init__.py:93: FutureWarning: Conversion of the second argument of issubdtype from `int` to `np.signedinteger` is deprecated. In future, it will be treated as `np.int64 == np.dtype(int).type`.\n",
      "  if np.issubdtype(mask.dtype, np.int):\n"
     ]
    },
    {
     "name": "stdout",
     "output_type": "stream",
     "text": [
      "    R2_score : 0.5377971956788379\n",
      "    MSE_score : -0.8304564670090702\n"
     ]
    }
   ],
   "source": [
    "model = 'XGB'\n",
    "xgbreg = xgb.XGBRegressor(**best_parameters)\n",
    "\n",
    "for features_selection in ['all', 'all_but_climzones', 'RFE', 'RFE_but_climzones']:    \n",
    "    Results_new = run_regressions_and_save_results(model, xgbreg, df, features_selection, Results_new)\n",
    "    \n",
    "    "
   ]
  },
  {
   "cell_type": "code",
   "execution_count": 102,
   "metadata": {},
   "outputs": [],
   "source": [
    "## Testing XGBoost with best params from grid search\n",
    "\n",
    "\n",
    "def run_regressions_and_save_results(model, regression, dataframe, features_selection, results_df):\n",
    "    '''features_selection = 'all', 'all_but_climzones', 'RFE', 'RFE_but_climzones   '''\n",
    "\n",
    "    # - - - - - - - - - - - - - - \n",
    "    # Features = All\n",
    "    # - - - - - - - - - - - - - - \n",
    "    \n",
    "    if features_selection == 'all':\n",
    "        print('    with all features...')\n",
    "        Features = 'All w/ climzones'\n",
    "        \n",
    "        scores = do_regression(regression,dataframe)\n",
    "        \n",
    "        print('    R2_score : '+str(scores[0]))\n",
    "        print('    MSE_score : '+str(scores[1]))\n",
    "        R2_score = scores[0]\n",
    "        MSE_score = scores[1]\n",
    "        results_df = results_df.append({'Model': model,\n",
    "                                        'num_features':len(dataframe.columns)-1,'Features':Features,\n",
    "                                        'colsample_bytree': 0.75,'max_depth': 7,\n",
    "                                          'min_child_weight': 4, 'n_estimators': 600, 'nthread': 4,\n",
    "                                          'objective': 'reg:linear', 'silent': 1, 'subsample': 0.75,\n",
    "                                        'learning_rate':0.03,\n",
    "                                        'R2':R2_score,'MSE':MSE_score},ignore_index=True)\n",
    "        \n",
    "        \n",
    "    # - - - - - - - - - - - - - - -\n",
    "    # Features = All but climzones\n",
    "    # - - - - - - - - - - - - - - -\n",
    "    \n",
    "    elif features_selection == 'all_but_climzones':\n",
    "        dataframe = dataframe[columns_without_climatezones]\n",
    "        \n",
    "        print('    with all features but climate zones...')\n",
    "        Features = 'All w/o climzones'\n",
    "        \n",
    "        scores = do_regression(regression,dataframe)\n",
    "        \n",
    "        print('    R2_score : '+str(scores[0]))\n",
    "        print('    MSE_score : '+str(scores[1]))\n",
    "        R2_score = scores[0]\n",
    "        MSE_score = scores[1]\n",
    "        results_df = results_df.append({'Model': model,\n",
    "                                        'num_features':len(dataframe.columns)-1,'Features':Features,\n",
    "                                        'colsample_bytree': 0.75,'max_depth': 7,\n",
    "                                      'min_child_weight': 4, 'n_estimators': 600, 'nthread': 4,\n",
    "                                      'objective': 'reg:linear', 'silent': 1, 'subsample': 0.75,\n",
    "                                    'learning_rate':0.03,\n",
    "                                    'R2':R2_score,'MSE':MSE_score},ignore_index=True)\n",
    "           \n",
    "    \n",
    "    # - - - - - - - - - - - - - - -\n",
    "    # Features = SUBSET\n",
    "    # - - - - - - - - - - - - - - -\n",
    "    \n",
    "    # if features_selection = 'subset':\n",
    "    ## TODO\n",
    "    \n",
    "    \n",
    "    # - - - - - - - - - - - - - - - - - - - - - - -\n",
    "    # Features = RFE selected (with climate zones)\n",
    "    # - - - - - - - - - - - - - - - - - - - - - - -\n",
    "    \n",
    "    elif features_selection == 'RFE':\n",
    "        for num_features in range (5,20):\n",
    "\n",
    "            print(' RFE with '+str(num_features)+ ' features ...')\n",
    "\n",
    "            ## RFE - Features selection\n",
    "            selector = RFE(regression, num_features, step=1)\n",
    "            x = dataframe.drop(['calories_per_ha'], axis=1) \n",
    "            y = dataframe['calories_per_ha']\n",
    "            X, X_test, Y, Y_test = train_test_split(x, y)\n",
    "            X_RFE = selector.fit_transform(X,Y)\n",
    "            features_selected = [X.columns[feature_pos] for feature_pos in selector.get_support(indices=True)]\n",
    "            \n",
    "            # Do regression and append results to results_df\n",
    "            scores = do_regression(regression,dataframe[(features_selected + ['calories_per_ha'])])\n",
    "            print('    R2_score : '+str(scores[0]))\n",
    "            print('    MSE_score : '+str(scores[1]))\n",
    "            R2_score = scores[0]\n",
    "            MSE_score = scores[1]\n",
    "            results_df = results_df.append({'Model': model,\n",
    "                                    'num_features':num_features,'Features':features_selected,\n",
    "                                    'colsample_bytree': 0.75,'max_depth': 7,\n",
    "                                      'min_child_weight': 4, 'n_estimators': 600, 'nthread': 4,\n",
    "                                      'objective': 'reg:linear', 'silent': 1, 'subsample': 0.75,\n",
    "                                    'learning_rate':0.03,\n",
    "                                    'R2':R2_score,'MSE':MSE_score},ignore_index=True)\n",
    "        \n",
    "        \n",
    "    # - - - - - - - - - - - - - - - - - - - - - - \n",
    "    # Features = RFE selected (w/o climate zones)\n",
    "    # - - - - - - - - - - - - - - - - - - - - - - \n",
    "    \n",
    "    elif features_selection == 'RFE_but_climzones':\n",
    "        \n",
    "        dataframe = dataframe[columns_without_climatezones]\n",
    "        \n",
    "        for num_features in range (5,6):\n",
    "\n",
    "            print('RFE (no climzones) with '+str(num_features)+ ' features ...')\n",
    "\n",
    "            ## RFE - Features selection\n",
    "            selector = RFE(regression, num_features, step=1)\n",
    "            x = dataframe.drop(['calories_per_ha'], axis=1) \n",
    "            y = dataframe['calories_per_ha']\n",
    "            X, X_test, Y, Y_test = train_test_split(x, y)\n",
    "            X_RFE = selector.fit_transform(X,Y)\n",
    "            features_selected = [X.columns[feature_pos] for feature_pos in selector.get_support(indices=True)]\n",
    "   \n",
    "            # Do regression and append results to results_df\n",
    "            scores = do_regression(regression,dataframe[(features_selected + ['calories_per_ha'])])\n",
    "            print('    R2_score : '+str(scores[0]))\n",
    "            print('    MSE_score : '+str(scores[1]))\n",
    "            R2_score = scores[0]\n",
    "            MSE_score = scores[1]\n",
    "            results_df = results_df.append({'Model': model,\n",
    "                                    'num_features':num_features,'Features':features_selected,\n",
    "                                    'colsample_bytree': 0.75,'max_depth': 7,\n",
    "                                      'min_child_weight': 4, 'n_estimators': 600, 'nthread': 4,\n",
    "                                      'objective': 'reg:linear', 'silent': 1, 'subsample': 0.75,\n",
    "                                    'learning_rate':0.03,\n",
    "                                    'R2':R2_score,'MSE':MSE_score},ignore_index=True)\n",
    "    \n",
    "        \n",
    "    return(results_df)"
   ]
  },
  {
   "cell_type": "code",
   "execution_count": 101,
   "metadata": {},
   "outputs": [
    {
     "data": {
      "text/plain": [
       "['gdp_per_capita', 'temp_avg', 'temp_seasonality', 'pixel_id_float', 'lat']"
      ]
     },
     "execution_count": 101,
     "metadata": {},
     "output_type": "execute_result"
    }
   ],
   "source": [
    "print(model.feature_importances_)"
   ]
  },
  {
   "cell_type": "code",
   "execution_count": 128,
   "metadata": {},
   "outputs": [
    {
     "data": {
      "text/plain": [
       "XGBRegressor(base_score=0.5, booster='gbtree', colsample_bylevel=1,\n",
       "       colsample_bytree=0.75, gamma=0, learning_rate=0.03,\n",
       "       max_delta_step=0, max_depth=7, min_child_weight=4, missing=None,\n",
       "       n_estimators=600, n_jobs=1, nthread=4, objective='reg:linear',\n",
       "       random_state=0, reg_alpha=0, reg_lambda=1, scale_pos_weight=1,\n",
       "       seed=None, silent=1, subsample=0.75)"
      ]
     },
     "execution_count": 128,
     "metadata": {},
     "output_type": "execute_result"
    }
   ],
   "source": [
    "xgbreg"
   ]
  },
  {
   "cell_type": "code",
   "execution_count": null,
   "metadata": {},
   "outputs": [],
   "source": [
    "regression = xgb.XGBRegressor(base_score=0.5, booster='gbtree', colsample_bylevel=1,\n",
    "       colsample_bytree=0.75, gamma=0, learning_rate=0.03,\n",
    "       max_delta_step=0, max_depth=7, min_child_weight=4, missing=None,\n",
    "       n_estimators=600, n_jobs=1, nthread=4, objective='reg:linear',\n",
    "       random_state=0, reg_alpha=0, reg_lambda=1, scale_pos_weight=1,\n",
    "       seed=None, silent=1, subsample=0.75)\n",
    "dataframe = df\n",
    "\n",
    "x = dataframe.drop(['calories_per_ha'], axis=1)\n",
    "y = dataframe['calories_per_ha']\n",
    "X_train, X_test, y_train, y_test = train_test_split(x, y)\n",
    "regression.fit(X_train, y_train)\n",
    "print(regression.feature_importances_)"
   ]
  },
  {
   "cell_type": "code",
   "execution_count": 163,
   "metadata": {},
   "outputs": [
    {
     "data": {
      "image/png": "[encoded data removed]",
      "text/plain": [
       "<Figure size 1440x1440 with 1 Axes>"
      ]
     },
     "metadata": {},
     "output_type": "display_data"
    }
   ],
   "source": [
    "fig,ax = plt.subplots(figsize=(20,20))\n",
    "ax = xgb.plot_importance(regression, ax=ax)"
   ]
  },
  {
   "cell_type": "code",
   "execution_count": 1,
   "metadata": {},
   "outputs": [
    {
     "ename": "NameError",
     "evalue": "name 'plt' is not defined",
     "output_type": "error",
     "traceback": [
      "\u001b[0;31m---------------------------------------------------------------------------\u001b[0m",
      "\u001b[0;31mNameError\u001b[0m                                 Traceback (most recent call last)",
      "\u001b[0;32m<ipython-input-1-cb9cd0f1fe12>\u001b[0m in \u001b[0;36m<module>\u001b[0;34m()\u001b[0m\n\u001b[1;32m      1\u001b[0m \u001b[0;31m#Plot\u001b[0m\u001b[0;34m\u001b[0m\u001b[0;34m\u001b[0m\u001b[0m\n\u001b[0;32m----> 2\u001b[0;31m \u001b[0mfig\u001b[0m\u001b[0;34m,\u001b[0m\u001b[0max\u001b[0m \u001b[0;34m=\u001b[0m \u001b[0mplt\u001b[0m\u001b[0;34m.\u001b[0m\u001b[0msubplots\u001b[0m\u001b[0;34m(\u001b[0m\u001b[0mfigsize\u001b[0m\u001b[0;34m=\u001b[0m\u001b[0;34m(\u001b[0m\u001b[0;36m20\u001b[0m\u001b[0;34m,\u001b[0m\u001b[0;36m20\u001b[0m\u001b[0;34m)\u001b[0m\u001b[0;34m)\u001b[0m\u001b[0;34m\u001b[0m\u001b[0m\n\u001b[0m\u001b[1;32m      3\u001b[0m \u001b[0max\u001b[0m \u001b[0;34m=\u001b[0m \u001b[0mxgb\u001b[0m\u001b[0;34m.\u001b[0m\u001b[0mplot_importance\u001b[0m\u001b[0;34m(\u001b[0m\u001b[0mregression\u001b[0m\u001b[0;34m,\u001b[0m \u001b[0max\u001b[0m\u001b[0;34m=\u001b[0m\u001b[0max\u001b[0m\u001b[0;34m)\u001b[0m\u001b[0;34m\u001b[0m\u001b[0m\n",
      "\u001b[0;31mNameError\u001b[0m: name 'plt' is not defined"
     ]
    }
   ],
   "source": [
    "#Plot\n",
    "fig,ax = plt.subplots(figsize=(20,20))\n",
    "ax = xgb.plot_importance(regression, ax=ax)\n"
   ]
  },
  {
   "cell_type": "code",
   "execution_count": 136,
   "metadata": {},
   "outputs": [
    {
     "data": {
      "text/html": [
       "<div>\n",
       "<style scoped>\n",
       "    .dataframe tbody tr th:only-of-type {\n",
       "        vertical-align: middle;\n",
       "    }\n",
       "\n",
       "    .dataframe tbody tr th {\n",
       "        vertical-align: top;\n",
       "    }\n",
       "\n",
       "    .dataframe thead th {\n",
       "        text-align: right;\n",
       "    }\n",
       "</style>\n",
       "<table border=\"1\" class=\"dataframe\">\n",
       "  <thead>\n",
       "    <tr style=\"text-align: right;\">\n",
       "      <th></th>\n",
       "      <th>Features</th>\n",
       "      <th>MSE</th>\n",
       "      <th>Model</th>\n",
       "      <th>R2</th>\n",
       "      <th>colsample_bytree</th>\n",
       "      <th>learning_rate</th>\n",
       "      <th>max_depth</th>\n",
       "      <th>min_child_weight</th>\n",
       "      <th>n_estimators</th>\n",
       "      <th>nthread</th>\n",
       "      <th>num_features</th>\n",
       "      <th>objective</th>\n",
       "      <th>silent</th>\n",
       "      <th>subsample</th>\n",
       "    </tr>\n",
       "  </thead>\n",
       "  <tbody>\n",
       "    <tr>\n",
       "      <th>2</th>\n",
       "      <td>[gdp_per_capita, temp_avg, temp_isothermality,...</td>\n",
       "      <td>-0.912592</td>\n",
       "      <td>XGB</td>\n",
       "      <td>0.491995</td>\n",
       "      <td>0.75</td>\n",
       "      <td>0.03</td>\n",
       "      <td>7.0</td>\n",
       "      <td>4.0</td>\n",
       "      <td>600</td>\n",
       "      <td>4.0</td>\n",
       "      <td>5</td>\n",
       "      <td>reg:linear</td>\n",
       "      <td>1.0</td>\n",
       "      <td>0.75</td>\n",
       "    </tr>\n",
       "    <tr>\n",
       "      <th>17</th>\n",
       "      <td>[gdp_per_capita, temp_avg, precip, pixel_id_fl...</td>\n",
       "      <td>-0.893675</td>\n",
       "      <td>XGB</td>\n",
       "      <td>0.502730</td>\n",
       "      <td>0.75</td>\n",
       "      <td>0.03</td>\n",
       "      <td>7.0</td>\n",
       "      <td>4.0</td>\n",
       "      <td>600</td>\n",
       "      <td>4.0</td>\n",
       "      <td>5</td>\n",
       "      <td>reg:linear</td>\n",
       "      <td>1.0</td>\n",
       "      <td>0.75</td>\n",
       "    </tr>\n",
       "    <tr>\n",
       "      <th>25</th>\n",
       "      <td>None</td>\n",
       "      <td>-0.886610</td>\n",
       "      <td>XGB</td>\n",
       "      <td>0.505938</td>\n",
       "      <td>0.75</td>\n",
       "      <td>0.03</td>\n",
       "      <td>7.0</td>\n",
       "      <td>4.0</td>\n",
       "      <td>600</td>\n",
       "      <td>4.0</td>\n",
       "      <td>5</td>\n",
       "      <td>reg:linear</td>\n",
       "      <td>1.0</td>\n",
       "      <td>0.75</td>\n",
       "    </tr>\n",
       "    <tr>\n",
       "      <th>26</th>\n",
       "      <td>[gdp_per_capita, temp_avg, temp_seasonality, p...</td>\n",
       "      <td>-0.897228</td>\n",
       "      <td>XGB</td>\n",
       "      <td>0.500268</td>\n",
       "      <td>0.75</td>\n",
       "      <td>0.03</td>\n",
       "      <td>7.0</td>\n",
       "      <td>4.0</td>\n",
       "      <td>600</td>\n",
       "      <td>4.0</td>\n",
       "      <td>5</td>\n",
       "      <td>reg:linear</td>\n",
       "      <td>1.0</td>\n",
       "      <td>0.75</td>\n",
       "    </tr>\n",
       "  </tbody>\n",
       "</table>\n",
       "</div>"
      ],
      "text/plain": [
       "                                             Features       MSE Model  \\\n",
       "2   [gdp_per_capita, temp_avg, temp_isothermality,... -0.912592   XGB   \n",
       "17  [gdp_per_capita, temp_avg, precip, pixel_id_fl... -0.893675   XGB   \n",
       "25                                               None -0.886610   XGB   \n",
       "26  [gdp_per_capita, temp_avg, temp_seasonality, p... -0.897228   XGB   \n",
       "\n",
       "          R2  colsample_bytree  learning_rate  max_depth  min_child_weight  \\\n",
       "2   0.491995              0.75           0.03        7.0               4.0   \n",
       "17  0.502730              0.75           0.03        7.0               4.0   \n",
       "25  0.505938              0.75           0.03        7.0               4.0   \n",
       "26  0.500268              0.75           0.03        7.0               4.0   \n",
       "\n",
       "   n_estimators  nthread num_features   objective  silent  subsample  \n",
       "2           600      4.0            5  reg:linear     1.0       0.75  \n",
       "17          600      4.0            5  reg:linear     1.0       0.75  \n",
       "25          600      4.0            5  reg:linear     1.0       0.75  \n",
       "26          600      4.0            5  reg:linear     1.0       0.75  "
      ]
     },
     "execution_count": 136,
     "metadata": {},
     "output_type": "execute_result"
    }
   ],
   "source": [
    "Results_new[Results_new['num_features']==5]\n"
   ]
  },
  {
   "cell_type": "code",
   "execution_count": 160,
   "metadata": {},
   "outputs": [
    {
     "data": {
      "image/png": "[encoded data removed]",
      "text/plain": [
       "<Figure size 1440x360 with 1 Axes>"
      ]
     },
     "metadata": {},
     "output_type": "display_data"
    }
   ],
   "source": [
    "results_linear_1 =  pd.read_csv('../ipbes_invest_crop_yield_project/intermediate/create_results_table/results_linear_1.csv')\n",
    "results_xgb_0    =  pd.read_csv('../ipbes_invest_crop_yield_project/intermediate/create_results_table/Results_xgbAug8.csv')\n",
    "results_xgb_1    =  pd.read_csv('../ipbes_invest_crop_yield_project/intermediate/create_results_table/Results_xgbAug9.csv')\n",
    "                 \n",
    "results_all = pd.concat([results_linear_1,results_xgb_1])                 \n",
    "                 \n",
    "plot_R2_2params('num_features','Model',results_all, scatter=True,ylim=(0,1))"
   ]
  },
  {
   "cell_type": "code",
   "execution_count": 159,
   "metadata": {},
   "outputs": [],
   "source": [
    "Results_new.to_csv('../ipbes_invest_crop_yield_project/intermediate/create_results_table/Results_xgbAug9.csv')"
   ]
  },
  {
   "cell_type": "code",
   "execution_count": 151,
   "metadata": {},
   "outputs": [
    {
     "data": {
      "image/png": "[encoded data removed]",
      "text/plain": [
       "<Figure size 1440x360 with 1 Axes>"
      ]
     },
     "metadata": {},
     "output_type": "display_data"
    }
   ],
   "source": [
    "results_linear_1 = pd.read_csv('../ipbes_invest_crop_yield_project/intermediate/create_results_table/results_linear_1.csv')\n",
    "results_xgb_0 = ('../ipbes_invest_crop_yield_project/intermediate/create_results_table/Results_xgbAug8.csv)\n",
    "results_xgb_1 = ('../ipbes_invest_crop_yield_project/intermediate/create_results_table/Results_xgbAug9.csv)\n",
    "                 \n",
    "results_all = pd.concat([results_linear_1,results_xgb_1])                 \n",
    "                 \n",
    "plot_R2_2params('num_features','Model',results_all, scatter=True)\n"
   ]
  },
  {
   "cell_type": "code",
   "execution_count": 149,
   "metadata": {},
   "outputs": [],
   "source": [
    "merged_all = pd.concat([results,Results_new])\n",
    "\n"
   ]
  },
  {
   "cell_type": "code",
   "execution_count": 111,
   "metadata": {},
   "outputs": [],
   "source": [
    "def plot_R2_2params(param_x, param_color, xgb_tuning,scatter=False,ylim=None):\n",
    "\n",
    "    fig, ax = plt.subplots(figsize=(20,5))\n",
    "\n",
    "\n",
    "    palette = plt.get_cmap('Set2')\n",
    "    num=0\n",
    "    for param_color_value in xgb_tuning[param_color].unique():\n",
    "        num+=1\n",
    "        x = (xgb_tuning[xgb_tuning[param_color]==param_color_value][param_x])\n",
    "        y = (xgb_tuning[xgb_tuning[param_color]==param_color_value]['R2'])\n",
    "        #labels= (xgb_tuning[xgb_tuning[param_color]==learning_rate][param_color])\n",
    "        if scatter == False:\n",
    "            P = plt.plot(x,y, marker='.',color=palette(num), linewidth=2, alpha=0.9,\n",
    "                 label=(str(param_color)+' : ' +str(param_color_value)))\n",
    "        if scatter == True:\n",
    "            P = plt.scatter(x,y, marker='o',color=palette(num),\n",
    "                 label=(str(param_color)+' : ' +str(param_color_value)))\n",
    "        \n",
    "    plt.legend(loc=2, ncol=1)\n",
    "    plt.title((\"Comparing models by \"+ param_x +\" and \"+param_color), loc='left', fontsize=18, fontweight=0, color='black')\n",
    "\n",
    "    plt.xlabel(param_x)\n",
    "    plt.ylabel(\"R2\")\n",
    "    \n",
    "    # Y lim\n",
    "    if ylim != None:\n",
    "        if scatter == False:\n",
    "            P[0].axes.set_ylim(ylim)\n",
    "        if scatter == True:\n",
    "            P.axes.set_ylim(ylim)"
   ]
  },
  {
   "cell_type": "markdown",
   "metadata": {},
   "source": [
    "### Save intermediary results"
   ]
  },
  {
   "cell_type": "code",
   "execution_count": 61,
   "metadata": {},
   "outputs": [
    {
     "data": {
      "text/plain": [
       "(118, 14)"
      ]
     },
     "execution_count": 61,
     "metadata": {},
     "output_type": "execute_result"
    }
   ],
   "source": [
    "results_aug8 = pd.concat([results_aug8, xgb_tuning3])\n",
    "results_aug8 = results_aug8.drop_duplicates(subset=['R2','model','num_features'])\n",
    "\n",
    "results_aug8.to_csv('../ipbes_invest_crop_yield_project/intermediate/create_results_table/results_aug8.csv')\n",
    "\n",
    "results_aug8.shape\n",
    "\n",
    "results_aug8.sort_values('R2',ascending=False) ## Faux: line 98 =5 features from RFE, line 97 = 6\n"
   ]
  },
  {
   "cell_type": "code",
   "execution_count": 152,
   "metadata": {},
   "outputs": [],
   "source": [
    "results.to_csv('../ipbes_invest_crop_yield_project/intermediate/create_results_table/results_linear_1.csv')\n"
   ]
  },
  {
   "cell_type": "code",
   "execution_count": null,
   "metadata": {},
   "outputs": [],
   "source": [
    "Results_new = pd.concat([Results_new, xgb_tuning3])\n",
    "Results_new = Results_new.drop_duplicates(subset=['R2','model','num_features'])\n",
    "\n",
    "Results_new.to_csv('../ipbes_invest_crop_yield_project/intermediate/create_results_table/Results_xgbAug9.csv')\n",
    "\n",
    "Results_new.shape\n",
    "\n",
    "Results_new.sort_values('R2',ascending=False).head(15) ## Faux: line 98 =5 features from RFE, line 97 = 6\n"
   ]
  },
  {
   "cell_type": "code",
   "execution_count": 89,
   "metadata": {},
   "outputs": [
    {
     "data": {
      "text/plain": [
       "['slope',\n",
       " 'altitude',\n",
       " 'gdp',\n",
       " 'gdp_per_capita',\n",
       " 'min_to_market',\n",
       " 'gpw_population',\n",
       " 'temp_avg',\n",
       " 'temp_diurnalrange',\n",
       " 'temp_isothermality',\n",
       " 'temp_seasonality',\n",
       " 'temp_annualmax',\n",
       " 'temp_annualmin',\n",
       " 'temp_annualrange',\n",
       " 'precip',\n",
       " 'precip_wet_mth',\n",
       " 'precip_dry_mth',\n",
       " 'precip_seasonality',\n",
       " 'pixel_id_float',\n",
       " 'lat']"
      ]
     },
     "execution_count": 89,
     "metadata": {},
     "output_type": "execute_result"
    }
   ],
   "source": [
    "e = Results_new['Features'][16]\n",
    "e"
   ]
  },
  {
   "cell_type": "code",
   "execution_count": 15,
   "metadata": {},
   "outputs": [
    {
     "name": "stdout",
     "output_type": "stream",
     "text": [
      "Running XGBoost with params:\n",
      " -- Learning Rate = 0.05 -- n_estimators = 40  -- \n",
      "    with all features...\n",
      "    R2_score : -2.089662843804917\n",
      "    MSE_score : -5.497891785362941\n",
      "    ... done\n",
      "    with 5 features ...\n"
     ]
    },
    {
     "name": "stderr",
     "output_type": "stream",
     "text": [
      "/Users/charlotteweil1/anaconda/envs/spatialenv/lib/python3.6/site-packages/sklearn/utils/__init__.py:93: FutureWarning: Conversion of the second argument of issubdtype from `int` to `np.signedinteger` is deprecated. In future, it will be treated as `np.int64 == np.dtype(int).type`.\n",
      "  if np.issubdtype(mask.dtype, np.int):\n"
     ]
    },
    {
     "name": "stdout",
     "output_type": "stream",
     "text": [
      "    R2_score : -2.1137687302130006\n",
      "    MSE_score : -5.540515274035159\n",
      "    ... done \n",
      "\n",
      "Running XGBoost with params:\n",
      " -- Learning Rate = 0.05 -- n_estimators = 55  -- \n",
      "    with all features...\n",
      "    R2_score : -0.15765197131771708\n",
      "    MSE_score : -2.066127521164086\n",
      "    ... done\n",
      "    with 5 features ...\n"
     ]
    },
    {
     "name": "stderr",
     "output_type": "stream",
     "text": [
      "/Users/charlotteweil1/anaconda/envs/spatialenv/lib/python3.6/site-packages/sklearn/utils/__init__.py:93: FutureWarning: Conversion of the second argument of issubdtype from `int` to `np.signedinteger` is deprecated. In future, it will be treated as `np.int64 == np.dtype(int).type`.\n",
      "  if np.issubdtype(mask.dtype, np.int):\n"
     ]
    },
    {
     "name": "stdout",
     "output_type": "stream",
     "text": [
      "    R2_score : -0.17693431412043975\n",
      "    MSE_score : -2.0999350521574263\n",
      "    ... done \n",
      "\n",
      "Running XGBoost with params:\n",
      " -- Learning Rate = 0.05 -- n_estimators = 70  -- \n",
      "    with all features...\n",
      "    R2_score : 0.2695568240841067\n",
      "    MSE_score : -1.3084654633817094\n",
      "    ... done\n",
      "    with 5 features ...\n"
     ]
    },
    {
     "name": "stderr",
     "output_type": "stream",
     "text": [
      "/Users/charlotteweil1/anaconda/envs/spatialenv/lib/python3.6/site-packages/sklearn/utils/__init__.py:93: FutureWarning: Conversion of the second argument of issubdtype from `int` to `np.signedinteger` is deprecated. In future, it will be treated as `np.int64 == np.dtype(int).type`.\n",
      "  if np.issubdtype(mask.dtype, np.int):\n"
     ]
    },
    {
     "name": "stdout",
     "output_type": "stream",
     "text": [
      "    R2_score : 0.24682794796441362\n",
      "    MSE_score : -1.3480304976032282\n",
      "    ... done \n",
      "\n",
      "Running XGBoost with params:\n",
      " -- Learning Rate = 0.05 -- n_estimators = 85  -- \n",
      "    with all features...\n",
      "    R2_score : 0.3692546887871212\n",
      "    MSE_score : -1.1321555945526434\n",
      "    ... done\n",
      "    with 5 features ...\n"
     ]
    },
    {
     "name": "stderr",
     "output_type": "stream",
     "text": [
      "/Users/charlotteweil1/anaconda/envs/spatialenv/lib/python3.6/site-packages/sklearn/utils/__init__.py:93: FutureWarning: Conversion of the second argument of issubdtype from `int` to `np.signedinteger` is deprecated. In future, it will be treated as `np.int64 == np.dtype(int).type`.\n",
      "  if np.issubdtype(mask.dtype, np.int):\n"
     ]
    },
    {
     "name": "stdout",
     "output_type": "stream",
     "text": [
      "    R2_score : 0.32959599838890946\n",
      "    MSE_score : -1.2019140554971757\n",
      "    ... done \n",
      "\n",
      "Running XGBoost with params:\n",
      " -- Learning Rate = 0.05 -- n_estimators = 100  -- \n",
      "    with all features...\n",
      "    R2_score : 0.39543406979017115\n",
      "    MSE_score : -1.0860957148106405\n",
      "    ... done\n",
      "    with 5 features ...\n"
     ]
    },
    {
     "name": "stderr",
     "output_type": "stream",
     "text": [
      "/Users/charlotteweil1/anaconda/envs/spatialenv/lib/python3.6/site-packages/sklearn/utils/__init__.py:93: FutureWarning: Conversion of the second argument of issubdtype from `int` to `np.signedinteger` is deprecated. In future, it will be treated as `np.int64 == np.dtype(int).type`.\n",
      "  if np.issubdtype(mask.dtype, np.int):\n"
     ]
    },
    {
     "name": "stdout",
     "output_type": "stream",
     "text": [
      "    R2_score : 0.37487769971103746\n",
      "    MSE_score : -1.1220867679144997\n",
      "    ... done \n",
      "\n",
      "Running XGBoost with params:\n",
      " -- Learning Rate = 0.1 -- n_estimators = 40  -- \n",
      "    with all features...\n",
      "    R2_score : 0.3568755734299513\n",
      "    MSE_score : -1.1540865016318491\n",
      "    ... done\n",
      "    with 5 features ...\n"
     ]
    },
    {
     "name": "stderr",
     "output_type": "stream",
     "text": [
      "/Users/charlotteweil1/anaconda/envs/spatialenv/lib/python3.6/site-packages/sklearn/utils/__init__.py:93: FutureWarning: Conversion of the second argument of issubdtype from `int` to `np.signedinteger` is deprecated. In future, it will be treated as `np.int64 == np.dtype(int).type`.\n",
      "  if np.issubdtype(mask.dtype, np.int):\n"
     ]
    },
    {
     "name": "stdout",
     "output_type": "stream",
     "text": [
      "    R2_score : 0.33138836313537007\n",
      "    MSE_score : -1.1987909292009942\n",
      "    ... done \n",
      "\n",
      "Running XGBoost with params:\n",
      " -- Learning Rate = 0.1 -- n_estimators = 55  -- \n",
      "    with all features...\n",
      "    R2_score : 0.4024393077849405\n",
      "    MSE_score : -1.0736631189783818\n",
      "    ... done\n",
      "    with 5 features ...\n"
     ]
    },
    {
     "name": "stderr",
     "output_type": "stream",
     "text": [
      "/Users/charlotteweil1/anaconda/envs/spatialenv/lib/python3.6/site-packages/sklearn/utils/__init__.py:93: FutureWarning: Conversion of the second argument of issubdtype from `int` to `np.signedinteger` is deprecated. In future, it will be treated as `np.int64 == np.dtype(int).type`.\n",
      "  if np.issubdtype(mask.dtype, np.int):\n"
     ]
    },
    {
     "name": "stdout",
     "output_type": "stream",
     "text": [
      "    R2_score : 0.3684020838923766\n",
      "    MSE_score : -1.1334497808516975\n",
      "    ... done \n",
      "\n",
      "Running XGBoost with params:\n",
      " -- Learning Rate = 0.1 -- n_estimators = 70  -- \n",
      "    with all features...\n",
      "    R2_score : 0.4152563784378427\n",
      "    MSE_score : -1.0510276712586915\n",
      "    ... done\n",
      "    with 5 features ...\n"
     ]
    },
    {
     "name": "stderr",
     "output_type": "stream",
     "text": [
      "/Users/charlotteweil1/anaconda/envs/spatialenv/lib/python3.6/site-packages/sklearn/utils/__init__.py:93: FutureWarning: Conversion of the second argument of issubdtype from `int` to `np.signedinteger` is deprecated. In future, it will be treated as `np.int64 == np.dtype(int).type`.\n",
      "  if np.issubdtype(mask.dtype, np.int):\n"
     ]
    },
    {
     "name": "stdout",
     "output_type": "stream",
     "text": [
      "    R2_score : 0.3809575192703091\n",
      "    MSE_score : -1.1116828912475083\n",
      "    ... done \n",
      "\n",
      "Running XGBoost with params:\n",
      " -- Learning Rate = 0.1 -- n_estimators = 85  -- \n",
      "    with all features...\n",
      "    R2_score : 0.42385247395888526\n",
      "    MSE_score : -1.0355248404675959\n",
      "    ... done\n",
      "    with 5 features ...\n"
     ]
    },
    {
     "name": "stderr",
     "output_type": "stream",
     "text": [
      "/Users/charlotteweil1/anaconda/envs/spatialenv/lib/python3.6/site-packages/sklearn/utils/__init__.py:93: FutureWarning: Conversion of the second argument of issubdtype from `int` to `np.signedinteger` is deprecated. In future, it will be treated as `np.int64 == np.dtype(int).type`.\n",
      "  if np.issubdtype(mask.dtype, np.int):\n"
     ]
    },
    {
     "name": "stdout",
     "output_type": "stream",
     "text": [
      "    R2_score : 0.39118833435287004\n",
      "    MSE_score : -1.0934908153792842\n",
      "    ... done \n",
      "\n",
      "Running XGBoost with params:\n",
      " -- Learning Rate = 0.1 -- n_estimators = 100  -- \n",
      "    with all features...\n",
      "    R2_score : 0.42963066019295554\n",
      "    MSE_score : -1.025111013372745\n",
      "    ... done\n",
      "    with 5 features ...\n"
     ]
    },
    {
     "name": "stderr",
     "output_type": "stream",
     "text": [
      "/Users/charlotteweil1/anaconda/envs/spatialenv/lib/python3.6/site-packages/sklearn/utils/__init__.py:93: FutureWarning: Conversion of the second argument of issubdtype from `int` to `np.signedinteger` is deprecated. In future, it will be treated as `np.int64 == np.dtype(int).type`.\n",
      "  if np.issubdtype(mask.dtype, np.int):\n"
     ]
    },
    {
     "name": "stdout",
     "output_type": "stream",
     "text": [
      "    R2_score : 0.38952293352533374\n",
      "    MSE_score : -1.0963676539068627\n",
      "    ... done \n",
      "\n",
      "Running XGBoost with params:\n",
      " -- Learning Rate = 0.15 -- n_estimators = 40  -- \n",
      "    with all features...\n",
      "    R2_score : 0.40751395216220654\n",
      "    MSE_score : -1.0647974257943162\n",
      "    ... done\n",
      "    with 5 features ...\n"
     ]
    },
    {
     "name": "stderr",
     "output_type": "stream",
     "text": [
      "/Users/charlotteweil1/anaconda/envs/spatialenv/lib/python3.6/site-packages/sklearn/utils/__init__.py:93: FutureWarning: Conversion of the second argument of issubdtype from `int` to `np.signedinteger` is deprecated. In future, it will be treated as `np.int64 == np.dtype(int).type`.\n",
      "  if np.issubdtype(mask.dtype, np.int):\n"
     ]
    },
    {
     "name": "stdout",
     "output_type": "stream",
     "text": [
      "    R2_score : 0.37768991407704416\n",
      "    MSE_score : -1.1169088395379188\n",
      "    ... done \n",
      "\n",
      "Running XGBoost with params:\n",
      " -- Learning Rate = 0.15 -- n_estimators = 55  -- \n",
      "    with all features...\n",
      "    R2_score : 0.42339808903564274\n",
      "    MSE_score : -1.03660639731994\n",
      "    ... done\n",
      "    with 5 features ...\n"
     ]
    },
    {
     "name": "stderr",
     "output_type": "stream",
     "text": [
      "/Users/charlotteweil1/anaconda/envs/spatialenv/lib/python3.6/site-packages/sklearn/utils/__init__.py:93: FutureWarning: Conversion of the second argument of issubdtype from `int` to `np.signedinteger` is deprecated. In future, it will be treated as `np.int64 == np.dtype(int).type`.\n",
      "  if np.issubdtype(mask.dtype, np.int):\n"
     ]
    },
    {
     "name": "stdout",
     "output_type": "stream",
     "text": [
      "    R2_score : 0.37872615797946263\n",
      "    MSE_score : -1.115428914797226\n",
      "    ... done \n",
      "\n",
      "Running XGBoost with params:\n",
      " -- Learning Rate = 0.15 -- n_estimators = 70  -- \n",
      "    with all features...\n",
      "    R2_score : 0.4334264115038796\n",
      "    MSE_score : -1.018474930134619\n",
      "    ... done\n",
      "    with 5 features ...\n"
     ]
    },
    {
     "name": "stderr",
     "output_type": "stream",
     "text": [
      "/Users/charlotteweil1/anaconda/envs/spatialenv/lib/python3.6/site-packages/sklearn/utils/__init__.py:93: FutureWarning: Conversion of the second argument of issubdtype from `int` to `np.signedinteger` is deprecated. In future, it will be treated as `np.int64 == np.dtype(int).type`.\n",
      "  if np.issubdtype(mask.dtype, np.int):\n"
     ]
    },
    {
     "name": "stdout",
     "output_type": "stream",
     "text": [
      "    R2_score : 0.4245190117952139\n",
      "    MSE_score : -1.0323065439422854\n",
      "    ... done \n",
      "\n",
      "Running XGBoost with params:\n",
      " -- Learning Rate = 0.15 -- n_estimators = 85  -- \n",
      "    with all features...\n",
      "    R2_score : 0.4408841688778784\n",
      "    MSE_score : -1.0049009332531038\n",
      "    ... done\n",
      "    with 5 features ...\n"
     ]
    },
    {
     "name": "stderr",
     "output_type": "stream",
     "text": [
      "/Users/charlotteweil1/anaconda/envs/spatialenv/lib/python3.6/site-packages/sklearn/utils/__init__.py:93: FutureWarning: Conversion of the second argument of issubdtype from `int` to `np.signedinteger` is deprecated. In future, it will be treated as `np.int64 == np.dtype(int).type`.\n",
      "  if np.issubdtype(mask.dtype, np.int):\n"
     ]
    },
    {
     "name": "stdout",
     "output_type": "stream",
     "text": [
      "    R2_score : 0.40569810371729104\n",
      "    MSE_score : -1.0679044582509585\n",
      "    ... done \n",
      "\n",
      "Running XGBoost with params:\n",
      " -- Learning Rate = 0.15 -- n_estimators = 100  -- \n",
      "    with all features...\n",
      "    R2_score : 0.4478456729018415\n",
      "    MSE_score : -0.992542895942463\n",
      "    ... done\n",
      "    with 5 features ...\n"
     ]
    },
    {
     "name": "stderr",
     "output_type": "stream",
     "text": [
      "/Users/charlotteweil1/anaconda/envs/spatialenv/lib/python3.6/site-packages/sklearn/utils/__init__.py:93: FutureWarning: Conversion of the second argument of issubdtype from `int` to `np.signedinteger` is deprecated. In future, it will be treated as `np.int64 == np.dtype(int).type`.\n",
      "  if np.issubdtype(mask.dtype, np.int):\n"
     ]
    },
    {
     "name": "stdout",
     "output_type": "stream",
     "text": [
      "    R2_score : 0.41457665127855803\n",
      "    MSE_score : -1.0492828135790908\n",
      "    ... done \n",
      "\n",
      "Running XGBoost with params:\n",
      " -- Learning Rate = 0.2 -- n_estimators = 40  -- \n",
      "    with all features...\n",
      "    R2_score : 0.41925708016665186\n",
      "    MSE_score : -1.0433175953261913\n",
      "    ... done\n",
      "    with 5 features ...\n"
     ]
    },
    {
     "name": "stderr",
     "output_type": "stream",
     "text": [
      "/Users/charlotteweil1/anaconda/envs/spatialenv/lib/python3.6/site-packages/sklearn/utils/__init__.py:93: FutureWarning: Conversion of the second argument of issubdtype from `int` to `np.signedinteger` is deprecated. In future, it will be treated as `np.int64 == np.dtype(int).type`.\n",
      "  if np.issubdtype(mask.dtype, np.int):\n"
     ]
    },
    {
     "name": "stdout",
     "output_type": "stream",
     "text": [
      "    R2_score : 0.38768868857084987\n",
      "    MSE_score : -1.0997533705864166\n",
      "    ... done \n",
      "\n",
      "Running XGBoost with params:\n",
      " -- Learning Rate = 0.2 -- n_estimators = 55  -- \n",
      "    with all features...\n",
      "    R2_score : 0.43077126464876503\n",
      "    MSE_score : -1.0227604605363927\n",
      "    ... done\n",
      "    with 5 features ...\n"
     ]
    },
    {
     "name": "stderr",
     "output_type": "stream",
     "text": [
      "/Users/charlotteweil1/anaconda/envs/spatialenv/lib/python3.6/site-packages/sklearn/utils/__init__.py:93: FutureWarning: Conversion of the second argument of issubdtype from `int` to `np.signedinteger` is deprecated. In future, it will be treated as `np.int64 == np.dtype(int).type`.\n",
      "  if np.issubdtype(mask.dtype, np.int):\n"
     ]
    },
    {
     "name": "stdout",
     "output_type": "stream",
     "text": [
      "    R2_score : 0.3969462517476524\n",
      "    MSE_score : -1.0830791634372126\n",
      "    ... done \n",
      "\n",
      "Running XGBoost with params:\n",
      " -- Learning Rate = 0.2 -- n_estimators = 70  -- \n",
      "    with all features...\n",
      "    R2_score : 0.4416081987218883\n",
      "    MSE_score : -1.003162141125355\n",
      "    ... done\n",
      "    with 5 features ...\n"
     ]
    },
    {
     "name": "stderr",
     "output_type": "stream",
     "text": [
      "/Users/charlotteweil1/anaconda/envs/spatialenv/lib/python3.6/site-packages/sklearn/utils/__init__.py:93: FutureWarning: Conversion of the second argument of issubdtype from `int` to `np.signedinteger` is deprecated. In future, it will be treated as `np.int64 == np.dtype(int).type`.\n",
      "  if np.issubdtype(mask.dtype, np.int):\n"
     ]
    },
    {
     "name": "stdout",
     "output_type": "stream",
     "text": [
      "    R2_score : 0.3956064139018287\n",
      "    MSE_score : -1.0851938247561208\n",
      "    ... done \n",
      "\n",
      "Running XGBoost with params:\n",
      " -- Learning Rate = 0.2 -- n_estimators = 85  -- \n",
      "    with all features...\n",
      "    R2_score : 0.4493115637278061\n",
      "    MSE_score : -0.9893101680908662\n",
      "    ... done\n",
      "    with 5 features ...\n"
     ]
    },
    {
     "name": "stderr",
     "output_type": "stream",
     "text": [
      "/Users/charlotteweil1/anaconda/envs/spatialenv/lib/python3.6/site-packages/sklearn/utils/__init__.py:93: FutureWarning: Conversion of the second argument of issubdtype from `int` to `np.signedinteger` is deprecated. In future, it will be treated as `np.int64 == np.dtype(int).type`.\n",
      "  if np.issubdtype(mask.dtype, np.int):\n"
     ]
    },
    {
     "name": "stdout",
     "output_type": "stream",
     "text": [
      "    R2_score : 0.4229844017831684\n",
      "    MSE_score : -1.0361121567436804\n",
      "    ... done \n",
      "\n",
      "Running XGBoost with params:\n",
      " -- Learning Rate = 0.2 -- n_estimators = 100  -- \n",
      "    with all features...\n",
      "    R2_score : 0.4548195624605576\n",
      "    MSE_score : -0.9791243117655654\n",
      "    ... done\n",
      "    with 5 features ...\n"
     ]
    },
    {
     "name": "stderr",
     "output_type": "stream",
     "text": [
      "/Users/charlotteweil1/anaconda/envs/spatialenv/lib/python3.6/site-packages/sklearn/utils/__init__.py:93: FutureWarning: Conversion of the second argument of issubdtype from `int` to `np.signedinteger` is deprecated. In future, it will be treated as `np.int64 == np.dtype(int).type`.\n",
      "  if np.issubdtype(mask.dtype, np.int):\n"
     ]
    },
    {
     "name": "stdout",
     "output_type": "stream",
     "text": [
      "    R2_score : 0.4292635093682267\n",
      "    MSE_score : -1.024542445992736\n",
      "    ... done \n",
      "\n"
     ]
    }
   ],
   "source": [
    "## Testing XGBoost with params (RESULTS BELOW WITH CLIMZONES)\n",
    "\n",
    "model = 'XGB'\n",
    "## Step 2: tuning tree-based parameters\n",
    "\n",
    "learning_rate = 0.2:\n",
    "n_estimators = 100:\n",
    "    \n",
    "    for min_samples_split in [500 ... ### ~0.5-1% of total values\n",
    "           for max_depth in range (5,9):                   \n",
    "                              \n",
    "                              \n",
    "        print('Running XGBoost with params:')\n",
    "        print(' -- Learning Rate = ' + str(learning_rate) +' -- n_estimators = ' + str(n_estimators) + '  -- ')\n",
    "        \n",
    "        regression = xgb.XGBRegressor(learning_rate = learning_rate,n_estimators = n_estimators)\n",
    "\n",
    "\n",
    "\n",
    "        # Doing it will all features\n",
    "        print('    with all features...')\n",
    "        num_features = len(df.columns)-2\n",
    "        Features = 'All w/ climzones'\n",
    "        \n",
    "        scores = do_regression(regression,df)\n",
    "\n",
    "        print('    R2_score : '+str(scores[0]))\n",
    "        print('    MSE_score : '+str(scores[1]))\n",
    "        \n",
    "        R2_score = scores[0]\n",
    "        MSE_score = scores[1]\n",
    "        \n",
    "        xgb_tuning = xgb_tuning.append({'Model': model,\n",
    "                                        'num_features':len(df.columns)-1,'Features':'All w/ climzones',\n",
    "                                        'learning_rate':learning_rate,'n_estimators':n_estimators,\n",
    "                                        'R2':R2_score,'MSE':MSE_score},ignore_index=True)\n",
    "\n",
    "        print('    ... done')\n",
    "\n",
    "        # Iterate over ≠ numbers of features\n",
    "        for num_features in range (5,6):\n",
    "\n",
    "            print('    with '+str(num_features)+ ' features ...')\n",
    "\n",
    "            ## RFE - Features selection\n",
    "            selector = RFE(regression, num_features, step=1)\n",
    "\n",
    "            x = df.drop(['calories_per_ha'], axis=1) ## TODO climate_zones encode One Hot Encoder\n",
    "            y = df['calories_per_ha']\n",
    "            X, X_test, Y, Y_test = train_test_split(x, y)\n",
    "\n",
    "            X_RFE = selector.fit_transform(X,Y)\n",
    "\n",
    "            features_selected = [X.columns[feature_pos] for feature_pos in selector.get_support(indices=True)]\n",
    "            features_selected.append('calories_per_ha')\n",
    "            scores = do_regression(regression,df[features_selected])\n",
    "            print('    R2_score : '+str(scores[0]))\n",
    "            print('    MSE_score : '+str(scores[1]))\n",
    "            \n",
    "            R2_score = scores[0]\n",
    "            MSE_score = scores[1]\n",
    "            xgb_tuning = xgb_tuning.append({'Model': model,\n",
    "                                        'num_features':num_features,'Features':features_selected,\n",
    "                                        'learning_rate':learning_rate,'n_estimators':n_estimators,\n",
    "                                        'R2':R2_score,'MSE':MSE_score},ignore_index=True)\n",
    "    \n",
    "    \n",
    "            print('    ... done \\n')"
   ]
  },
  {
   "cell_type": "code",
   "execution_count": 205,
   "metadata": {},
   "outputs": [
    {
     "name": "stdout",
     "output_type": "stream",
     "text": [
      "Running XGBoost with params:\n",
      " -- Learning Rate = 0.05      -- n_estimators = 40  -- \n",
      "    with all features...\n",
      "R2_score : -2.0532010678759955\n",
      "MSE_score : -5.538779158384349\n",
      "    ... done\n",
      "    with 5 features ...\n"
     ]
    },
    {
     "name": "stderr",
     "output_type": "stream",
     "text": [
      "/Users/charlotteweil1/anaconda/envs/spatialenv/lib/python3.6/site-packages/sklearn/utils/__init__.py:93: FutureWarning: Conversion of the second argument of issubdtype from `int` to `np.signedinteger` is deprecated. In future, it will be treated as `np.int64 == np.dtype(int).type`.\n",
      "  if np.issubdtype(mask.dtype, np.int):\n"
     ]
    },
    {
     "name": "stdout",
     "output_type": "stream",
     "text": [
      "R2_score : -2.062889586949815\n",
      "MSE_score : -5.557887544404986\n",
      "    ... done \n",
      "\n",
      "Running XGBoost with params:\n",
      " -- Learning Rate = 0.05      -- n_estimators = 55  -- \n",
      "    with all features...\n",
      "R2_score : -0.16055914011633768\n",
      "MSE_score : -2.11514207387677\n",
      "    ... done\n",
      "    with 5 features ...\n"
     ]
    },
    {
     "name": "stderr",
     "output_type": "stream",
     "text": [
      "/Users/charlotteweil1/anaconda/envs/spatialenv/lib/python3.6/site-packages/sklearn/utils/__init__.py:93: FutureWarning: Conversion of the second argument of issubdtype from `int` to `np.signedinteger` is deprecated. In future, it will be treated as `np.int64 == np.dtype(int).type`.\n",
      "  if np.issubdtype(mask.dtype, np.int):\n"
     ]
    },
    {
     "name": "stdout",
     "output_type": "stream",
     "text": [
      "R2_score : -0.17510470189948146\n",
      "MSE_score : -2.142804533705525\n",
      "    ... done \n",
      "\n",
      "Running XGBoost with params:\n",
      " -- Learning Rate = 0.05      -- n_estimators = 70  -- \n",
      "    with all features...\n",
      "R2_score : 0.2568721021318591\n",
      "MSE_score : -1.3613612548597505\n",
      "    ... done\n",
      "    with 5 features ...\n"
     ]
    },
    {
     "name": "stderr",
     "output_type": "stream",
     "text": [
      "/Users/charlotteweil1/anaconda/envs/spatialenv/lib/python3.6/site-packages/sklearn/utils/__init__.py:93: FutureWarning: Conversion of the second argument of issubdtype from `int` to `np.signedinteger` is deprecated. In future, it will be treated as `np.int64 == np.dtype(int).type`.\n",
      "  if np.issubdtype(mask.dtype, np.int):\n"
     ]
    },
    {
     "name": "stdout",
     "output_type": "stream",
     "text": [
      "R2_score : 0.24465703273188613\n",
      "MSE_score : -1.3846076017640911\n",
      "    ... done \n",
      "\n",
      "Running XGBoost with params:\n",
      " -- Learning Rate = 0.05      -- n_estimators = 85  -- \n",
      "    with all features...\n",
      "R2_score : 0.3551451106829767\n",
      "MSE_score : -1.1840800173783423\n",
      "    ... done\n",
      "    with 5 features ...\n"
     ]
    },
    {
     "name": "stderr",
     "output_type": "stream",
     "text": [
      "/Users/charlotteweil1/anaconda/envs/spatialenv/lib/python3.6/site-packages/sklearn/utils/__init__.py:93: FutureWarning: Conversion of the second argument of issubdtype from `int` to `np.signedinteger` is deprecated. In future, it will be treated as `np.int64 == np.dtype(int).type`.\n",
      "  if np.issubdtype(mask.dtype, np.int):\n"
     ]
    },
    {
     "name": "stdout",
     "output_type": "stream",
     "text": [
      "R2_score : 0.340300758444985\n",
      "MSE_score : -1.2126132646480254\n",
      "    ... done \n",
      "\n",
      "Running XGBoost with params:\n",
      " -- Learning Rate = 0.05      -- n_estimators = 100  -- \n",
      "    with all features...\n",
      "R2_score : 0.3828339739518645\n",
      "MSE_score : -1.1344433797026887\n",
      "    ... done\n",
      "    with 5 features ...\n"
     ]
    },
    {
     "name": "stderr",
     "output_type": "stream",
     "text": [
      "/Users/charlotteweil1/anaconda/envs/spatialenv/lib/python3.6/site-packages/sklearn/utils/__init__.py:93: FutureWarning: Conversion of the second argument of issubdtype from `int` to `np.signedinteger` is deprecated. In future, it will be treated as `np.int64 == np.dtype(int).type`.\n",
      "  if np.issubdtype(mask.dtype, np.int):\n"
     ]
    },
    {
     "name": "stdout",
     "output_type": "stream",
     "text": [
      "R2_score : 0.38318223194270556\n",
      "MSE_score : -1.1346428159359627\n",
      "    ... done \n",
      "\n",
      "Running XGBoost with params:\n",
      " -- Learning Rate = 0.1      -- n_estimators = 40  -- \n",
      "    with all features...\n",
      "R2_score : 0.3463516680733554\n",
      "MSE_score : -1.1994597007191075\n",
      "    ... done\n",
      "    with 5 features ...\n"
     ]
    },
    {
     "name": "stderr",
     "output_type": "stream",
     "text": [
      "/Users/charlotteweil1/anaconda/envs/spatialenv/lib/python3.6/site-packages/sklearn/utils/__init__.py:93: FutureWarning: Conversion of the second argument of issubdtype from `int` to `np.signedinteger` is deprecated. In future, it will be treated as `np.int64 == np.dtype(int).type`.\n",
      "  if np.issubdtype(mask.dtype, np.int):\n"
     ]
    },
    {
     "name": "stdout",
     "output_type": "stream",
     "text": [
      "R2_score : 0.3453004373734923\n",
      "MSE_score : -1.202797215153806\n",
      "    ... done \n",
      "\n",
      "Running XGBoost with params:\n",
      " -- Learning Rate = 0.1      -- n_estimators = 55  -- \n",
      "    with all features...\n",
      "R2_score : 0.39532669392455183\n",
      "MSE_score : -1.1114288570205484\n",
      "    ... done\n",
      "    with 5 features ...\n"
     ]
    },
    {
     "name": "stderr",
     "output_type": "stream",
     "text": [
      "/Users/charlotteweil1/anaconda/envs/spatialenv/lib/python3.6/site-packages/sklearn/utils/__init__.py:93: FutureWarning: Conversion of the second argument of issubdtype from `int` to `np.signedinteger` is deprecated. In future, it will be treated as `np.int64 == np.dtype(int).type`.\n",
      "  if np.issubdtype(mask.dtype, np.int):\n"
     ]
    },
    {
     "name": "stdout",
     "output_type": "stream",
     "text": [
      "R2_score : 0.3918343490612521\n",
      "MSE_score : -1.118887024273955\n",
      "    ... done \n",
      "\n",
      "Running XGBoost with params:\n",
      " -- Learning Rate = 0.1      -- n_estimators = 70  -- \n",
      "    with all features...\n",
      "R2_score : 0.41024265446379743\n",
      "MSE_score : -1.0842512002993492\n",
      "    ... done\n",
      "    with 5 features ...\n"
     ]
    },
    {
     "name": "stderr",
     "output_type": "stream",
     "text": [
      "/Users/charlotteweil1/anaconda/envs/spatialenv/lib/python3.6/site-packages/sklearn/utils/__init__.py:93: FutureWarning: Conversion of the second argument of issubdtype from `int` to `np.signedinteger` is deprecated. In future, it will be treated as `np.int64 == np.dtype(int).type`.\n",
      "  if np.issubdtype(mask.dtype, np.int):\n"
     ]
    },
    {
     "name": "stdout",
     "output_type": "stream",
     "text": [
      "R2_score : 0.4057785941786925\n",
      "MSE_score : -1.0932343404332419\n",
      "    ... done \n",
      "\n",
      "Running XGBoost with params:\n",
      " -- Learning Rate = 0.1      -- n_estimators = 85  -- \n",
      "    with all features...\n",
      "R2_score : 0.4204730811674449\n",
      "MSE_score : -1.0654301705780096\n",
      "    ... done\n",
      "    with 5 features ...\n"
     ]
    },
    {
     "name": "stderr",
     "output_type": "stream",
     "text": [
      "/Users/charlotteweil1/anaconda/envs/spatialenv/lib/python3.6/site-packages/sklearn/utils/__init__.py:93: FutureWarning: Conversion of the second argument of issubdtype from `int` to `np.signedinteger` is deprecated. In future, it will be treated as `np.int64 == np.dtype(int).type`.\n",
      "  if np.issubdtype(mask.dtype, np.int):\n"
     ]
    },
    {
     "name": "stdout",
     "output_type": "stream",
     "text": [
      "R2_score : 0.38388666942146155\n",
      "MSE_score : -1.1334035499676571\n",
      "    ... done \n",
      "\n",
      "Running XGBoost with params:\n",
      " -- Learning Rate = 0.1      -- n_estimators = 100  -- \n",
      "    with all features...\n",
      "R2_score : 0.4265861120262967\n",
      "MSE_score : -1.0538964616918975\n",
      "    ... done\n",
      "    with 5 features ...\n"
     ]
    },
    {
     "name": "stderr",
     "output_type": "stream",
     "text": [
      "/Users/charlotteweil1/anaconda/envs/spatialenv/lib/python3.6/site-packages/sklearn/utils/__init__.py:93: FutureWarning: Conversion of the second argument of issubdtype from `int` to `np.signedinteger` is deprecated. In future, it will be treated as `np.int64 == np.dtype(int).type`.\n",
      "  if np.issubdtype(mask.dtype, np.int):\n"
     ]
    },
    {
     "name": "stdout",
     "output_type": "stream",
     "text": [
      "R2_score : 0.38054955269149404\n",
      "MSE_score : -1.1383899994725417\n",
      "    ... done \n",
      "\n",
      "Running XGBoost with params:\n",
      " -- Learning Rate = 0.15      -- n_estimators = 40  -- \n",
      "    with all features...\n",
      "R2_score : 0.39846623194483266\n",
      "MSE_score : -1.1061102390943447\n",
      "    ... done\n",
      "    with 5 features ...\n"
     ]
    },
    {
     "name": "stderr",
     "output_type": "stream",
     "text": [
      "/Users/charlotteweil1/anaconda/envs/spatialenv/lib/python3.6/site-packages/sklearn/utils/__init__.py:93: FutureWarning: Conversion of the second argument of issubdtype from `int` to `np.signedinteger` is deprecated. In future, it will be treated as `np.int64 == np.dtype(int).type`.\n",
      "  if np.issubdtype(mask.dtype, np.int):\n"
     ]
    },
    {
     "name": "stdout",
     "output_type": "stream",
     "text": [
      "R2_score : 0.3854607453131912\n",
      "MSE_score : -1.1310923408639488\n",
      "    ... done \n",
      "\n",
      "Running XGBoost with params:\n",
      " -- Learning Rate = 0.15      -- n_estimators = 55  -- \n",
      "    with all features...\n",
      "R2_score : 0.4154575483035595\n",
      "MSE_score : -1.07463043110042\n",
      "    ... done\n",
      "    with 5 features ...\n"
     ]
    },
    {
     "name": "stderr",
     "output_type": "stream",
     "text": [
      "/Users/charlotteweil1/anaconda/envs/spatialenv/lib/python3.6/site-packages/sklearn/utils/__init__.py:93: FutureWarning: Conversion of the second argument of issubdtype from `int` to `np.signedinteger` is deprecated. In future, it will be treated as `np.int64 == np.dtype(int).type`.\n",
      "  if np.issubdtype(mask.dtype, np.int):\n"
     ]
    },
    {
     "name": "stdout",
     "output_type": "stream",
     "text": [
      "R2_score : 0.41310179920609924\n",
      "MSE_score : -1.0800546155691264\n",
      "    ... done \n",
      "\n",
      "Running XGBoost with params:\n",
      " -- Learning Rate = 0.15      -- n_estimators = 70  -- \n",
      "    with all features...\n",
      "R2_score : 0.424505715740767\n",
      "MSE_score : -1.0577984761219212\n",
      "    ... done\n",
      "    with 5 features ...\n"
     ]
    },
    {
     "name": "stderr",
     "output_type": "stream",
     "text": [
      "/Users/charlotteweil1/anaconda/envs/spatialenv/lib/python3.6/site-packages/sklearn/utils/__init__.py:93: FutureWarning: Conversion of the second argument of issubdtype from `int` to `np.signedinteger` is deprecated. In future, it will be treated as `np.int64 == np.dtype(int).type`.\n",
      "  if np.issubdtype(mask.dtype, np.int):\n"
     ]
    },
    {
     "name": "stdout",
     "output_type": "stream",
     "text": [
      "R2_score : 0.4017216180416604\n",
      "MSE_score : -1.1004231222624874\n",
      "    ... done \n",
      "\n",
      "Running XGBoost with params:\n",
      " -- Learning Rate = 0.15      -- n_estimators = 85  -- \n",
      "    with all features...\n",
      "R2_score : 0.4321958678789656\n",
      "MSE_score : -1.0432812519850299\n",
      "    ... done\n",
      "    with 5 features ...\n"
     ]
    },
    {
     "name": "stderr",
     "output_type": "stream",
     "text": [
      "/Users/charlotteweil1/anaconda/envs/spatialenv/lib/python3.6/site-packages/sklearn/utils/__init__.py:93: FutureWarning: Conversion of the second argument of issubdtype from `int` to `np.signedinteger` is deprecated. In future, it will be treated as `np.int64 == np.dtype(int).type`.\n",
      "  if np.issubdtype(mask.dtype, np.int):\n"
     ]
    },
    {
     "name": "stdout",
     "output_type": "stream",
     "text": [
      "R2_score : 0.38575156556293444\n",
      "MSE_score : -1.1281003735463613\n",
      "    ... done \n",
      "\n",
      "Running XGBoost with params:\n",
      " -- Learning Rate = 0.15      -- n_estimators = 100  -- \n",
      "    with all features...\n",
      "R2_score : 0.44000221969744546\n",
      "MSE_score : -1.0289767715393634\n",
      "    ... done\n",
      "    with 5 features ...\n"
     ]
    },
    {
     "name": "stderr",
     "output_type": "stream",
     "text": [
      "/Users/charlotteweil1/anaconda/envs/spatialenv/lib/python3.6/site-packages/sklearn/utils/__init__.py:93: FutureWarning: Conversion of the second argument of issubdtype from `int` to `np.signedinteger` is deprecated. In future, it will be treated as `np.int64 == np.dtype(int).type`.\n",
      "  if np.issubdtype(mask.dtype, np.int):\n"
     ]
    },
    {
     "name": "stdout",
     "output_type": "stream",
     "text": [
      "R2_score : 0.40599996233563795\n",
      "MSE_score : -1.0923351319583383\n",
      "    ... done \n",
      "\n",
      "Running XGBoost with params:\n",
      " -- Learning Rate = 0.2      -- n_estimators = 40  -- \n",
      "    with all features...\n",
      "R2_score : 0.4148022864868933\n",
      "MSE_score : -1.0752565464183126\n",
      "    ... done\n",
      "    with 5 features ...\n"
     ]
    },
    {
     "name": "stderr",
     "output_type": "stream",
     "text": [
      "/Users/charlotteweil1/anaconda/envs/spatialenv/lib/python3.6/site-packages/sklearn/utils/__init__.py:93: FutureWarning: Conversion of the second argument of issubdtype from `int` to `np.signedinteger` is deprecated. In future, it will be treated as `np.int64 == np.dtype(int).type`.\n",
      "  if np.issubdtype(mask.dtype, np.int):\n"
     ]
    },
    {
     "name": "stdout",
     "output_type": "stream",
     "text": [
      "R2_score : 0.4203652862447863\n",
      "MSE_score : -1.0664630656924234\n",
      "    ... done \n",
      "\n",
      "Running XGBoost with params:\n",
      " -- Learning Rate = 0.2      -- n_estimators = 55  -- \n",
      "    with all features...\n",
      "R2_score : 0.4268735708040213\n",
      "MSE_score : -1.0528041674047812\n",
      "    ... done\n",
      "    with 5 features ...\n"
     ]
    },
    {
     "name": "stderr",
     "output_type": "stream",
     "text": [
      "/Users/charlotteweil1/anaconda/envs/spatialenv/lib/python3.6/site-packages/sklearn/utils/__init__.py:93: FutureWarning: Conversion of the second argument of issubdtype from `int` to `np.signedinteger` is deprecated. In future, it will be treated as `np.int64 == np.dtype(int).type`.\n",
      "  if np.issubdtype(mask.dtype, np.int):\n"
     ]
    },
    {
     "name": "stdout",
     "output_type": "stream",
     "text": [
      "R2_score : 0.38082059970216237\n",
      "MSE_score : -1.1369797256065186\n",
      "    ... done \n",
      "\n",
      "Running XGBoost with params:\n",
      " -- Learning Rate = 0.2      -- n_estimators = 70  -- \n",
      "    with all features...\n",
      "R2_score : 0.43946401597495266\n",
      "MSE_score : -1.0291915563456207\n",
      "    ... done\n",
      "    with 5 features ...\n"
     ]
    },
    {
     "name": "stderr",
     "output_type": "stream",
     "text": [
      "/Users/charlotteweil1/anaconda/envs/spatialenv/lib/python3.6/site-packages/sklearn/utils/__init__.py:93: FutureWarning: Conversion of the second argument of issubdtype from `int` to `np.signedinteger` is deprecated. In future, it will be treated as `np.int64 == np.dtype(int).type`.\n",
      "  if np.issubdtype(mask.dtype, np.int):\n"
     ]
    },
    {
     "name": "stdout",
     "output_type": "stream",
     "text": [
      "R2_score : 0.39950378901551514\n",
      "MSE_score : -1.103668666475499\n",
      "    ... done \n",
      "\n",
      "Running XGBoost with params:\n",
      " -- Learning Rate = 0.2      -- n_estimators = 85  -- \n",
      "    with all features...\n",
      "R2_score : 0.44519683045001096\n",
      "MSE_score : -1.018385333734493\n",
      "    ... done\n",
      "    with 5 features ...\n"
     ]
    },
    {
     "name": "stderr",
     "output_type": "stream",
     "text": [
      "/Users/charlotteweil1/anaconda/envs/spatialenv/lib/python3.6/site-packages/sklearn/utils/__init__.py:93: FutureWarning: Conversion of the second argument of issubdtype from `int` to `np.signedinteger` is deprecated. In future, it will be treated as `np.int64 == np.dtype(int).type`.\n",
      "  if np.issubdtype(mask.dtype, np.int):\n"
     ]
    },
    {
     "name": "stdout",
     "output_type": "stream",
     "text": [
      "R2_score : 0.3972179349533541\n",
      "MSE_score : -1.1065808700047857\n",
      "    ... done \n",
      "\n",
      "Running XGBoost with params:\n",
      " -- Learning Rate = 0.2      -- n_estimators = 100  -- \n",
      "    with all features...\n",
      "R2_score : 0.4517768133687852\n",
      "MSE_score : -1.0055883137860309\n",
      "    ... done\n",
      "    with 5 features ...\n"
     ]
    },
    {
     "name": "stderr",
     "output_type": "stream",
     "text": [
      "/Users/charlotteweil1/anaconda/envs/spatialenv/lib/python3.6/site-packages/sklearn/utils/__init__.py:93: FutureWarning: Conversion of the second argument of issubdtype from `int` to `np.signedinteger` is deprecated. In future, it will be treated as `np.int64 == np.dtype(int).type`.\n",
      "  if np.issubdtype(mask.dtype, np.int):\n"
     ]
    },
    {
     "name": "stdout",
     "output_type": "stream",
     "text": [
      "R2_score : 0.4084606552649526\n",
      "MSE_score : -1.0864325330303806\n",
      "    ... done \n",
      "\n"
     ]
    }
   ],
   "source": [
    "## Testing XGBoost with params -- RESULTS BELOW W/O CLIMATE ZONES\n",
    "\n",
    "model = 'XGB'\n",
    "## First choose: learning_rate, n_estimators\n",
    "for learning_rate in [0.05, 0.1, 0.15, 0.2]:\n",
    "    for n_estimators in [40,55,70,85,100]:\n",
    "        print('Running XGBoost with params:')\n",
    "        print(' -- Learning Rate = ' + str(learning_rate) +' -- n_estimators = ' + str(n_estimators) + '  -- ')\n",
    "        \n",
    "        regression = xgb.XGBRegressor(learning_rate = learning_rate,n_estimators = n_estimators)\n",
    "\n",
    "\n",
    "\n",
    "        # Doing it will all features\n",
    "        print('    with all features...')\n",
    "        num_features = len(df.columns)-2\n",
    "        Features = 'All EXCEPT climzones'\n",
    "        \n",
    "        scores = do_regression(regression,df.drop(['climate_zones'], axis=1))\n",
    "\n",
    "        print('    R2_score : '+str(scores[0]))\n",
    "        print('    MSE_score : '+str(scores[1]))\n",
    "        \n",
    "        R2_score = scores[0]\n",
    "        MSE_score = scores[1]\n",
    "        \n",
    "        xgb_tuning = xgb_tuning.append({'Model': model,\n",
    "                                        'num_features':num_features,'Features':features_selected,\n",
    "                                        'learning_rate':learning_rate,'n_estimators':n_estimators,\n",
    "                                        'R2':R2_score,'MSE':MSE_score},ignore_index=True)\n",
    "\n",
    "        print('    ... done')\n",
    "\n",
    "        # Iterate over ≠ numbers of features\n",
    "        for num_features in range (5,6):\n",
    "\n",
    "            print('    with '+str(num_features)+ ' features ...')\n",
    "\n",
    "            ## RFE - Features selection\n",
    "            selector = RFE(regression, num_features, step=1)\n",
    "\n",
    "            x = df.drop(['calories_per_ha','climate_zones'], axis=1) ## TODO climate_zones encode One Hot Encoder\n",
    "            y = df['calories_per_ha']\n",
    "            X, X_test, Y, Y_test = train_test_split(x, y)\n",
    "\n",
    "            X_RFE = selector.fit_transform(X,Y)\n",
    "\n",
    "            features_selected = [X.columns[feature_pos] for feature_pos in selector.get_support(indices=True)]\n",
    "            features_selected.append('calories_per_ha')\n",
    "            scores = do_regression(regression,df[features_selected])\n",
    "            print('    R2_score : '+str(scores[0]))\n",
    "            print('    MSE_score : '+str(scores[1]))\n",
    "    \n",
    "    \n",
    "            print('    ... done \\n')"
   ]
  },
  {
   "cell_type": "code",
   "execution_count": null,
   "metadata": {},
   "outputs": [],
   "source": [
    "(max_depth=3, learning_rate=0.1, n_estimators=100, silent=True, objective='reg:linear', booster='gbtree', n_jobs=1, nthread=None, gamma=0, min_child_weight=1, max_delta_step=0, subsample=1, colsample_bytree=1, colsample_bylevel=1, reg_alpha=0, reg_lambda=1, scale_pos_weight=1, base_score=0.5, random_state=0, seed=None, missing=None"
   ]
  },
  {
   "cell_type": "code",
   "execution_count": null,
   "metadata": {},
   "outputs": [],
   "source": [
    "## First choose: learning_rate, n_estimators\n",
    "for learning_rate in [0.05, 0.1, 0.15, 0.2]:\n",
    "    for n_estimators in [40,55,70,85,100]:\n",
    "        print(' -- Learning Rate = ' + str(learning_rate) + '      -- n_estimators = ' + str(n_estimators) + '  -- ')\n",
    "        \n",
    "        regression = xgb.XGBRegressor(learning_rate = learning_rate,n_estimators = n_estimators)\n"
   ]
  },
  {
   "cell_type": "code",
   "execution_count": null,
   "metadata": {},
   "outputs": [],
   "source": []
  },
  {
   "cell_type": "code",
   "execution_count": null,
   "metadata": {},
   "outputs": [],
   "source": []
  },
  {
   "cell_type": "code",
   "execution_count": null,
   "metadata": {},
   "outputs": [],
   "source": []
  },
  {
   "cell_type": "code",
   "execution_count": null,
   "metadata": {},
   "outputs": [],
   "source": []
  },
  {
   "cell_type": "code",
   "execution_count": null,
   "metadata": {},
   "outputs": [],
   "source": []
  },
  {
   "cell_type": "code",
   "execution_count": null,
   "metadata": {},
   "outputs": [],
   "source": []
  },
  {
   "cell_type": "code",
   "execution_count": null,
   "metadata": {},
   "outputs": [],
   "source": []
  },
  {
   "cell_type": "code",
   "execution_count": null,
   "metadata": {},
   "outputs": [],
   "source": []
  },
  {
   "cell_type": "code",
   "execution_count": null,
   "metadata": {},
   "outputs": [],
   "source": []
  },
  {
   "cell_type": "code",
   "execution_count": null,
   "metadata": {},
   "outputs": [],
   "source": []
  },
  {
   "cell_type": "code",
   "execution_count": null,
   "metadata": {},
   "outputs": [],
   "source": []
  },
  {
   "cell_type": "code",
   "execution_count": null,
   "metadata": {},
   "outputs": [],
   "source": []
  },
  {
   "cell_type": "code",
   "execution_count": null,
   "metadata": {},
   "outputs": [],
   "source": []
  },
  {
   "cell_type": "markdown",
   "metadata": {},
   "source": [
    "## (Looking at predicted values)"
   ]
  },
  {
   "cell_type": "code",
   "execution_count": null,
   "metadata": {},
   "outputs": [],
   "source": [
    "dataframe = dfLog\n",
    "\n",
    "x = dataframe.drop(['calories_per_ha'], axis=1)\n",
    "y = dataframe['calories_per_ha']\n",
    "X_train, X_test, y_train, y_test = train_test_split(x, y)\n",
    "\n",
    "lr = LinearRegression().fit(X_train, y_train)\n",
    "y_predicted = lr.predict(X_test)"
   ]
  },
  {
   "cell_type": "code",
   "execution_count": null,
   "metadata": {},
   "outputs": [],
   "source": [
    "compare = pd.DataFrame()\n",
    "compare['y_test'] = y_test\n",
    "compare['predicted'] = y_predicted \n",
    "\n",
    "#Bunch of negative values\n",
    "compare"
   ]
  },
  {
   "cell_type": "code",
   "execution_count": null,
   "metadata": {},
   "outputs": [],
   "source": [
    "ax = compare.plot.scatter(x='y_test',y='predicted',s=0.5)\n",
    "ax.plot(ax.get_xlim(), ax.get_xlim(), ls=\"--\", c=\".3\")"
   ]
  },
  {
   "cell_type": "markdown",
   "metadata": {},
   "source": [
    "# 5a' Reproduce Justin's Full reg\n",
    "*  d$precip_2 <- d$precip ^ 2\n",
    "            d$precip_3 <- d$precip ^ 3\n",
    "            d$temperature_2 <- d$temperature ^ 2\n",
    "            d$temperature_3 <- d$temperature ^ 3\n",
    "            d$minutes_to_market_2 <- d$minutes_to_market ^ 2\n",
    "            d$minutes_to_market_3 <- d$minutes_to_market ^ 3\n",
    "            d$gdp_gecon_2 <- d$gdp_gecon ^ 2\n",
    "            d$gdp_gecon_3 <- d$gdp_gecon ^ 3\n",
    "            d$altitude_2 <- d$altitude ^ 2\n",
    "            d$altitude_3 <- d$altitude ^ 3\n",
    "            d$slope_2 <- d$slope ^ 2\n",
    "            d$slope_3 <- d$slope ^ 3\n",
    "            d$crop_suitability_2 <- d$crop_suitability ^ 2\n",
    "            d$crop_suitability_3 <- d$crop_suitability ^ 3"
   ]
  },
  {
   "cell_type": "code",
   "execution_count": null,
   "metadata": {},
   "outputs": [],
   "source": [
    "dfFull = pd.DataFrame.copy(dfLog)\n",
    "\n",
    "#for var in ['precip','temperature','minutes_to_market','gdp_gecon','altitude','slope']:#,'crop_suitability']:\n",
    "for var in ['bio12','bio1','minutes_to_market_5m','gdp_per_capita_2000_5m','altitude','slope']:#,'crop_suitability']:\n",
    "    for i in range(2,4):\n",
    "        dfFull[var+str(i)] = dfFull[var].pow(i)"
   ]
  },
  {
   "cell_type": "code",
   "execution_count": null,
   "metadata": {},
   "outputs": [],
   "source": [
    "#for var in ['precip','temperature','minutes_to_market','gdp_gecon','altitude','slope']:#,'crop_suitability']:\n",
    "for var in ['bio12','bio1','minutes_to_market_5m','gdp_per_capita_2000_5m','altitude','slope']:#,'crop_suitability']:\n",
    "    for i in range(2,4):\n",
    "        dfFull[var+str(i)] = dfFull[var].pow(i)"
   ]
  },
  {
   "cell_type": "code",
   "execution_count": null,
   "metadata": {},
   "outputs": [],
   "source": [
    "dfFull.columns"
   ]
  },
  {
   "cell_type": "code",
   "execution_count": null,
   "metadata": {},
   "outputs": [],
   "source": [
    "linreg(dfFull[['calories_per_ha', 'bio12', 'bio1', 'slope', 'altitude',\n",
    "       'workability_index', 'toxicity_index', 'rooting_conditions_index',\n",
    "       'oxygen_availability_index', 'nutrient_retention_index',\n",
    "       'nutrient_availability_index', 'excess_salts_index', 'gdp_2000',\n",
    "       'gdp_per_capita_2000_5m', 'minutes_to_market_5m','has_ag',\n",
    "       'bio13', 'bio122', 'bio123', 'minutes_to_market_5m2',\n",
    "       'minutes_to_market_5m3', 'gdp_per_capita_2000_5m2',\n",
    "       'gdp_per_capita_2000_5m3', 'altitude2', 'altitude3', 'slope2',\n",
    "       'slope3']]) "
   ]
  },
  {
   "cell_type": "code",
   "execution_count": null,
   "metadata": {},
   "outputs": [],
   "source": [
    "linreg(dfFull) # Without climate zones"
   ]
  },
  {
   "cell_type": "markdown",
   "metadata": {},
   "source": [
    "# 5b Models: XGBoost"
   ]
  },
  {
   "cell_type": "code",
   "execution_count": null,
   "metadata": {},
   "outputs": [],
   "source": [
    "def xgboost_reg(dataframe):\n",
    "    ##Must make dummies for categorical variable climate_zone\n",
    "    #dataframe = pd.get_dummies(dataframe, columns=['climate_zone'])\n",
    "    #Or just drop column if don't want dummies: (put following line under referecning of x)\n",
    "    #x = x.drop(['climate_zone'], axis=1)\n",
    "\n",
    "    x = dataframe.drop(['calories_per_ha'], axis=1)\n",
    "    y = dataframe['calories_per_ha']\n",
    "    \n",
    "\n",
    "    ### XGBoost Regressor\n",
    "    xgbreg = xgb.XGBRegressor(n_estimators=100, learning_rate=0.08, gamma=0, subsample=0.75,\n",
    "                           colsample_bytree=1, max_depth=7)\n",
    "\n",
    "    ### Cross validation R2 score\n",
    "\n",
    "    cv_scores = cross_val_score(xgbreg, x, y, cv=10)\n",
    "\n",
    "    print('Mean R2 score: ', np.mean(cv_scores))"
   ]
  },
  {
   "cell_type": "markdown",
   "metadata": {},
   "source": [
    "##### Without climate zones"
   ]
  },
  {
   "cell_type": "code",
   "execution_count": null,
   "metadata": {},
   "outputs": [],
   "source": [
    "xgboost_reg(dfLog)"
   ]
  },
  {
   "cell_type": "code",
   "execution_count": null,
   "metadata": {},
   "outputs": [],
   "source": [
    "xgboost_reg(dfFull)"
   ]
  },
  {
   "cell_type": "markdown",
   "metadata": {},
   "source": [
    "##### With climate zones"
   ]
  },
  {
   "cell_type": "code",
   "execution_count": null,
   "metadata": {},
   "outputs": [],
   "source": [
    "xgboost_reg(dfLog)"
   ]
  },
  {
   "cell_type": "code",
   "execution_count": null,
   "metadata": {},
   "outputs": [],
   "source": [
    "dataframe = dfLog\n",
    "\n",
    "x = dataframe.drop(['calories_per_ha'], axis=1)\n",
    "y = dataframe['calories_per_ha']\n",
    "X_train, X_test, y_train, y_test = train_test_split(x, y)\n",
    "\n",
    "xgbreg = xgb.XGBRegressor(n_estimators=200, learning_rate=0.08, gamma=1, subsample=0.75,\n",
    "                           colsample_bytree=1, max_depth=7)\n",
    "\n",
    "xg =  xgbreg.fit(X_train, y_train)\n",
    "y_predicted = xg.predict(X_test)\n",
    "\n",
    "compare = pd.DataFrame()\n",
    "compare['y_test'] = y_test\n",
    "compare['predicted'] = y_predicted \n",
    "\n",
    "#Bunch of negative values\n",
    "\n",
    "ax = compare.plot.scatter(x='y_test',y='predicted',s=0.5)\n",
    "ax.plot(ax.get_xlim(), ax.get_xlim(), ls=\"--\", c=\".3\")"
   ]
  },
  {
   "cell_type": "code",
   "execution_count": null,
   "metadata": {},
   "outputs": [],
   "source": [
    "compare"
   ]
  },
  {
   "cell_type": "markdown",
   "metadata": {},
   "source": [
    "# 5c Tobit (censored regression)\n",
    "\n",
    "## from https://github.com/jamesdj/tobit/blob/master/tobit.ipynb"
   ]
  },
  {
   "cell_type": "markdown",
   "metadata": {},
   "source": [
    "from tobit import * --> Learn how to put the next cell tobit.py as a package??"
   ]
  },
  {
   "cell_type": "code",
   "execution_count": null,
   "metadata": {},
   "outputs": [],
   "source": [
    "import math\n",
    "import warnings\n",
    "\n",
    "import numpy as np\n",
    "import pandas as pd\n",
    "from scipy.optimize import minimize\n",
    "import scipy.stats\n",
    "from scipy.special import log_ndtr\n",
    "from sklearn.linear_model import LinearRegression\n",
    "from sklearn.metrics import mean_squared_error, mean_absolute_error\n",
    "\n",
    "\n",
    "def split_left_right_censored(x, y, cens):\n",
    "    counts = cens.value_counts()\n",
    "    if -1 not in counts and 1 not in counts:\n",
    "        warnings.warn(\"No censored observations; use regression methods for uncensored data\")\n",
    "    xs = []\n",
    "    ys = []\n",
    "\n",
    "    for value in [-1, 0, 1]:\n",
    "        if value in counts:\n",
    "            split = cens == value\n",
    "            y_split = np.squeeze(y[split].values)\n",
    "            x_split = x[split].values\n",
    "\n",
    "        else:\n",
    "            y_split, x_split = None, None\n",
    "        xs.append(x_split)\n",
    "        ys.append(y_split)\n",
    "    return xs, ys\n",
    "\n",
    "\n",
    "def tobit_neg_log_likelihood(xs, ys, params):\n",
    "    x_left, x_mid, x_right = xs\n",
    "    y_left, y_mid, y_right = ys\n",
    "\n",
    "    b = params[:-1]\n",
    "    # s = math.exp(params[-1])\n",
    "    s = params[-1]\n",
    "\n",
    "    to_cat = []\n",
    "\n",
    "    cens = False\n",
    "    if y_left is not None:\n",
    "        cens = True\n",
    "        left = (y_left - np.dot(x_left, b))\n",
    "        to_cat.append(left)\n",
    "    if y_right is not None:\n",
    "        cens = True\n",
    "        right = (np.dot(x_right, b) - y_right)\n",
    "        to_cat.append(right)\n",
    "    if cens:\n",
    "        concat_stats = np.concatenate(to_cat, axis=0) / s\n",
    "        log_cum_norm = scipy.stats.norm.logcdf(concat_stats)  # log_ndtr(concat_stats)\n",
    "        cens_sum = log_cum_norm.sum()\n",
    "    else:\n",
    "        cens_sum = 0\n",
    "\n",
    "    if y_mid is not None:\n",
    "        mid_stats = (y_mid - np.dot(x_mid, b)) / s\n",
    "        mid = scipy.stats.norm.logpdf(mid_stats) - math.log(max(np.finfo('float').resolution, s))\n",
    "        mid_sum = mid.sum()\n",
    "    else:\n",
    "        mid_sum = 0\n",
    "\n",
    "    loglik = cens_sum + mid_sum\n",
    "\n",
    "    return - loglik\n",
    "\n",
    "\n",
    "def tobit_neg_log_likelihood_der(xs, ys, params):\n",
    "    x_left, x_mid, x_right = xs\n",
    "    y_left, y_mid, y_right = ys\n",
    "\n",
    "    b = params[:-1]\n",
    "    # s = math.exp(params[-1]) # in censReg, not using chain rule as below; they optimize in terms of log(s)\n",
    "    s = params[-1]\n",
    "\n",
    "    beta_jac = np.zeros(len(b))\n",
    "    sigma_jac = 0\n",
    "\n",
    "    if y_left is not None:\n",
    "        left_stats = (y_left - np.dot(x_left, b)) / s\n",
    "        l_pdf = scipy.stats.norm.logpdf(left_stats)\n",
    "        l_cdf = log_ndtr(left_stats)\n",
    "        left_frac = np.exp(l_pdf - l_cdf)\n",
    "        beta_left = np.dot(left_frac, x_left / s)\n",
    "        beta_jac -= beta_left\n",
    "\n",
    "        left_sigma = np.dot(left_frac, left_stats)\n",
    "        sigma_jac -= left_sigma\n",
    "\n",
    "    if y_right is not None:\n",
    "        right_stats = (np.dot(x_right, b) - y_right) / s\n",
    "        r_pdf = scipy.stats.norm.logpdf(right_stats)\n",
    "        r_cdf = log_ndtr(right_stats)\n",
    "        right_frac = np.exp(r_pdf - r_cdf)\n",
    "        beta_right = np.dot(right_frac, x_right / s)\n",
    "        beta_jac += beta_right\n",
    "\n",
    "        right_sigma = np.dot(right_frac, right_stats)\n",
    "        sigma_jac -= right_sigma\n",
    "\n",
    "    if y_mid is not None:\n",
    "        mid_stats = (y_mid - np.dot(x_mid, b)) / s\n",
    "        beta_mid = np.dot(mid_stats, x_mid / s)\n",
    "        beta_jac += beta_mid\n",
    "\n",
    "        mid_sigma = (np.square(mid_stats) - 1).sum()\n",
    "        sigma_jac += mid_sigma\n",
    "\n",
    "    combo_jac = np.append(beta_jac, sigma_jac / s)  # by chain rule, since the expression above is dloglik/dlogsigma\n",
    "\n",
    "    return -combo_jac\n",
    "\n",
    "\n",
    "class TobitModel:\n",
    "    def __init__(self, fit_intercept=True):\n",
    "        self.fit_intercept = fit_intercept\n",
    "        self.ols_coef_ = None\n",
    "        self.ols_intercept = None\n",
    "        self.coef_ = None\n",
    "        self.intercept_ = None\n",
    "        self.sigma_ = None\n",
    "\n",
    "    def fit(self, x, y, cens, verbose=False):\n",
    "        \"\"\"\n",
    "        Fit a maximum-likelihood Tobit regression\n",
    "        :param x: Pandas DataFrame (n_samples, n_features): Data\n",
    "        :param y: Pandas Series (n_samples,): Target\n",
    "        :param cens: Pandas Series (n_samples,): -1 indicates left-censored samples, 0 for uncensored, 1 for right-censored\n",
    "        :param verbose: boolean, show info from minimization\n",
    "        :return:\n",
    "        \"\"\"\n",
    "        x_copy = x.copy()\n",
    "        if self.fit_intercept:\n",
    "            x_copy.insert(0, 'intercept', 1.0)\n",
    "        else:\n",
    "            x_copy.scale(with_mean=True, with_std=False, copy=False)\n",
    "        init_reg = LinearRegression(fit_intercept=False).fit(x_copy, y)\n",
    "        b0 = init_reg.coef_\n",
    "        y_pred = init_reg.predict(x_copy)\n",
    "        resid = y - y_pred\n",
    "        resid_var = np.var(resid)\n",
    "        s0 = np.sqrt(resid_var)\n",
    "        params0 = np.append(b0, s0)\n",
    "        xs, ys = split_left_right_censored(x_copy, y, cens)\n",
    "\n",
    "        result = minimize(lambda params: tobit_neg_log_likelihood(xs, ys, params), params0, method='BFGS',\n",
    "                          jac=lambda params: tobit_neg_log_likelihood_der(xs, ys, params), options={'disp': verbose})\n",
    "        if verbose:\n",
    "            print(result)\n",
    "        self.ols_coef_ = b0[1:]\n",
    "        self.ols_intercept = b0[0]\n",
    "        if self.fit_intercept:\n",
    "            self.intercept_ = result.x[1]\n",
    "            self.coef_ = result.x[1:-1]\n",
    "        else:\n",
    "            self.coef_ = result.x[:-1]\n",
    "            self.intercept_ = 0\n",
    "        self.sigma_ = result.x[-1]\n",
    "        return self\n",
    "\n",
    "    def predict(self, x):\n",
    "        return self.intercept_ + np.dot(x, self.coef_)\n",
    "\n",
    "    def score(self, x, y, scoring_function=mean_absolute_error):\n",
    "        y_pred = np.dot(x, self.coef_)\n",
    "        return scoring_function(y, y_pred)"
   ]
  },
  {
   "cell_type": "code",
   "execution_count": null,
   "metadata": {},
   "outputs": [],
   "source": [
    "dataframe = dfLog\n",
    "\n",
    "x = dataframe.drop(['calories_per_cell','climate_zone'], axis=1)\n",
    "y = dataframe['calories_per_cell']\n",
    "X_train, X_test, y_train, y_test = train_test_split(x, y)\n",
    "\n",
    "##Unsure about this 'cens' part\n",
    "cens = pd.Series(np.zeros((len(y_train),)))\n",
    "cens[left] = -1\n",
    "cens[right] = 1\n",
    "##See below\n",
    "\n",
    "tob = TobitModel().fit(X_train, y_train,cens)\n",
    "y_predicted = tob.predict(X_test)"
   ]
  },
  {
   "cell_type": "code",
   "execution_count": null,
   "metadata": {},
   "outputs": [],
   "source": [
    "compare = pd.DataFrame()\n",
    "compare['y_test'] = y_test\n",
    "compare['predicted'] = y_predicted \n",
    "\n",
    "#Bunch of negative values"
   ]
  },
  {
   "cell_type": "code",
   "execution_count": null,
   "metadata": {},
   "outputs": [],
   "source": [
    "## WTF? : below"
   ]
  },
  {
   "cell_type": "code",
   "execution_count": null,
   "metadata": {},
   "outputs": [],
   "source": [
    "(len(y))"
   ]
  },
  {
   "cell_type": "code",
   "execution_count": null,
   "metadata": {},
   "outputs": [],
   "source": [
    "cens = pd.Series(np.zeros((20,)))"
   ]
  },
  {
   "cell_type": "code",
   "execution_count": null,
   "metadata": {},
   "outputs": [],
   "source": [
    "cens[left] = -1\n",
    "cens[right] = 1"
   ]
  },
  {
   "cell_type": "code",
   "execution_count": null,
   "metadata": {},
   "outputs": [],
   "source": [
    "cens"
   ]
  },
  {
   "cell_type": "markdown",
   "metadata": {},
   "source": [
    "## from "
   ]
  }
 ],
 "metadata": {
  "kernelspec": {
   "display_name": "Python [conda env:spatialenv]",
   "language": "python",
   "name": "conda-env-spatialenv-py"
  },
  "language_info": {
   "codemirror_mode": {
    "name": "ipython",
    "version": 3
   },
   "file_extension": ".py",
   "mimetype": "text/x-python",
   "name": "python",
   "nbconvert_exporter": "python",
   "pygments_lexer": "ipython3",
   "version": "3.6.5"
  }
 },
 "nbformat": 4,
 "nbformat_minor": 2
}
